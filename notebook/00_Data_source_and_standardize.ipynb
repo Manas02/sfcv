{
 "cells": [
  {
   "metadata": {},
   "cell_type": "markdown",
   "source": "# Step Forward Cross Validation for Bioactivity Prediction",
   "id": "6fbc26c24f605b7e"
  },
  {
   "metadata": {},
   "cell_type": "markdown",
   "source": [
    "# Downloading the Datasets\n",
    "Based on Dataset provided by [Landrum & Riniker's](https://pubs.acs.org/doi/10.1021/acs.jcim.4c00049) `Combining IC50 or Ki Values from Different Sources Is a Source of Significant Noise`\n",
    "\n",
    "[Dataset](https://github.com/rinikerlab/overlapping_assays) can be downloaded from here."
   ],
   "id": "1e3c06e7ec765448"
  },
  {
   "metadata": {
    "ExecuteTime": {
     "end_time": "2025-02-16T16:46:30.785285Z",
     "start_time": "2025-02-16T16:46:30.760070Z"
    }
   },
   "cell_type": "code",
   "source": [
    "%%bash\n",
    "\n",
    "rm -rf ../benchmark/landrum/\n",
    "git clone https://github.com/rinikerlab/overlapping_assays.git ../benchmark/landrum/\n",
    "mkdir -p ../benchmark/data/raw\n",
    "mv ../benchmark/landrum/datasets/Ki_datasets.yaml ../benchmark/data/\n",
    "gzip -d ../benchmark/landrum/datasets/source_data/*Ki.csv.gz\n",
    "mv ../benchmark/landrum/datasets/source_data/*Ki.csv ../benchmark/data/raw/\n",
    "rm -rf ../benchmark/landrum/"
   ],
   "id": "bf2d658d085f075f",
   "outputs": [],
   "execution_count": 12
  },
  {
   "metadata": {},
   "cell_type": "markdown",
   "source": [
    "# Standardizing SMILES\n",
    "Standardize SMILES and report Canonical SMILES, Remove Failed SMILES, Deduplicate them, and Save the results in `benchmark/data/standardized`"
   ],
   "id": "7ee2deb93ae21d94"
  },
  {
   "metadata": {
    "ExecuteTime": {
     "end_time": "2025-02-16T17:06:46.572057Z",
     "start_time": "2025-02-16T17:06:46.552656Z"
    }
   },
   "cell_type": "code",
   "source": [
    "import os\n",
    "\n",
    "import molvs\n",
    "import pandas as pd\n",
    "from rdkit import Chem, RDLogger\n",
    "from tqdm import tqdm"
   ],
   "id": "1f7c9759c840b29a",
   "outputs": [],
   "execution_count": 64
  },
  {
   "metadata": {
    "ExecuteTime": {
     "end_time": "2025-02-16T16:49:09.241813Z",
     "start_time": "2025-02-16T16:49:09.235589Z"
    }
   },
   "cell_type": "code",
   "source": "RDLogger.DisableLog(\"rdApp.*\")",
   "id": "b48469b44a223aa",
   "outputs": [],
   "execution_count": 16
  },
  {
   "metadata": {
    "ExecuteTime": {
     "end_time": "2025-02-16T16:47:12.665519Z",
     "start_time": "2025-02-16T16:47:12.657838Z"
    }
   },
   "cell_type": "code",
   "source": "os.makedirs('../benchmark/data/standardized/', exist_ok=True)",
   "id": "a6fa1cded200bd2d",
   "outputs": [],
   "execution_count": 14
  },
  {
   "metadata": {
    "ExecuteTime": {
     "end_time": "2025-02-16T16:49:29.637813Z",
     "start_time": "2025-02-16T16:49:29.631021Z"
    }
   },
   "cell_type": "code",
   "source": [
    "md = molvs.metal.MetalDisconnector()\n",
    "lfc = molvs.fragment.LargestFragmentChooser()\n",
    "uc = molvs.charge.Uncharger()"
   ],
   "id": "7f0ff064c9a77be7",
   "outputs": [],
   "execution_count": 18
  },
  {
   "metadata": {},
   "cell_type": "markdown",
   "source": [
    "## Note on Standardization of SMILES\n",
    "\n",
    "Standardization is based on checking if the input SMILES (in the dataset) is valid, and then disconnecting the metal(/s), Choosing the largest organic fragment (here, organic means the fragment which has at least one carbon) and finally un-charging the molecule. This molecule then, if valid, is converted into canonical SMILES and returned as a string. If there is any error in this process, None is returned."
   ],
   "id": "1b5630aaeb77bbee"
  },
  {
   "metadata": {
    "ExecuteTime": {
     "end_time": "2025-02-16T16:50:54.389900Z",
     "start_time": "2025-02-16T16:50:54.375216Z"
    }
   },
   "cell_type": "code",
   "source": [
    "def standardize_smiles(smiles):\n",
    "    std_smiles = molvs.standardize.standardize_smiles(smiles)\n",
    "    std_mol = Chem.MolFromSmiles(std_smiles)\n",
    "    std_mol = md.disconnect(std_mol)\n",
    "    std_mol = lfc.choose(std_mol)\n",
    "    std_mol = uc.uncharge(std_mol)\n",
    "    std_smi = Chem.MolToSmiles(std_mol)\n",
    "    if not molvs.validate.validate_smiles(std_smi):\n",
    "        #     std_smi = molvs.standardize.canonicalize_tautomer_smiles(std_smi) # Too Slow\n",
    "        return std_smi"
   ],
   "id": "4fe8f54839eadc6d",
   "outputs": [],
   "execution_count": 20
  },
  {
   "metadata": {
    "ExecuteTime": {
     "end_time": "2025-02-16T17:10:42.670171Z",
     "start_time": "2025-02-16T17:07:29.762300Z"
    }
   },
   "cell_type": "code",
   "source": [
    "for fname in tqdm(os.listdir('../benchmark/data/raw/'), desc=\"standardize\"):\n",
    "    if fname.endswith('.csv'):\n",
    "        df = pd.read_csv(f'../benchmark/data/raw/{fname}')\n",
    "        df[\"standardized_smiles\"] = df[\"canonical_smiles\"].apply(standardize_smiles)\n",
    "        df.dropna(subset=[\"standardized_smiles\"], inplace=True)\n",
    "        df.drop_duplicates(subset=[\"standardized_smiles\"], inplace=True)\n",
    "        df.to_csv(f'../benchmark/data/standardized/{fname}', index=False)"
   ],
   "id": "236e95727a84af2a",
   "outputs": [
    {
     "name": "stderr",
     "output_type": "stream",
     "text": [
      "standardize: 100%|██████████| 120/120 [03:12<00:00,  1.61s/it]\n"
     ]
    }
   ],
   "execution_count": 65
  }
 ],
 "metadata": {
  "kernelspec": {
   "display_name": "Python 3",
   "language": "python",
   "name": "python3"
  },
  "language_info": {
   "codemirror_mode": {
    "name": "ipython",
    "version": 2
   },
   "file_extension": ".py",
   "mimetype": "text/x-python",
   "name": "python",
   "nbconvert_exporter": "python",
   "pygments_lexer": "ipython2",
   "version": "2.7.6"
  }
 },
 "nbformat": 4,
 "nbformat_minor": 5
}
