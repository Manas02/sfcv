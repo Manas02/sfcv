{
 "cells": [
  {
   "cell_type": "markdown",
   "id": "c2e380d4b5a2960d",
   "metadata": {},
   "source": [
    "# Step Forward Cross Validation for Bioactivity Prediction"
   ]
  },
  {
   "cell_type": "markdown",
   "id": "b80107d3bdacb6bd",
   "metadata": {},
   "source": [
    "## Create a table extracting relevant information from the benchmark results"
   ]
  },
  {
   "cell_type": "code",
   "id": "8038347753c45421",
   "metadata": {
    "ExecuteTime": {
     "end_time": "2025-02-24T04:05:31.395461Z",
     "start_time": "2025-02-24T04:05:31.389046Z"
    }
   },
   "source": [
    "import os\n",
    "import re\n",
    "\n",
    "import numpy as np\n",
    "import pandas as pd\n",
    "from sklearn.metrics import r2_score, root_mean_squared_error, mean_absolute_error\n",
    "from tqdm import tqdm"
   ],
   "outputs": [],
   "execution_count": 4
  },
  {
   "cell_type": "code",
   "id": "12c6e0cb0208ddc1",
   "metadata": {
    "ExecuteTime": {
     "end_time": "2025-02-24T04:06:29.750851Z",
     "start_time": "2025-02-24T04:05:59.488680Z"
    }
   },
   "source": [
    "NOVELTY_TC = 0.55\n",
    "data_dir = \"../benchmark/data/results\"\n",
    "fnames = [os.path.join(data_dir, f) for f in os.listdir(data_dir) if f.endswith(\".csv\")]\n",
    "\n",
    "results = []\n",
    "\n",
    "for fname in tqdm(fnames):\n",
    "    df = pd.read_csv(fname)\n",
    "    pred_cols = [i for i in df.columns if i.endswith(\"_regressor_factory\")]\n",
    "    target = os.path.basename(fname).replace(\".csv\", \"\")\n",
    "    if target in [\"target_CHEMBL240-1.IC50\", \"target_CHEMBL240-2.IC50\", \"target_CHEMBL240-3.IC50\"]:\n",
    "        print(target + 'processed with pchembl_value < 5.2')\n",
    "        discovery_func = lambda d: d[\"pchembl_value\"] < 5.2\n",
    "    else:\n",
    "        discovery_func = lambda d: d[\"pchembl_value\"] > 7\n",
    "\n",
    "    split_cache = {}\n",
    "    for pred_col in pred_cols:\n",
    "        match = re.search(r\"(.*?)_Fold_(\\d+)_(.*?)_(.*?)_regressor_factory\", pred_col)\n",
    "        split_type, fold_no, fp, model = match.groups()\n",
    "        split_key = f\"{split_type}_Fold_{fold_no}\"\n",
    "\n",
    "        if split_key in split_cache:\n",
    "            df_test, df_train = split_cache[split_key]\n",
    "        else:\n",
    "            mask_test = df[split_key] == \"Test\"\n",
    "            mask_train = df[split_key] == \"Train\"\n",
    "            df_test = df[mask_test]\n",
    "            df_train = df[mask_train]\n",
    "            split_cache[split_key] = (df_test, df_train)\n",
    "\n",
    "        n_test = df_test.shape[0]\n",
    "        n_train = df_train.shape[0]\n",
    "\n",
    "        train_mean_pchembl = df_train['pchembl_value'].mean()\n",
    "        test_mean_pchembl = df_test['pchembl_value'].mean()\n",
    "\n",
    "        novelty_col = f\"{split_type}_Fold_{fold_no}_{fp}_Tc\"\n",
    "        novelty_mask = df_test[novelty_col] < NOVELTY_TC\n",
    "\n",
    "        discovery_mask = discovery_func(df_test)\n",
    "        total_discovery = discovery_mask.sum()\n",
    "\n",
    "        novel_discovery_mask = novelty_mask & discovery_mask\n",
    "        n_novel = novelty_mask.sum()\n",
    "\n",
    "        err_mask = (np.abs(df_test[pred_col] - df_test[\"pchembl_value\"]) <= 0.5)\n",
    "\n",
    "        novel_disc_within_err = (novel_discovery_mask & err_mask).sum()\n",
    "        disc_within_err = (discovery_mask & err_mask).sum()\n",
    "\n",
    "        y_true = df_test[\"pchembl_value\"].values\n",
    "        y_pred = df_test[pred_col].values\n",
    "        r2 = r2_score(y_true, y_pred)\n",
    "        rmse = root_mean_squared_error(y_true, y_pred)\n",
    "\n",
    "        if novelty_mask.sum() > 0:\n",
    "            novelty_err = mean_absolute_error(\n",
    "                df_test.loc[novelty_mask, \"pchembl_value\"],\n",
    "                df_test.loc[novelty_mask, pred_col]\n",
    "            )\n",
    "        else:\n",
    "            novelty_err = np.nan\n",
    "\n",
    "        discovery_yield = disc_within_err / total_discovery if total_discovery > 0 else 0\n",
    "\n",
    "        results.append({\n",
    "            \"target\": target,\n",
    "            \"split_type\": split_type,\n",
    "            \"fold_no\": fold_no,\n",
    "            \"fingerprint\": fp,\n",
    "            \"model\": model,\n",
    "            \"r2\": r2,\n",
    "            \"rmse\": rmse,\n",
    "            \"novelty_err\": novelty_err,\n",
    "            \"discovery_yield\": discovery_yield,\n",
    "            \"number of discovery compounds\": total_discovery,\n",
    "            \"number of discovery compounds within error range\": disc_within_err,\n",
    "            \"number of novel compounds\": n_novel,\n",
    "            \"number of novel discovery compounds\": novel_discovery_mask.sum(),\n",
    "            \"number of novel discovery compounds within error range\": novel_disc_within_err,\n",
    "            \"number of test compounds\": n_test,\n",
    "            \"number of train compounds\": n_train,\n",
    "            \"mean train pchembl value\": train_mean_pchembl,\n",
    "            \"mean test pchembl value\": test_mean_pchembl\n",
    "        })\n",
    "\n",
    "results_df = pd.DataFrame(results)\n",
    "results_df.to_csv(\"../benchmark/results/tables/results.csv\", index=False)"
   ],
   "outputs": [
    {
     "name": "stderr",
     "output_type": "stream",
     "text": [
      " 25%|██▌       | 17/67 [00:07<00:21,  2.28it/s]"
     ]
    },
    {
     "name": "stdout",
     "output_type": "stream",
     "text": [
      "target_CHEMBL240-1.IC50processed with pchembl_value < 5.2\n"
     ]
    },
    {
     "name": "stderr",
     "output_type": "stream",
     "text": [
      " 94%|█████████▍| 63/67 [00:28<00:01,  2.45it/s]"
     ]
    },
    {
     "name": "stdout",
     "output_type": "stream",
     "text": [
      "target_CHEMBL240-2.IC50processed with pchembl_value < 5.2\n"
     ]
    },
    {
     "name": "stderr",
     "output_type": "stream",
     "text": [
      " 96%|█████████▌| 64/67 [00:28<00:01,  2.46it/s]"
     ]
    },
    {
     "name": "stdout",
     "output_type": "stream",
     "text": [
      "target_CHEMBL240-3.IC50processed with pchembl_value < 5.2\n"
     ]
    },
    {
     "name": "stderr",
     "output_type": "stream",
     "text": [
      "100%|██████████| 67/67 [00:29<00:00,  2.25it/s]\n"
     ]
    }
   ],
   "execution_count": 6
  }
 ],
 "metadata": {
  "kernelspec": {
   "display_name": "Python 3 (ipykernel)",
   "language": "python",
   "name": "python3"
  },
  "language_info": {
   "codemirror_mode": {
    "name": "ipython",
    "version": 3
   },
   "file_extension": ".py",
   "mimetype": "text/x-python",
   "name": "python",
   "nbconvert_exporter": "python",
   "pygments_lexer": "ipython3",
   "version": "3.11.11"
  }
 },
 "nbformat": 4,
 "nbformat_minor": 5
}
