{
 "cells": [
  {
   "metadata": {},
   "cell_type": "markdown",
   "source": "# Step Forward Cross Validation for Bioactivity Prediction",
   "id": "53c8e543c87c1a68"
  },
  {
   "metadata": {},
   "cell_type": "markdown",
   "source": "## Benchmark for hERG, MAP14K and VEGFR2 for 3 fingerprints (ECFP4, RDKit and AtomPair)",
   "id": "a900264e7e991986"
  },
  {
   "metadata": {
    "ExecuteTime": {
     "end_time": "2025-02-18T18:46:56.651336Z",
     "start_time": "2025-02-18T18:46:56.148901Z"
    }
   },
   "cell_type": "code",
   "source": [
    "import os\n",
    "\n",
    "os.chdir('../sfcv/')\n",
    "from datasplit import SortedStepForwardCV, UnsortedStepForwardCV, ScaffoldSplitCV, RandomSplitCV\n",
    "\n",
    "os.chdir('../notebook/')"
   ],
   "id": "61f4364bdfd376c9",
   "outputs": [],
   "execution_count": 1
  },
  {
   "metadata": {
    "ExecuteTime": {
     "end_time": "2025-02-18T18:46:57.675432Z",
     "start_time": "2025-02-18T18:46:56.658745Z"
    }
   },
   "cell_type": "code",
   "source": [
    "import numpy as np\n",
    "import pandas as pd\n",
    "from tqdm import tqdm\n",
    "from rdkit import Chem\n",
    "from rdkit.Chem import rdFingerprintGenerator\n",
    "from xgboost import XGBRegressor\n",
    "from sklearn.neural_network import MLPRegressor\n",
    "from sklearn.ensemble import RandomForestRegressor"
   ],
   "id": "b61fadc6eb4b3692",
   "outputs": [],
   "execution_count": 2
  },
  {
   "metadata": {},
   "cell_type": "markdown",
   "source": "### Fingerprint Calculation",
   "id": "57aea998be6b674d"
  },
  {
   "metadata": {
    "ExecuteTime": {
     "end_time": "2025-02-18T18:46:57.751118Z",
     "start_time": "2025-02-18T18:46:57.748842Z"
    }
   },
   "cell_type": "code",
   "source": [
    "ecfp4gen = rdFingerprintGenerator.GetMorganGenerator(radius=2, fpSize=2048)\n",
    "rdkgen = rdFingerprintGenerator.GetRDKitFPGenerator(fpSize=2048)\n",
    "apgen = rdFingerprintGenerator.GetAtomPairGenerator(fpSize=2048)"
   ],
   "id": "29840a4d33a55703",
   "outputs": [],
   "execution_count": 3
  },
  {
   "metadata": {
    "ExecuteTime": {
     "end_time": "2025-02-18T18:46:57.761381Z",
     "start_time": "2025-02-18T18:46:57.759302Z"
    }
   },
   "cell_type": "code",
   "source": [
    "def compute_ecfp4(smiles: str) -> np.ndarray | None:\n",
    "    mol = Chem.MolFromSmiles(smiles)\n",
    "    if mol:\n",
    "        return ecfp4gen.GetFingerprintAsNumPy(mol)"
   ],
   "id": "3f6c329f27454b22",
   "outputs": [],
   "execution_count": 4
  },
  {
   "metadata": {
    "ExecuteTime": {
     "end_time": "2025-02-18T18:46:57.770935Z",
     "start_time": "2025-02-18T18:46:57.768778Z"
    }
   },
   "cell_type": "code",
   "source": [
    "def compute_rdkit_fp(smiles: str) -> np.ndarray | None:\n",
    "    mol = Chem.MolFromSmiles(smiles)\n",
    "    if mol:\n",
    "        return rdkgen.GetFingerprintAsNumPy(mol)"
   ],
   "id": "2c98e735a66f7d38",
   "outputs": [],
   "execution_count": 5
  },
  {
   "metadata": {
    "ExecuteTime": {
     "end_time": "2025-02-18T18:46:57.835097Z",
     "start_time": "2025-02-18T18:46:57.832743Z"
    }
   },
   "cell_type": "code",
   "source": [
    "def compute_atompair_fp(smiles: str) -> np.ndarray | None:\n",
    "    mol = Chem.MolFromSmiles(smiles)\n",
    "    if mol:\n",
    "        return apgen.GetFingerprintAsNumPy(mol)"
   ],
   "id": "806f861157f69670",
   "outputs": [],
   "execution_count": 6
  },
  {
   "metadata": {},
   "cell_type": "markdown",
   "source": "#### Since, we'll be training on these fingerprints, precomputing these fingerprints and saving them will save some time.",
   "id": "67d7e2b4b765aecc"
  },
  {
   "metadata": {
    "ExecuteTime": {
     "end_time": "2025-02-18T18:46:58.015824Z",
     "start_time": "2025-02-18T18:46:57.859893Z"
    }
   },
   "cell_type": "code",
   "source": [
    "molecule_set = set()\n",
    "\n",
    "for fname in os.listdir(\"../benchmark/data/processed\"):\n",
    "    if fname.endswith(\".csv\"):\n",
    "        df = pd.read_csv(f\"../benchmark/data/processed/{fname}\")\n",
    "        molecule_set |= set(df[\"standardized_smiles\"].unique())"
   ],
   "id": "750050089abe2302",
   "outputs": [],
   "execution_count": 7
  },
  {
   "metadata": {
    "ExecuteTime": {
     "end_time": "2025-02-18T18:46:58.045862Z",
     "start_time": "2025-02-18T18:46:58.040136Z"
    }
   },
   "cell_type": "code",
   "source": "len(molecule_set)",
   "id": "82f2aa857b085bb9",
   "outputs": [
    {
     "data": {
      "text/plain": [
       "38769"
      ]
     },
     "execution_count": 8,
     "metadata": {},
     "output_type": "execute_result"
    }
   ],
   "execution_count": 8
  },
  {
   "metadata": {
    "ExecuteTime": {
     "end_time": "2025-02-18T18:46:58.313293Z",
     "start_time": "2025-02-18T18:46:58.311389Z"
    }
   },
   "cell_type": "code",
   "source": [
    "smi2ecfp4 = {}\n",
    "smi2atompair = {}\n",
    "smi2rdkit = {}"
   ],
   "id": "ce8f415822a67fba",
   "outputs": [],
   "execution_count": 9
  },
  {
   "metadata": {
    "ExecuteTime": {
     "end_time": "2025-02-18T18:47:50.633286Z",
     "start_time": "2025-02-18T18:46:59.192989Z"
    }
   },
   "cell_type": "code",
   "source": [
    "for smi in tqdm(molecule_set, desc=\"Computing Fingerprints\"):\n",
    "    smi2ecfp4[smi] = compute_ecfp4(smi)\n",
    "    smi2atompair[smi] = compute_atompair_fp(smi)\n",
    "    smi2rdkit[smi] = compute_rdkit_fp(smi)"
   ],
   "id": "fca791ea208541dc",
   "outputs": [
    {
     "name": "stderr",
     "output_type": "stream",
     "text": [
      "Computing Fingerprints: 100%|██████████| 38769/38769 [00:51<00:00, 753.98it/s]\n"
     ]
    }
   ],
   "execution_count": 10
  },
  {
   "metadata": {},
   "cell_type": "markdown",
   "source": "## Saving the split columns",
   "id": "96a57ce43013cc02"
  },
  {
   "metadata": {
    "ExecuteTime": {
     "end_time": "2025-02-18T18:47:50.639361Z",
     "start_time": "2025-02-18T18:47:50.637473Z"
    }
   },
   "cell_type": "code",
   "source": "os.makedirs(\"../benchmark/data/final/\", exist_ok=True)",
   "id": "d595ae9b29a0f554",
   "outputs": [],
   "execution_count": 11
  },
  {
   "metadata": {
    "ExecuteTime": {
     "end_time": "2025-02-18T18:47:50.685109Z",
     "start_time": "2025-02-18T18:47:50.681834Z"
    }
   },
   "cell_type": "code",
   "source": [
    "cv_splitters = {\n",
    "    \"RandomSplit\": RandomSplitCV(frac_train=0.9, n_folds=10, seed=69420),\n",
    "    \"ScaffoldSplit\": ScaffoldSplitCV(smiles_col='standardized_smiles', n_folds=10, frac_train=0.9, seed=69420,\n",
    "                                     include_chirality=False),\n",
    "    \"SortedStepForward_LogD\": SortedStepForwardCV(sorting_col=\"LogD\", ideal=2, n_bins=10, ascending=False),\n",
    "    \"SortedStepForward_LogP\": SortedStepForwardCV(sorting_col=\"LogP\", ideal=2, n_bins=10, ascending=False),\n",
    "    \"SortedStepForward_MCE18\": SortedStepForwardCV(sorting_col=\"MCE18\", n_bins=10, ascending=True),\n",
    "    \"UnsortedStepForward\": UnsortedStepForwardCV(n_bins=10, random_state=69420)\n",
    "}"
   ],
   "id": "41dba944a056ad2",
   "outputs": [],
   "execution_count": 12
  },
  {
   "metadata": {
    "ExecuteTime": {
     "end_time": "2025-02-18T18:47:50.727102Z",
     "start_time": "2025-02-18T18:47:50.723929Z"
    }
   },
   "cell_type": "code",
   "source": [
    "def add_cv_split_columns(df, cv_splitters):\n",
    "    df = df.copy()\n",
    "    for split_name, cv_splitter in cv_splitters.items():\n",
    "        for fold_idx, (train_idx, test_idx) in enumerate(cv_splitter.split(df), start=1):\n",
    "            col_name = f\"{split_name}_Fold_{fold_idx}\"\n",
    "            df[col_name] = None\n",
    "            df.loc[train_idx, col_name] = \"Train\"\n",
    "            df.loc[test_idx, col_name] = \"Test\"\n",
    "    return df"
   ],
   "id": "4e55007472b30cda",
   "outputs": [],
   "execution_count": 13
  },
  {
   "metadata": {
    "ExecuteTime": {
     "end_time": "2025-02-18T18:47:50.770857Z",
     "start_time": "2025-02-18T18:47:50.766272Z"
    }
   },
   "cell_type": "code",
   "source": [
    "for fname in tqdm(os.listdir('../benchmark/data/processed/'), desc=\"Processing Splits\"):\n",
    "    if os.path.exists(f\"../benchmark/data/final/{fname}\"):\n",
    "        continue\n",
    "    if fname.endswith('.csv'):\n",
    "        df = pd.read_csv(f\"../benchmark/data/processed/{fname}\")\n",
    "        df = add_cv_split_columns(df, cv_splitters)\n",
    "        df.to_csv(f\"../benchmark/data/final/{fname}\")"
   ],
   "id": "1dec778f5f3aa177",
   "outputs": [
    {
     "name": "stderr",
     "output_type": "stream",
     "text": [
      "Processing Splits: 100%|██████████| 67/67 [00:00<00:00, 90272.52it/s]\n"
     ]
    }
   ],
   "execution_count": 14
  },
  {
   "metadata": {},
   "cell_type": "markdown",
   "source": "## Models",
   "id": "4b1ab2ef4afb0850"
  },
  {
   "metadata": {
    "ExecuteTime": {
     "end_time": "2025-02-18T18:47:50.814706Z",
     "start_time": "2025-02-18T18:47:50.812040Z"
    }
   },
   "cell_type": "code",
   "source": [
    "def mlp_regressor_factory(n_train, random_state=42):\n",
    "    n_hidden = min(25, int(np.sqrt(n_train)))\n",
    "    return MLPRegressor(\n",
    "        hidden_layer_sizes=(n_hidden,), random_state=random_state, max_iter=1000\n",
    "    )"
   ],
   "id": "ef98085dec51d6b0",
   "outputs": [],
   "execution_count": 15
  },
  {
   "metadata": {
    "ExecuteTime": {
     "end_time": "2025-02-18T18:47:50.856237Z",
     "start_time": "2025-02-18T18:47:50.854149Z"
    }
   },
   "cell_type": "code",
   "source": [
    "def xgb_regressor_factory(n_train, random_state=42):\n",
    "    n_estimators = min(25, int(np.sqrt(n_train)))\n",
    "    return XGBRegressor(n_estimators=n_estimators, random_state=random_state)"
   ],
   "id": "1db7cab51faf3fe9",
   "outputs": [],
   "execution_count": 16
  },
  {
   "metadata": {
    "ExecuteTime": {
     "end_time": "2025-02-18T18:47:50.899180Z",
     "start_time": "2025-02-18T18:47:50.896501Z"
    }
   },
   "cell_type": "code",
   "source": [
    "def rf_regressor_factory(n_train, random_state=42):\n",
    "    n_trees = min(25, int(np.sqrt(n_train)))\n",
    "    return RandomForestRegressor(n_estimators=n_trees, random_state=random_state)"
   ],
   "id": "bd4713c108ce5883",
   "outputs": [],
   "execution_count": 17
  },
  {
   "metadata": {
    "ExecuteTime": {
     "end_time": "2025-02-18T18:47:50.943520Z",
     "start_time": "2025-02-18T18:47:50.941289Z"
    }
   },
   "cell_type": "code",
   "source": "regressor_factories = [rf_regressor_factory, xgb_regressor_factory, mlp_regressor_factory]",
   "id": "78b7dcfd888f2f5",
   "outputs": [],
   "execution_count": 18
  },
  {
   "metadata": {
    "ExecuteTime": {
     "end_time": "2025-02-18T18:47:50.986553Z",
     "start_time": "2025-02-18T18:47:50.984109Z"
    }
   },
   "cell_type": "code",
   "source": [
    "def process_regressor(regressor_factory, X_train, y_train, fingerprint_vals):\n",
    "    regressor = regressor_factory(len(X_train))\n",
    "    regressor.fit(X_train, y_train)\n",
    "    y_pred = regressor.predict(np.vstack(fingerprint_vals))\n",
    "    identifier = getattr(regressor_factory, '__name__', str(regressor_factory))\n",
    "    return identifier, y_pred"
   ],
   "id": "6587d538a0e4bec3",
   "outputs": [],
   "execution_count": 19
  },
  {
   "metadata": {},
   "cell_type": "markdown",
   "source": "## Bulk Tanimoto Similarity",
   "id": "fe8f3a3207668605"
  },
  {
   "metadata": {
    "ExecuteTime": {
     "end_time": "2025-02-18T18:47:51.028854Z",
     "start_time": "2025-02-18T18:47:51.026750Z"
    }
   },
   "cell_type": "code",
   "source": [
    "def bulk_tanimoto_similarity(mol_fp: np.ndarray, list_of_fps: np.ndarray) -> np.ndarray:\n",
    "    intersection = np.sum(list_of_fps & mol_fp, axis=1)\n",
    "    union = np.sum(list_of_fps | mol_fp, axis=1)\n",
    "    return intersection / union"
   ],
   "id": "f39974d081dec8c4",
   "outputs": [],
   "execution_count": 20
  },
  {
   "metadata": {},
   "cell_type": "markdown",
   "source": "## Let's Train the models",
   "id": "7bfbdde1557ade7f"
  },
  {
   "metadata": {
    "ExecuteTime": {
     "end_time": "2025-02-18T18:47:51.071565Z",
     "start_time": "2025-02-18T18:47:51.068935Z"
    }
   },
   "cell_type": "code",
   "source": "os.makedirs(\"../benchmark/data/results/\", exist_ok=True)",
   "id": "a1cbe6e5eed635b3",
   "outputs": [],
   "execution_count": 21
  },
  {
   "metadata": {
    "ExecuteTime": {
     "end_time": "2025-02-18T18:47:51.114091Z",
     "start_time": "2025-02-18T18:47:51.112113Z"
    }
   },
   "cell_type": "code",
   "source": [
    "fp2map = {\"ECFP4\": smi2ecfp4,\n",
    "          \"RDKitFP\": smi2rdkit,\n",
    "          \"AtomPairsFP\": smi2atompair}"
   ],
   "id": "3097c8a0a5636ac2",
   "outputs": [],
   "execution_count": 22
  },
  {
   "metadata": {
    "ExecuteTime": {
     "end_time": "2025-02-18T18:59:34.601595Z",
     "start_time": "2025-02-18T18:48:29.124015Z"
    }
   },
   "cell_type": "code",
   "source": [
    "new_columns = {}\n",
    "\n",
    "for fname in tqdm(os.listdir(\"./benchmark/data/final/\"), desc=\"Training\"):\n",
    "    if fname.endswith(\".csv\"):\n",
    "        df = pd.read_csv(f\"./benchmark/data/final/{fname}\")\n",
    "\n",
    "        fold_cols = [i for i in df.columns if \"_Fold_\" in i]\n",
    "        for fold_col in tqdm(fold_cols, desc=\"Processing Splits and Folds\"):\n",
    "            test_mask = df[fold_col] == \"Test\"\n",
    "            train_mask = df[fold_col] == \"Train\"\n",
    "\n",
    "            for fp, mapping in fp2map.items():\n",
    "                df[fp] = df[\"standardized_smiles\"].map(mapping)\n",
    "                test_fps = np.vstack(df.loc[test_mask, fp].values)\n",
    "                train_fps = np.vstack(df.loc[train_mask, fp].values)\n",
    "                max_tcs = [\n",
    "                    max(bulk_tanimoto_similarity(test_fp, train_fps))\n",
    "                    for test_fp in test_fps\n",
    "                ]\n",
    "                tc_series = pd.Series(data=max_tcs, index=df.loc[test_mask].index)\n",
    "                new_columns[f\"{fold_col}_{fp}_Tc\"] = tc_series\n",
    "                X_train = np.vstack(df.loc[train_mask, fp].values)\n",
    "                y_train = df.loc[train_mask, \"pchembl_value\"].values\n",
    "                X = np.vstack(df[fp].values)\n",
    "\n",
    "                for regressor_factory in regressor_factories:\n",
    "                    model_name, preds = process_regressor(\n",
    "                        regressor_factory, X_train, y_train, X\n",
    "                    )\n",
    "                    new_col_name = f\"{fold_col}_{fp}_{model_name}\"\n",
    "                    new_columns[new_col_name] = preds\n",
    "\n",
    "        if new_columns:\n",
    "            new_cols_df = pd.DataFrame(new_columns, index=df.index)\n",
    "            df = pd.concat([df, new_cols_df], axis=1)\n",
    "\n",
    "        df.to_csv(f\"./benchmark/data/results/{fname}\")"
   ],
   "id": "27d4c47a78878d86",
   "outputs": [
    {
     "name": "stderr",
     "output_type": "stream",
     "text": [
      "Training:   0%|          | 0/67 [00:00<?, ?it/s]\n",
      "Processing Splits and Folds:   0%|          | 0/54 [00:00<?, ?it/s]\u001B[A\n",
      "Processing Splits and Folds:   2%|▏         | 1/54 [00:33<29:35, 33.50s/it]\u001B[A\n",
      "Processing Splits and Folds:   4%|▎         | 2/54 [01:06<28:50, 33.27s/it]\u001B[A\n",
      "Processing Splits and Folds:   6%|▌         | 3/54 [01:39<28:03, 33.01s/it]\u001B[A\n",
      "Processing Splits and Folds:   7%|▋         | 4/54 [02:09<26:39, 32.00s/it]\u001B[A\n",
      "Processing Splits and Folds:   9%|▉         | 5/54 [02:36<24:38, 30.16s/it]\u001B[A\n",
      "Processing Splits and Folds:  11%|█         | 6/54 [03:01<22:41, 28.36s/it]\u001B[A\n",
      "Processing Splits and Folds:  13%|█▎        | 7/54 [03:27<21:38, 27.62s/it]\u001B[A/var/folders/nj/v2qpgqmx5v95v_p1dzfj62yr0000gn/T/ipykernel_80968/1484418075.py:23: PerformanceWarning: DataFrame is highly fragmented.  This is usually the result of calling `frame.insert` many times, which has poor performance.  Consider joining all columns at once using pd.concat(axis=1) instead. To get a de-fragmented frame, use `newframe = frame.copy()`\n",
      "  df[f'{fold_col}_{fp}_{model_name}'] = preds\n",
      "/var/folders/nj/v2qpgqmx5v95v_p1dzfj62yr0000gn/T/ipykernel_80968/1484418075.py:23: PerformanceWarning: DataFrame is highly fragmented.  This is usually the result of calling `frame.insert` many times, which has poor performance.  Consider joining all columns at once using pd.concat(axis=1) instead. To get a de-fragmented frame, use `newframe = frame.copy()`\n",
      "  df[f'{fold_col}_{fp}_{model_name}'] = preds\n",
      "\n",
      "Processing Splits and Folds:  15%|█▍        | 8/54 [03:55<21:10, 27.62s/it]\u001B[A/var/folders/nj/v2qpgqmx5v95v_p1dzfj62yr0000gn/T/ipykernel_80968/1484418075.py:15: PerformanceWarning: DataFrame is highly fragmented.  This is usually the result of calling `frame.insert` many times, which has poor performance.  Consider joining all columns at once using pd.concat(axis=1) instead. To get a de-fragmented frame, use `newframe = frame.copy()`\n",
      "  df.loc[test_mask, f\"{fold_col}_{fp}_Tc\"] = max_tcs\n",
      "/var/folders/nj/v2qpgqmx5v95v_p1dzfj62yr0000gn/T/ipykernel_80968/1484418075.py:23: PerformanceWarning: DataFrame is highly fragmented.  This is usually the result of calling `frame.insert` many times, which has poor performance.  Consider joining all columns at once using pd.concat(axis=1) instead. To get a de-fragmented frame, use `newframe = frame.copy()`\n",
      "  df[f'{fold_col}_{fp}_{model_name}'] = preds\n",
      "/var/folders/nj/v2qpgqmx5v95v_p1dzfj62yr0000gn/T/ipykernel_80968/1484418075.py:23: PerformanceWarning: DataFrame is highly fragmented.  This is usually the result of calling `frame.insert` many times, which has poor performance.  Consider joining all columns at once using pd.concat(axis=1) instead. To get a de-fragmented frame, use `newframe = frame.copy()`\n",
      "  df[f'{fold_col}_{fp}_{model_name}'] = preds\n",
      "/var/folders/nj/v2qpgqmx5v95v_p1dzfj62yr0000gn/T/ipykernel_80968/1484418075.py:23: PerformanceWarning: DataFrame is highly fragmented.  This is usually the result of calling `frame.insert` many times, which has poor performance.  Consider joining all columns at once using pd.concat(axis=1) instead. To get a de-fragmented frame, use `newframe = frame.copy()`\n",
      "  df[f'{fold_col}_{fp}_{model_name}'] = preds\n",
      "/var/folders/nj/v2qpgqmx5v95v_p1dzfj62yr0000gn/T/ipykernel_80968/1484418075.py:15: PerformanceWarning: DataFrame is highly fragmented.  This is usually the result of calling `frame.insert` many times, which has poor performance.  Consider joining all columns at once using pd.concat(axis=1) instead. To get a de-fragmented frame, use `newframe = frame.copy()`\n",
      "  df.loc[test_mask, f\"{fold_col}_{fp}_Tc\"] = max_tcs\n",
      "/var/folders/nj/v2qpgqmx5v95v_p1dzfj62yr0000gn/T/ipykernel_80968/1484418075.py:23: PerformanceWarning: DataFrame is highly fragmented.  This is usually the result of calling `frame.insert` many times, which has poor performance.  Consider joining all columns at once using pd.concat(axis=1) instead. To get a de-fragmented frame, use `newframe = frame.copy()`\n",
      "  df[f'{fold_col}_{fp}_{model_name}'] = preds\n",
      "/var/folders/nj/v2qpgqmx5v95v_p1dzfj62yr0000gn/T/ipykernel_80968/1484418075.py:23: PerformanceWarning: DataFrame is highly fragmented.  This is usually the result of calling `frame.insert` many times, which has poor performance.  Consider joining all columns at once using pd.concat(axis=1) instead. To get a de-fragmented frame, use `newframe = frame.copy()`\n",
      "  df[f'{fold_col}_{fp}_{model_name}'] = preds\n",
      "/var/folders/nj/v2qpgqmx5v95v_p1dzfj62yr0000gn/T/ipykernel_80968/1484418075.py:23: PerformanceWarning: DataFrame is highly fragmented.  This is usually the result of calling `frame.insert` many times, which has poor performance.  Consider joining all columns at once using pd.concat(axis=1) instead. To get a de-fragmented frame, use `newframe = frame.copy()`\n",
      "  df[f'{fold_col}_{fp}_{model_name}'] = preds\n",
      "/var/folders/nj/v2qpgqmx5v95v_p1dzfj62yr0000gn/T/ipykernel_80968/1484418075.py:15: PerformanceWarning: DataFrame is highly fragmented.  This is usually the result of calling `frame.insert` many times, which has poor performance.  Consider joining all columns at once using pd.concat(axis=1) instead. To get a de-fragmented frame, use `newframe = frame.copy()`\n",
      "  df.loc[test_mask, f\"{fold_col}_{fp}_Tc\"] = max_tcs\n",
      "/var/folders/nj/v2qpgqmx5v95v_p1dzfj62yr0000gn/T/ipykernel_80968/1484418075.py:23: PerformanceWarning: DataFrame is highly fragmented.  This is usually the result of calling `frame.insert` many times, which has poor performance.  Consider joining all columns at once using pd.concat(axis=1) instead. To get a de-fragmented frame, use `newframe = frame.copy()`\n",
      "  df[f'{fold_col}_{fp}_{model_name}'] = preds\n",
      "/var/folders/nj/v2qpgqmx5v95v_p1dzfj62yr0000gn/T/ipykernel_80968/1484418075.py:23: PerformanceWarning: DataFrame is highly fragmented.  This is usually the result of calling `frame.insert` many times, which has poor performance.  Consider joining all columns at once using pd.concat(axis=1) instead. To get a de-fragmented frame, use `newframe = frame.copy()`\n",
      "  df[f'{fold_col}_{fp}_{model_name}'] = preds\n",
      "/var/folders/nj/v2qpgqmx5v95v_p1dzfj62yr0000gn/T/ipykernel_80968/1484418075.py:23: PerformanceWarning: DataFrame is highly fragmented.  This is usually the result of calling `frame.insert` many times, which has poor performance.  Consider joining all columns at once using pd.concat(axis=1) instead. To get a de-fragmented frame, use `newframe = frame.copy()`\n",
      "  df[f'{fold_col}_{fp}_{model_name}'] = preds\n",
      "\n",
      "Processing Splits and Folds:  17%|█▋        | 9/54 [04:31<22:46, 30.37s/it]\u001B[A/var/folders/nj/v2qpgqmx5v95v_p1dzfj62yr0000gn/T/ipykernel_80968/1484418075.py:15: PerformanceWarning: DataFrame is highly fragmented.  This is usually the result of calling `frame.insert` many times, which has poor performance.  Consider joining all columns at once using pd.concat(axis=1) instead. To get a de-fragmented frame, use `newframe = frame.copy()`\n",
      "  df.loc[test_mask, f\"{fold_col}_{fp}_Tc\"] = max_tcs\n",
      "/var/folders/nj/v2qpgqmx5v95v_p1dzfj62yr0000gn/T/ipykernel_80968/1484418075.py:23: PerformanceWarning: DataFrame is highly fragmented.  This is usually the result of calling `frame.insert` many times, which has poor performance.  Consider joining all columns at once using pd.concat(axis=1) instead. To get a de-fragmented frame, use `newframe = frame.copy()`\n",
      "  df[f'{fold_col}_{fp}_{model_name}'] = preds\n",
      "/var/folders/nj/v2qpgqmx5v95v_p1dzfj62yr0000gn/T/ipykernel_80968/1484418075.py:23: PerformanceWarning: DataFrame is highly fragmented.  This is usually the result of calling `frame.insert` many times, which has poor performance.  Consider joining all columns at once using pd.concat(axis=1) instead. To get a de-fragmented frame, use `newframe = frame.copy()`\n",
      "  df[f'{fold_col}_{fp}_{model_name}'] = preds\n",
      "/var/folders/nj/v2qpgqmx5v95v_p1dzfj62yr0000gn/T/ipykernel_80968/1484418075.py:23: PerformanceWarning: DataFrame is highly fragmented.  This is usually the result of calling `frame.insert` many times, which has poor performance.  Consider joining all columns at once using pd.concat(axis=1) instead. To get a de-fragmented frame, use `newframe = frame.copy()`\n",
      "  df[f'{fold_col}_{fp}_{model_name}'] = preds\n",
      "/var/folders/nj/v2qpgqmx5v95v_p1dzfj62yr0000gn/T/ipykernel_80968/1484418075.py:15: PerformanceWarning: DataFrame is highly fragmented.  This is usually the result of calling `frame.insert` many times, which has poor performance.  Consider joining all columns at once using pd.concat(axis=1) instead. To get a de-fragmented frame, use `newframe = frame.copy()`\n",
      "  df.loc[test_mask, f\"{fold_col}_{fp}_Tc\"] = max_tcs\n",
      "/var/folders/nj/v2qpgqmx5v95v_p1dzfj62yr0000gn/T/ipykernel_80968/1484418075.py:23: PerformanceWarning: DataFrame is highly fragmented.  This is usually the result of calling `frame.insert` many times, which has poor performance.  Consider joining all columns at once using pd.concat(axis=1) instead. To get a de-fragmented frame, use `newframe = frame.copy()`\n",
      "  df[f'{fold_col}_{fp}_{model_name}'] = preds\n",
      "/var/folders/nj/v2qpgqmx5v95v_p1dzfj62yr0000gn/T/ipykernel_80968/1484418075.py:23: PerformanceWarning: DataFrame is highly fragmented.  This is usually the result of calling `frame.insert` many times, which has poor performance.  Consider joining all columns at once using pd.concat(axis=1) instead. To get a de-fragmented frame, use `newframe = frame.copy()`\n",
      "  df[f'{fold_col}_{fp}_{model_name}'] = preds\n",
      "/var/folders/nj/v2qpgqmx5v95v_p1dzfj62yr0000gn/T/ipykernel_80968/1484418075.py:23: PerformanceWarning: DataFrame is highly fragmented.  This is usually the result of calling `frame.insert` many times, which has poor performance.  Consider joining all columns at once using pd.concat(axis=1) instead. To get a de-fragmented frame, use `newframe = frame.copy()`\n",
      "  df[f'{fold_col}_{fp}_{model_name}'] = preds\n",
      "/var/folders/nj/v2qpgqmx5v95v_p1dzfj62yr0000gn/T/ipykernel_80968/1484418075.py:15: PerformanceWarning: DataFrame is highly fragmented.  This is usually the result of calling `frame.insert` many times, which has poor performance.  Consider joining all columns at once using pd.concat(axis=1) instead. To get a de-fragmented frame, use `newframe = frame.copy()`\n",
      "  df.loc[test_mask, f\"{fold_col}_{fp}_Tc\"] = max_tcs\n",
      "/var/folders/nj/v2qpgqmx5v95v_p1dzfj62yr0000gn/T/ipykernel_80968/1484418075.py:23: PerformanceWarning: DataFrame is highly fragmented.  This is usually the result of calling `frame.insert` many times, which has poor performance.  Consider joining all columns at once using pd.concat(axis=1) instead. To get a de-fragmented frame, use `newframe = frame.copy()`\n",
      "  df[f'{fold_col}_{fp}_{model_name}'] = preds\n",
      "/var/folders/nj/v2qpgqmx5v95v_p1dzfj62yr0000gn/T/ipykernel_80968/1484418075.py:23: PerformanceWarning: DataFrame is highly fragmented.  This is usually the result of calling `frame.insert` many times, which has poor performance.  Consider joining all columns at once using pd.concat(axis=1) instead. To get a de-fragmented frame, use `newframe = frame.copy()`\n",
      "  df[f'{fold_col}_{fp}_{model_name}'] = preds\n",
      "/var/folders/nj/v2qpgqmx5v95v_p1dzfj62yr0000gn/T/ipykernel_80968/1484418075.py:23: PerformanceWarning: DataFrame is highly fragmented.  This is usually the result of calling `frame.insert` many times, which has poor performance.  Consider joining all columns at once using pd.concat(axis=1) instead. To get a de-fragmented frame, use `newframe = frame.copy()`\n",
      "  df[f'{fold_col}_{fp}_{model_name}'] = preds\n",
      "\n",
      "Processing Splits and Folds:  19%|█▊        | 10/54 [05:01<22:03, 30.07s/it]\u001B[A/var/folders/nj/v2qpgqmx5v95v_p1dzfj62yr0000gn/T/ipykernel_80968/1484418075.py:15: PerformanceWarning: DataFrame is highly fragmented.  This is usually the result of calling `frame.insert` many times, which has poor performance.  Consider joining all columns at once using pd.concat(axis=1) instead. To get a de-fragmented frame, use `newframe = frame.copy()`\n",
      "  df.loc[test_mask, f\"{fold_col}_{fp}_Tc\"] = max_tcs\n",
      "/var/folders/nj/v2qpgqmx5v95v_p1dzfj62yr0000gn/T/ipykernel_80968/1484418075.py:23: PerformanceWarning: DataFrame is highly fragmented.  This is usually the result of calling `frame.insert` many times, which has poor performance.  Consider joining all columns at once using pd.concat(axis=1) instead. To get a de-fragmented frame, use `newframe = frame.copy()`\n",
      "  df[f'{fold_col}_{fp}_{model_name}'] = preds\n",
      "/var/folders/nj/v2qpgqmx5v95v_p1dzfj62yr0000gn/T/ipykernel_80968/1484418075.py:23: PerformanceWarning: DataFrame is highly fragmented.  This is usually the result of calling `frame.insert` many times, which has poor performance.  Consider joining all columns at once using pd.concat(axis=1) instead. To get a de-fragmented frame, use `newframe = frame.copy()`\n",
      "  df[f'{fold_col}_{fp}_{model_name}'] = preds\n",
      "/var/folders/nj/v2qpgqmx5v95v_p1dzfj62yr0000gn/T/ipykernel_80968/1484418075.py:23: PerformanceWarning: DataFrame is highly fragmented.  This is usually the result of calling `frame.insert` many times, which has poor performance.  Consider joining all columns at once using pd.concat(axis=1) instead. To get a de-fragmented frame, use `newframe = frame.copy()`\n",
      "  df[f'{fold_col}_{fp}_{model_name}'] = preds\n",
      "/var/folders/nj/v2qpgqmx5v95v_p1dzfj62yr0000gn/T/ipykernel_80968/1484418075.py:15: PerformanceWarning: DataFrame is highly fragmented.  This is usually the result of calling `frame.insert` many times, which has poor performance.  Consider joining all columns at once using pd.concat(axis=1) instead. To get a de-fragmented frame, use `newframe = frame.copy()`\n",
      "  df.loc[test_mask, f\"{fold_col}_{fp}_Tc\"] = max_tcs\n",
      "/var/folders/nj/v2qpgqmx5v95v_p1dzfj62yr0000gn/T/ipykernel_80968/1484418075.py:23: PerformanceWarning: DataFrame is highly fragmented.  This is usually the result of calling `frame.insert` many times, which has poor performance.  Consider joining all columns at once using pd.concat(axis=1) instead. To get a de-fragmented frame, use `newframe = frame.copy()`\n",
      "  df[f'{fold_col}_{fp}_{model_name}'] = preds\n",
      "/var/folders/nj/v2qpgqmx5v95v_p1dzfj62yr0000gn/T/ipykernel_80968/1484418075.py:23: PerformanceWarning: DataFrame is highly fragmented.  This is usually the result of calling `frame.insert` many times, which has poor performance.  Consider joining all columns at once using pd.concat(axis=1) instead. To get a de-fragmented frame, use `newframe = frame.copy()`\n",
      "  df[f'{fold_col}_{fp}_{model_name}'] = preds\n",
      "/var/folders/nj/v2qpgqmx5v95v_p1dzfj62yr0000gn/T/ipykernel_80968/1484418075.py:23: PerformanceWarning: DataFrame is highly fragmented.  This is usually the result of calling `frame.insert` many times, which has poor performance.  Consider joining all columns at once using pd.concat(axis=1) instead. To get a de-fragmented frame, use `newframe = frame.copy()`\n",
      "  df[f'{fold_col}_{fp}_{model_name}'] = preds\n",
      "/var/folders/nj/v2qpgqmx5v95v_p1dzfj62yr0000gn/T/ipykernel_80968/1484418075.py:15: PerformanceWarning: DataFrame is highly fragmented.  This is usually the result of calling `frame.insert` many times, which has poor performance.  Consider joining all columns at once using pd.concat(axis=1) instead. To get a de-fragmented frame, use `newframe = frame.copy()`\n",
      "  df.loc[test_mask, f\"{fold_col}_{fp}_Tc\"] = max_tcs\n",
      "/var/folders/nj/v2qpgqmx5v95v_p1dzfj62yr0000gn/T/ipykernel_80968/1484418075.py:23: PerformanceWarning: DataFrame is highly fragmented.  This is usually the result of calling `frame.insert` many times, which has poor performance.  Consider joining all columns at once using pd.concat(axis=1) instead. To get a de-fragmented frame, use `newframe = frame.copy()`\n",
      "  df[f'{fold_col}_{fp}_{model_name}'] = preds\n",
      "/var/folders/nj/v2qpgqmx5v95v_p1dzfj62yr0000gn/T/ipykernel_80968/1484418075.py:23: PerformanceWarning: DataFrame is highly fragmented.  This is usually the result of calling `frame.insert` many times, which has poor performance.  Consider joining all columns at once using pd.concat(axis=1) instead. To get a de-fragmented frame, use `newframe = frame.copy()`\n",
      "  df[f'{fold_col}_{fp}_{model_name}'] = preds\n",
      "/var/folders/nj/v2qpgqmx5v95v_p1dzfj62yr0000gn/T/ipykernel_80968/1484418075.py:23: PerformanceWarning: DataFrame is highly fragmented.  This is usually the result of calling `frame.insert` many times, which has poor performance.  Consider joining all columns at once using pd.concat(axis=1) instead. To get a de-fragmented frame, use `newframe = frame.copy()`\n",
      "  df[f'{fold_col}_{fp}_{model_name}'] = preds\n",
      "\n",
      "Processing Splits and Folds:  20%|██        | 11/54 [05:23<19:57, 27.85s/it]\u001B[A/var/folders/nj/v2qpgqmx5v95v_p1dzfj62yr0000gn/T/ipykernel_80968/1484418075.py:15: PerformanceWarning: DataFrame is highly fragmented.  This is usually the result of calling `frame.insert` many times, which has poor performance.  Consider joining all columns at once using pd.concat(axis=1) instead. To get a de-fragmented frame, use `newframe = frame.copy()`\n",
      "  df.loc[test_mask, f\"{fold_col}_{fp}_Tc\"] = max_tcs\n",
      "/var/folders/nj/v2qpgqmx5v95v_p1dzfj62yr0000gn/T/ipykernel_80968/1484418075.py:23: PerformanceWarning: DataFrame is highly fragmented.  This is usually the result of calling `frame.insert` many times, which has poor performance.  Consider joining all columns at once using pd.concat(axis=1) instead. To get a de-fragmented frame, use `newframe = frame.copy()`\n",
      "  df[f'{fold_col}_{fp}_{model_name}'] = preds\n",
      "/var/folders/nj/v2qpgqmx5v95v_p1dzfj62yr0000gn/T/ipykernel_80968/1484418075.py:23: PerformanceWarning: DataFrame is highly fragmented.  This is usually the result of calling `frame.insert` many times, which has poor performance.  Consider joining all columns at once using pd.concat(axis=1) instead. To get a de-fragmented frame, use `newframe = frame.copy()`\n",
      "  df[f'{fold_col}_{fp}_{model_name}'] = preds\n",
      "/var/folders/nj/v2qpgqmx5v95v_p1dzfj62yr0000gn/T/ipykernel_80968/1484418075.py:23: PerformanceWarning: DataFrame is highly fragmented.  This is usually the result of calling `frame.insert` many times, which has poor performance.  Consider joining all columns at once using pd.concat(axis=1) instead. To get a de-fragmented frame, use `newframe = frame.copy()`\n",
      "  df[f'{fold_col}_{fp}_{model_name}'] = preds\n",
      "/var/folders/nj/v2qpgqmx5v95v_p1dzfj62yr0000gn/T/ipykernel_80968/1484418075.py:15: PerformanceWarning: DataFrame is highly fragmented.  This is usually the result of calling `frame.insert` many times, which has poor performance.  Consider joining all columns at once using pd.concat(axis=1) instead. To get a de-fragmented frame, use `newframe = frame.copy()`\n",
      "  df.loc[test_mask, f\"{fold_col}_{fp}_Tc\"] = max_tcs\n",
      "/var/folders/nj/v2qpgqmx5v95v_p1dzfj62yr0000gn/T/ipykernel_80968/1484418075.py:23: PerformanceWarning: DataFrame is highly fragmented.  This is usually the result of calling `frame.insert` many times, which has poor performance.  Consider joining all columns at once using pd.concat(axis=1) instead. To get a de-fragmented frame, use `newframe = frame.copy()`\n",
      "  df[f'{fold_col}_{fp}_{model_name}'] = preds\n",
      "/var/folders/nj/v2qpgqmx5v95v_p1dzfj62yr0000gn/T/ipykernel_80968/1484418075.py:23: PerformanceWarning: DataFrame is highly fragmented.  This is usually the result of calling `frame.insert` many times, which has poor performance.  Consider joining all columns at once using pd.concat(axis=1) instead. To get a de-fragmented frame, use `newframe = frame.copy()`\n",
      "  df[f'{fold_col}_{fp}_{model_name}'] = preds\n",
      "/var/folders/nj/v2qpgqmx5v95v_p1dzfj62yr0000gn/T/ipykernel_80968/1484418075.py:23: PerformanceWarning: DataFrame is highly fragmented.  This is usually the result of calling `frame.insert` many times, which has poor performance.  Consider joining all columns at once using pd.concat(axis=1) instead. To get a de-fragmented frame, use `newframe = frame.copy()`\n",
      "  df[f'{fold_col}_{fp}_{model_name}'] = preds\n",
      "/var/folders/nj/v2qpgqmx5v95v_p1dzfj62yr0000gn/T/ipykernel_80968/1484418075.py:15: PerformanceWarning: DataFrame is highly fragmented.  This is usually the result of calling `frame.insert` many times, which has poor performance.  Consider joining all columns at once using pd.concat(axis=1) instead. To get a de-fragmented frame, use `newframe = frame.copy()`\n",
      "  df.loc[test_mask, f\"{fold_col}_{fp}_Tc\"] = max_tcs\n",
      "/var/folders/nj/v2qpgqmx5v95v_p1dzfj62yr0000gn/T/ipykernel_80968/1484418075.py:23: PerformanceWarning: DataFrame is highly fragmented.  This is usually the result of calling `frame.insert` many times, which has poor performance.  Consider joining all columns at once using pd.concat(axis=1) instead. To get a de-fragmented frame, use `newframe = frame.copy()`\n",
      "  df[f'{fold_col}_{fp}_{model_name}'] = preds\n",
      "/var/folders/nj/v2qpgqmx5v95v_p1dzfj62yr0000gn/T/ipykernel_80968/1484418075.py:23: PerformanceWarning: DataFrame is highly fragmented.  This is usually the result of calling `frame.insert` many times, which has poor performance.  Consider joining all columns at once using pd.concat(axis=1) instead. To get a de-fragmented frame, use `newframe = frame.copy()`\n",
      "  df[f'{fold_col}_{fp}_{model_name}'] = preds\n",
      "/var/folders/nj/v2qpgqmx5v95v_p1dzfj62yr0000gn/T/ipykernel_80968/1484418075.py:23: PerformanceWarning: DataFrame is highly fragmented.  This is usually the result of calling `frame.insert` many times, which has poor performance.  Consider joining all columns at once using pd.concat(axis=1) instead. To get a de-fragmented frame, use `newframe = frame.copy()`\n",
      "  df[f'{fold_col}_{fp}_{model_name}'] = preds\n",
      "\n",
      "Processing Splits and Folds:  22%|██▏       | 12/54 [05:49<18:58, 27.10s/it]\u001B[A/var/folders/nj/v2qpgqmx5v95v_p1dzfj62yr0000gn/T/ipykernel_80968/1484418075.py:15: PerformanceWarning: DataFrame is highly fragmented.  This is usually the result of calling `frame.insert` many times, which has poor performance.  Consider joining all columns at once using pd.concat(axis=1) instead. To get a de-fragmented frame, use `newframe = frame.copy()`\n",
      "  df.loc[test_mask, f\"{fold_col}_{fp}_Tc\"] = max_tcs\n",
      "/var/folders/nj/v2qpgqmx5v95v_p1dzfj62yr0000gn/T/ipykernel_80968/1484418075.py:23: PerformanceWarning: DataFrame is highly fragmented.  This is usually the result of calling `frame.insert` many times, which has poor performance.  Consider joining all columns at once using pd.concat(axis=1) instead. To get a de-fragmented frame, use `newframe = frame.copy()`\n",
      "  df[f'{fold_col}_{fp}_{model_name}'] = preds\n",
      "/var/folders/nj/v2qpgqmx5v95v_p1dzfj62yr0000gn/T/ipykernel_80968/1484418075.py:23: PerformanceWarning: DataFrame is highly fragmented.  This is usually the result of calling `frame.insert` many times, which has poor performance.  Consider joining all columns at once using pd.concat(axis=1) instead. To get a de-fragmented frame, use `newframe = frame.copy()`\n",
      "  df[f'{fold_col}_{fp}_{model_name}'] = preds\n",
      "/var/folders/nj/v2qpgqmx5v95v_p1dzfj62yr0000gn/T/ipykernel_80968/1484418075.py:23: PerformanceWarning: DataFrame is highly fragmented.  This is usually the result of calling `frame.insert` many times, which has poor performance.  Consider joining all columns at once using pd.concat(axis=1) instead. To get a de-fragmented frame, use `newframe = frame.copy()`\n",
      "  df[f'{fold_col}_{fp}_{model_name}'] = preds\n",
      "/var/folders/nj/v2qpgqmx5v95v_p1dzfj62yr0000gn/T/ipykernel_80968/1484418075.py:15: PerformanceWarning: DataFrame is highly fragmented.  This is usually the result of calling `frame.insert` many times, which has poor performance.  Consider joining all columns at once using pd.concat(axis=1) instead. To get a de-fragmented frame, use `newframe = frame.copy()`\n",
      "  df.loc[test_mask, f\"{fold_col}_{fp}_Tc\"] = max_tcs\n",
      "/var/folders/nj/v2qpgqmx5v95v_p1dzfj62yr0000gn/T/ipykernel_80968/1484418075.py:23: PerformanceWarning: DataFrame is highly fragmented.  This is usually the result of calling `frame.insert` many times, which has poor performance.  Consider joining all columns at once using pd.concat(axis=1) instead. To get a de-fragmented frame, use `newframe = frame.copy()`\n",
      "  df[f'{fold_col}_{fp}_{model_name}'] = preds\n",
      "/var/folders/nj/v2qpgqmx5v95v_p1dzfj62yr0000gn/T/ipykernel_80968/1484418075.py:23: PerformanceWarning: DataFrame is highly fragmented.  This is usually the result of calling `frame.insert` many times, which has poor performance.  Consider joining all columns at once using pd.concat(axis=1) instead. To get a de-fragmented frame, use `newframe = frame.copy()`\n",
      "  df[f'{fold_col}_{fp}_{model_name}'] = preds\n",
      "/var/folders/nj/v2qpgqmx5v95v_p1dzfj62yr0000gn/T/ipykernel_80968/1484418075.py:23: PerformanceWarning: DataFrame is highly fragmented.  This is usually the result of calling `frame.insert` many times, which has poor performance.  Consider joining all columns at once using pd.concat(axis=1) instead. To get a de-fragmented frame, use `newframe = frame.copy()`\n",
      "  df[f'{fold_col}_{fp}_{model_name}'] = preds\n",
      "/var/folders/nj/v2qpgqmx5v95v_p1dzfj62yr0000gn/T/ipykernel_80968/1484418075.py:15: PerformanceWarning: DataFrame is highly fragmented.  This is usually the result of calling `frame.insert` many times, which has poor performance.  Consider joining all columns at once using pd.concat(axis=1) instead. To get a de-fragmented frame, use `newframe = frame.copy()`\n",
      "  df.loc[test_mask, f\"{fold_col}_{fp}_Tc\"] = max_tcs\n",
      "/var/folders/nj/v2qpgqmx5v95v_p1dzfj62yr0000gn/T/ipykernel_80968/1484418075.py:23: PerformanceWarning: DataFrame is highly fragmented.  This is usually the result of calling `frame.insert` many times, which has poor performance.  Consider joining all columns at once using pd.concat(axis=1) instead. To get a de-fragmented frame, use `newframe = frame.copy()`\n",
      "  df[f'{fold_col}_{fp}_{model_name}'] = preds\n",
      "/var/folders/nj/v2qpgqmx5v95v_p1dzfj62yr0000gn/T/ipykernel_80968/1484418075.py:23: PerformanceWarning: DataFrame is highly fragmented.  This is usually the result of calling `frame.insert` many times, which has poor performance.  Consider joining all columns at once using pd.concat(axis=1) instead. To get a de-fragmented frame, use `newframe = frame.copy()`\n",
      "  df[f'{fold_col}_{fp}_{model_name}'] = preds\n",
      "/var/folders/nj/v2qpgqmx5v95v_p1dzfj62yr0000gn/T/ipykernel_80968/1484418075.py:23: PerformanceWarning: DataFrame is highly fragmented.  This is usually the result of calling `frame.insert` many times, which has poor performance.  Consider joining all columns at once using pd.concat(axis=1) instead. To get a de-fragmented frame, use `newframe = frame.copy()`\n",
      "  df[f'{fold_col}_{fp}_{model_name}'] = preds\n",
      "\n",
      "Processing Splits and Folds:  24%|██▍       | 13/54 [06:23<20:00, 29.29s/it]\u001B[A/var/folders/nj/v2qpgqmx5v95v_p1dzfj62yr0000gn/T/ipykernel_80968/1484418075.py:15: PerformanceWarning: DataFrame is highly fragmented.  This is usually the result of calling `frame.insert` many times, which has poor performance.  Consider joining all columns at once using pd.concat(axis=1) instead. To get a de-fragmented frame, use `newframe = frame.copy()`\n",
      "  df.loc[test_mask, f\"{fold_col}_{fp}_Tc\"] = max_tcs\n",
      "/var/folders/nj/v2qpgqmx5v95v_p1dzfj62yr0000gn/T/ipykernel_80968/1484418075.py:23: PerformanceWarning: DataFrame is highly fragmented.  This is usually the result of calling `frame.insert` many times, which has poor performance.  Consider joining all columns at once using pd.concat(axis=1) instead. To get a de-fragmented frame, use `newframe = frame.copy()`\n",
      "  df[f'{fold_col}_{fp}_{model_name}'] = preds\n",
      "/var/folders/nj/v2qpgqmx5v95v_p1dzfj62yr0000gn/T/ipykernel_80968/1484418075.py:23: PerformanceWarning: DataFrame is highly fragmented.  This is usually the result of calling `frame.insert` many times, which has poor performance.  Consider joining all columns at once using pd.concat(axis=1) instead. To get a de-fragmented frame, use `newframe = frame.copy()`\n",
      "  df[f'{fold_col}_{fp}_{model_name}'] = preds\n",
      "/var/folders/nj/v2qpgqmx5v95v_p1dzfj62yr0000gn/T/ipykernel_80968/1484418075.py:23: PerformanceWarning: DataFrame is highly fragmented.  This is usually the result of calling `frame.insert` many times, which has poor performance.  Consider joining all columns at once using pd.concat(axis=1) instead. To get a de-fragmented frame, use `newframe = frame.copy()`\n",
      "  df[f'{fold_col}_{fp}_{model_name}'] = preds\n",
      "/var/folders/nj/v2qpgqmx5v95v_p1dzfj62yr0000gn/T/ipykernel_80968/1484418075.py:15: PerformanceWarning: DataFrame is highly fragmented.  This is usually the result of calling `frame.insert` many times, which has poor performance.  Consider joining all columns at once using pd.concat(axis=1) instead. To get a de-fragmented frame, use `newframe = frame.copy()`\n",
      "  df.loc[test_mask, f\"{fold_col}_{fp}_Tc\"] = max_tcs\n",
      "/var/folders/nj/v2qpgqmx5v95v_p1dzfj62yr0000gn/T/ipykernel_80968/1484418075.py:23: PerformanceWarning: DataFrame is highly fragmented.  This is usually the result of calling `frame.insert` many times, which has poor performance.  Consider joining all columns at once using pd.concat(axis=1) instead. To get a de-fragmented frame, use `newframe = frame.copy()`\n",
      "  df[f'{fold_col}_{fp}_{model_name}'] = preds\n",
      "/var/folders/nj/v2qpgqmx5v95v_p1dzfj62yr0000gn/T/ipykernel_80968/1484418075.py:23: PerformanceWarning: DataFrame is highly fragmented.  This is usually the result of calling `frame.insert` many times, which has poor performance.  Consider joining all columns at once using pd.concat(axis=1) instead. To get a de-fragmented frame, use `newframe = frame.copy()`\n",
      "  df[f'{fold_col}_{fp}_{model_name}'] = preds\n",
      "/var/folders/nj/v2qpgqmx5v95v_p1dzfj62yr0000gn/T/ipykernel_80968/1484418075.py:23: PerformanceWarning: DataFrame is highly fragmented.  This is usually the result of calling `frame.insert` many times, which has poor performance.  Consider joining all columns at once using pd.concat(axis=1) instead. To get a de-fragmented frame, use `newframe = frame.copy()`\n",
      "  df[f'{fold_col}_{fp}_{model_name}'] = preds\n",
      "/var/folders/nj/v2qpgqmx5v95v_p1dzfj62yr0000gn/T/ipykernel_80968/1484418075.py:15: PerformanceWarning: DataFrame is highly fragmented.  This is usually the result of calling `frame.insert` many times, which has poor performance.  Consider joining all columns at once using pd.concat(axis=1) instead. To get a de-fragmented frame, use `newframe = frame.copy()`\n",
      "  df.loc[test_mask, f\"{fold_col}_{fp}_Tc\"] = max_tcs\n",
      "/var/folders/nj/v2qpgqmx5v95v_p1dzfj62yr0000gn/T/ipykernel_80968/1484418075.py:23: PerformanceWarning: DataFrame is highly fragmented.  This is usually the result of calling `frame.insert` many times, which has poor performance.  Consider joining all columns at once using pd.concat(axis=1) instead. To get a de-fragmented frame, use `newframe = frame.copy()`\n",
      "  df[f'{fold_col}_{fp}_{model_name}'] = preds\n",
      "/var/folders/nj/v2qpgqmx5v95v_p1dzfj62yr0000gn/T/ipykernel_80968/1484418075.py:23: PerformanceWarning: DataFrame is highly fragmented.  This is usually the result of calling `frame.insert` many times, which has poor performance.  Consider joining all columns at once using pd.concat(axis=1) instead. To get a de-fragmented frame, use `newframe = frame.copy()`\n",
      "  df[f'{fold_col}_{fp}_{model_name}'] = preds\n",
      "/var/folders/nj/v2qpgqmx5v95v_p1dzfj62yr0000gn/T/ipykernel_80968/1484418075.py:23: PerformanceWarning: DataFrame is highly fragmented.  This is usually the result of calling `frame.insert` many times, which has poor performance.  Consider joining all columns at once using pd.concat(axis=1) instead. To get a de-fragmented frame, use `newframe = frame.copy()`\n",
      "  df[f'{fold_col}_{fp}_{model_name}'] = preds\n",
      "\n",
      "Processing Splits and Folds:  26%|██▌       | 14/54 [06:56<20:10, 30.27s/it]\u001B[A/var/folders/nj/v2qpgqmx5v95v_p1dzfj62yr0000gn/T/ipykernel_80968/1484418075.py:15: PerformanceWarning: DataFrame is highly fragmented.  This is usually the result of calling `frame.insert` many times, which has poor performance.  Consider joining all columns at once using pd.concat(axis=1) instead. To get a de-fragmented frame, use `newframe = frame.copy()`\n",
      "  df.loc[test_mask, f\"{fold_col}_{fp}_Tc\"] = max_tcs\n",
      "/var/folders/nj/v2qpgqmx5v95v_p1dzfj62yr0000gn/T/ipykernel_80968/1484418075.py:23: PerformanceWarning: DataFrame is highly fragmented.  This is usually the result of calling `frame.insert` many times, which has poor performance.  Consider joining all columns at once using pd.concat(axis=1) instead. To get a de-fragmented frame, use `newframe = frame.copy()`\n",
      "  df[f'{fold_col}_{fp}_{model_name}'] = preds\n",
      "/var/folders/nj/v2qpgqmx5v95v_p1dzfj62yr0000gn/T/ipykernel_80968/1484418075.py:23: PerformanceWarning: DataFrame is highly fragmented.  This is usually the result of calling `frame.insert` many times, which has poor performance.  Consider joining all columns at once using pd.concat(axis=1) instead. To get a de-fragmented frame, use `newframe = frame.copy()`\n",
      "  df[f'{fold_col}_{fp}_{model_name}'] = preds\n",
      "/var/folders/nj/v2qpgqmx5v95v_p1dzfj62yr0000gn/T/ipykernel_80968/1484418075.py:23: PerformanceWarning: DataFrame is highly fragmented.  This is usually the result of calling `frame.insert` many times, which has poor performance.  Consider joining all columns at once using pd.concat(axis=1) instead. To get a de-fragmented frame, use `newframe = frame.copy()`\n",
      "  df[f'{fold_col}_{fp}_{model_name}'] = preds\n",
      "/var/folders/nj/v2qpgqmx5v95v_p1dzfj62yr0000gn/T/ipykernel_80968/1484418075.py:15: PerformanceWarning: DataFrame is highly fragmented.  This is usually the result of calling `frame.insert` many times, which has poor performance.  Consider joining all columns at once using pd.concat(axis=1) instead. To get a de-fragmented frame, use `newframe = frame.copy()`\n",
      "  df.loc[test_mask, f\"{fold_col}_{fp}_Tc\"] = max_tcs\n",
      "/var/folders/nj/v2qpgqmx5v95v_p1dzfj62yr0000gn/T/ipykernel_80968/1484418075.py:23: PerformanceWarning: DataFrame is highly fragmented.  This is usually the result of calling `frame.insert` many times, which has poor performance.  Consider joining all columns at once using pd.concat(axis=1) instead. To get a de-fragmented frame, use `newframe = frame.copy()`\n",
      "  df[f'{fold_col}_{fp}_{model_name}'] = preds\n",
      "/var/folders/nj/v2qpgqmx5v95v_p1dzfj62yr0000gn/T/ipykernel_80968/1484418075.py:23: PerformanceWarning: DataFrame is highly fragmented.  This is usually the result of calling `frame.insert` many times, which has poor performance.  Consider joining all columns at once using pd.concat(axis=1) instead. To get a de-fragmented frame, use `newframe = frame.copy()`\n",
      "  df[f'{fold_col}_{fp}_{model_name}'] = preds\n",
      "/var/folders/nj/v2qpgqmx5v95v_p1dzfj62yr0000gn/T/ipykernel_80968/1484418075.py:23: PerformanceWarning: DataFrame is highly fragmented.  This is usually the result of calling `frame.insert` many times, which has poor performance.  Consider joining all columns at once using pd.concat(axis=1) instead. To get a de-fragmented frame, use `newframe = frame.copy()`\n",
      "  df[f'{fold_col}_{fp}_{model_name}'] = preds\n",
      "/var/folders/nj/v2qpgqmx5v95v_p1dzfj62yr0000gn/T/ipykernel_80968/1484418075.py:15: PerformanceWarning: DataFrame is highly fragmented.  This is usually the result of calling `frame.insert` many times, which has poor performance.  Consider joining all columns at once using pd.concat(axis=1) instead. To get a de-fragmented frame, use `newframe = frame.copy()`\n",
      "  df.loc[test_mask, f\"{fold_col}_{fp}_Tc\"] = max_tcs\n",
      "/var/folders/nj/v2qpgqmx5v95v_p1dzfj62yr0000gn/T/ipykernel_80968/1484418075.py:23: PerformanceWarning: DataFrame is highly fragmented.  This is usually the result of calling `frame.insert` many times, which has poor performance.  Consider joining all columns at once using pd.concat(axis=1) instead. To get a de-fragmented frame, use `newframe = frame.copy()`\n",
      "  df[f'{fold_col}_{fp}_{model_name}'] = preds\n",
      "/var/folders/nj/v2qpgqmx5v95v_p1dzfj62yr0000gn/T/ipykernel_80968/1484418075.py:23: PerformanceWarning: DataFrame is highly fragmented.  This is usually the result of calling `frame.insert` many times, which has poor performance.  Consider joining all columns at once using pd.concat(axis=1) instead. To get a de-fragmented frame, use `newframe = frame.copy()`\n",
      "  df[f'{fold_col}_{fp}_{model_name}'] = preds\n",
      "/var/folders/nj/v2qpgqmx5v95v_p1dzfj62yr0000gn/T/ipykernel_80968/1484418075.py:23: PerformanceWarning: DataFrame is highly fragmented.  This is usually the result of calling `frame.insert` many times, which has poor performance.  Consider joining all columns at once using pd.concat(axis=1) instead. To get a de-fragmented frame, use `newframe = frame.copy()`\n",
      "  df[f'{fold_col}_{fp}_{model_name}'] = preds\n",
      "\n",
      "Processing Splits and Folds:  28%|██▊       | 15/54 [07:28<20:02, 30.83s/it]\u001B[A/var/folders/nj/v2qpgqmx5v95v_p1dzfj62yr0000gn/T/ipykernel_80968/1484418075.py:15: PerformanceWarning: DataFrame is highly fragmented.  This is usually the result of calling `frame.insert` many times, which has poor performance.  Consider joining all columns at once using pd.concat(axis=1) instead. To get a de-fragmented frame, use `newframe = frame.copy()`\n",
      "  df.loc[test_mask, f\"{fold_col}_{fp}_Tc\"] = max_tcs\n",
      "/var/folders/nj/v2qpgqmx5v95v_p1dzfj62yr0000gn/T/ipykernel_80968/1484418075.py:23: PerformanceWarning: DataFrame is highly fragmented.  This is usually the result of calling `frame.insert` many times, which has poor performance.  Consider joining all columns at once using pd.concat(axis=1) instead. To get a de-fragmented frame, use `newframe = frame.copy()`\n",
      "  df[f'{fold_col}_{fp}_{model_name}'] = preds\n",
      "/var/folders/nj/v2qpgqmx5v95v_p1dzfj62yr0000gn/T/ipykernel_80968/1484418075.py:23: PerformanceWarning: DataFrame is highly fragmented.  This is usually the result of calling `frame.insert` many times, which has poor performance.  Consider joining all columns at once using pd.concat(axis=1) instead. To get a de-fragmented frame, use `newframe = frame.copy()`\n",
      "  df[f'{fold_col}_{fp}_{model_name}'] = preds\n",
      "/var/folders/nj/v2qpgqmx5v95v_p1dzfj62yr0000gn/T/ipykernel_80968/1484418075.py:23: PerformanceWarning: DataFrame is highly fragmented.  This is usually the result of calling `frame.insert` many times, which has poor performance.  Consider joining all columns at once using pd.concat(axis=1) instead. To get a de-fragmented frame, use `newframe = frame.copy()`\n",
      "  df[f'{fold_col}_{fp}_{model_name}'] = preds\n",
      "/var/folders/nj/v2qpgqmx5v95v_p1dzfj62yr0000gn/T/ipykernel_80968/1484418075.py:15: PerformanceWarning: DataFrame is highly fragmented.  This is usually the result of calling `frame.insert` many times, which has poor performance.  Consider joining all columns at once using pd.concat(axis=1) instead. To get a de-fragmented frame, use `newframe = frame.copy()`\n",
      "  df.loc[test_mask, f\"{fold_col}_{fp}_Tc\"] = max_tcs\n",
      "/var/folders/nj/v2qpgqmx5v95v_p1dzfj62yr0000gn/T/ipykernel_80968/1484418075.py:23: PerformanceWarning: DataFrame is highly fragmented.  This is usually the result of calling `frame.insert` many times, which has poor performance.  Consider joining all columns at once using pd.concat(axis=1) instead. To get a de-fragmented frame, use `newframe = frame.copy()`\n",
      "  df[f'{fold_col}_{fp}_{model_name}'] = preds\n",
      "/var/folders/nj/v2qpgqmx5v95v_p1dzfj62yr0000gn/T/ipykernel_80968/1484418075.py:23: PerformanceWarning: DataFrame is highly fragmented.  This is usually the result of calling `frame.insert` many times, which has poor performance.  Consider joining all columns at once using pd.concat(axis=1) instead. To get a de-fragmented frame, use `newframe = frame.copy()`\n",
      "  df[f'{fold_col}_{fp}_{model_name}'] = preds\n",
      "/var/folders/nj/v2qpgqmx5v95v_p1dzfj62yr0000gn/T/ipykernel_80968/1484418075.py:23: PerformanceWarning: DataFrame is highly fragmented.  This is usually the result of calling `frame.insert` many times, which has poor performance.  Consider joining all columns at once using pd.concat(axis=1) instead. To get a de-fragmented frame, use `newframe = frame.copy()`\n",
      "  df[f'{fold_col}_{fp}_{model_name}'] = preds\n",
      "/var/folders/nj/v2qpgqmx5v95v_p1dzfj62yr0000gn/T/ipykernel_80968/1484418075.py:15: PerformanceWarning: DataFrame is highly fragmented.  This is usually the result of calling `frame.insert` many times, which has poor performance.  Consider joining all columns at once using pd.concat(axis=1) instead. To get a de-fragmented frame, use `newframe = frame.copy()`\n",
      "  df.loc[test_mask, f\"{fold_col}_{fp}_Tc\"] = max_tcs\n",
      "/var/folders/nj/v2qpgqmx5v95v_p1dzfj62yr0000gn/T/ipykernel_80968/1484418075.py:23: PerformanceWarning: DataFrame is highly fragmented.  This is usually the result of calling `frame.insert` many times, which has poor performance.  Consider joining all columns at once using pd.concat(axis=1) instead. To get a de-fragmented frame, use `newframe = frame.copy()`\n",
      "  df[f'{fold_col}_{fp}_{model_name}'] = preds\n",
      "/var/folders/nj/v2qpgqmx5v95v_p1dzfj62yr0000gn/T/ipykernel_80968/1484418075.py:23: PerformanceWarning: DataFrame is highly fragmented.  This is usually the result of calling `frame.insert` many times, which has poor performance.  Consider joining all columns at once using pd.concat(axis=1) instead. To get a de-fragmented frame, use `newframe = frame.copy()`\n",
      "  df[f'{fold_col}_{fp}_{model_name}'] = preds\n",
      "/var/folders/nj/v2qpgqmx5v95v_p1dzfj62yr0000gn/T/ipykernel_80968/1484418075.py:23: PerformanceWarning: DataFrame is highly fragmented.  This is usually the result of calling `frame.insert` many times, which has poor performance.  Consider joining all columns at once using pd.concat(axis=1) instead. To get a de-fragmented frame, use `newframe = frame.copy()`\n",
      "  df[f'{fold_col}_{fp}_{model_name}'] = preds\n",
      "\n",
      "Processing Splits and Folds:  30%|██▉       | 16/54 [07:59<19:36, 30.95s/it]\u001B[A/var/folders/nj/v2qpgqmx5v95v_p1dzfj62yr0000gn/T/ipykernel_80968/1484418075.py:15: PerformanceWarning: DataFrame is highly fragmented.  This is usually the result of calling `frame.insert` many times, which has poor performance.  Consider joining all columns at once using pd.concat(axis=1) instead. To get a de-fragmented frame, use `newframe = frame.copy()`\n",
      "  df.loc[test_mask, f\"{fold_col}_{fp}_Tc\"] = max_tcs\n",
      "/var/folders/nj/v2qpgqmx5v95v_p1dzfj62yr0000gn/T/ipykernel_80968/1484418075.py:23: PerformanceWarning: DataFrame is highly fragmented.  This is usually the result of calling `frame.insert` many times, which has poor performance.  Consider joining all columns at once using pd.concat(axis=1) instead. To get a de-fragmented frame, use `newframe = frame.copy()`\n",
      "  df[f'{fold_col}_{fp}_{model_name}'] = preds\n",
      "/var/folders/nj/v2qpgqmx5v95v_p1dzfj62yr0000gn/T/ipykernel_80968/1484418075.py:23: PerformanceWarning: DataFrame is highly fragmented.  This is usually the result of calling `frame.insert` many times, which has poor performance.  Consider joining all columns at once using pd.concat(axis=1) instead. To get a de-fragmented frame, use `newframe = frame.copy()`\n",
      "  df[f'{fold_col}_{fp}_{model_name}'] = preds\n",
      "/var/folders/nj/v2qpgqmx5v95v_p1dzfj62yr0000gn/T/ipykernel_80968/1484418075.py:23: PerformanceWarning: DataFrame is highly fragmented.  This is usually the result of calling `frame.insert` many times, which has poor performance.  Consider joining all columns at once using pd.concat(axis=1) instead. To get a de-fragmented frame, use `newframe = frame.copy()`\n",
      "  df[f'{fold_col}_{fp}_{model_name}'] = preds\n",
      "/var/folders/nj/v2qpgqmx5v95v_p1dzfj62yr0000gn/T/ipykernel_80968/1484418075.py:15: PerformanceWarning: DataFrame is highly fragmented.  This is usually the result of calling `frame.insert` many times, which has poor performance.  Consider joining all columns at once using pd.concat(axis=1) instead. To get a de-fragmented frame, use `newframe = frame.copy()`\n",
      "  df.loc[test_mask, f\"{fold_col}_{fp}_Tc\"] = max_tcs\n",
      "/var/folders/nj/v2qpgqmx5v95v_p1dzfj62yr0000gn/T/ipykernel_80968/1484418075.py:23: PerformanceWarning: DataFrame is highly fragmented.  This is usually the result of calling `frame.insert` many times, which has poor performance.  Consider joining all columns at once using pd.concat(axis=1) instead. To get a de-fragmented frame, use `newframe = frame.copy()`\n",
      "  df[f'{fold_col}_{fp}_{model_name}'] = preds\n",
      "/var/folders/nj/v2qpgqmx5v95v_p1dzfj62yr0000gn/T/ipykernel_80968/1484418075.py:23: PerformanceWarning: DataFrame is highly fragmented.  This is usually the result of calling `frame.insert` many times, which has poor performance.  Consider joining all columns at once using pd.concat(axis=1) instead. To get a de-fragmented frame, use `newframe = frame.copy()`\n",
      "  df[f'{fold_col}_{fp}_{model_name}'] = preds\n",
      "/var/folders/nj/v2qpgqmx5v95v_p1dzfj62yr0000gn/T/ipykernel_80968/1484418075.py:23: PerformanceWarning: DataFrame is highly fragmented.  This is usually the result of calling `frame.insert` many times, which has poor performance.  Consider joining all columns at once using pd.concat(axis=1) instead. To get a de-fragmented frame, use `newframe = frame.copy()`\n",
      "  df[f'{fold_col}_{fp}_{model_name}'] = preds\n",
      "/var/folders/nj/v2qpgqmx5v95v_p1dzfj62yr0000gn/T/ipykernel_80968/1484418075.py:15: PerformanceWarning: DataFrame is highly fragmented.  This is usually the result of calling `frame.insert` many times, which has poor performance.  Consider joining all columns at once using pd.concat(axis=1) instead. To get a de-fragmented frame, use `newframe = frame.copy()`\n",
      "  df.loc[test_mask, f\"{fold_col}_{fp}_Tc\"] = max_tcs\n",
      "/var/folders/nj/v2qpgqmx5v95v_p1dzfj62yr0000gn/T/ipykernel_80968/1484418075.py:23: PerformanceWarning: DataFrame is highly fragmented.  This is usually the result of calling `frame.insert` many times, which has poor performance.  Consider joining all columns at once using pd.concat(axis=1) instead. To get a de-fragmented frame, use `newframe = frame.copy()`\n",
      "  df[f'{fold_col}_{fp}_{model_name}'] = preds\n",
      "/var/folders/nj/v2qpgqmx5v95v_p1dzfj62yr0000gn/T/ipykernel_80968/1484418075.py:23: PerformanceWarning: DataFrame is highly fragmented.  This is usually the result of calling `frame.insert` many times, which has poor performance.  Consider joining all columns at once using pd.concat(axis=1) instead. To get a de-fragmented frame, use `newframe = frame.copy()`\n",
      "  df[f'{fold_col}_{fp}_{model_name}'] = preds\n",
      "/var/folders/nj/v2qpgqmx5v95v_p1dzfj62yr0000gn/T/ipykernel_80968/1484418075.py:23: PerformanceWarning: DataFrame is highly fragmented.  This is usually the result of calling `frame.insert` many times, which has poor performance.  Consider joining all columns at once using pd.concat(axis=1) instead. To get a de-fragmented frame, use `newframe = frame.copy()`\n",
      "  df[f'{fold_col}_{fp}_{model_name}'] = preds\n",
      "\n",
      "Processing Splits and Folds:  31%|███▏      | 17/54 [08:24<17:58, 29.15s/it]\u001B[A/var/folders/nj/v2qpgqmx5v95v_p1dzfj62yr0000gn/T/ipykernel_80968/1484418075.py:15: PerformanceWarning: DataFrame is highly fragmented.  This is usually the result of calling `frame.insert` many times, which has poor performance.  Consider joining all columns at once using pd.concat(axis=1) instead. To get a de-fragmented frame, use `newframe = frame.copy()`\n",
      "  df.loc[test_mask, f\"{fold_col}_{fp}_Tc\"] = max_tcs\n",
      "/var/folders/nj/v2qpgqmx5v95v_p1dzfj62yr0000gn/T/ipykernel_80968/1484418075.py:23: PerformanceWarning: DataFrame is highly fragmented.  This is usually the result of calling `frame.insert` many times, which has poor performance.  Consider joining all columns at once using pd.concat(axis=1) instead. To get a de-fragmented frame, use `newframe = frame.copy()`\n",
      "  df[f'{fold_col}_{fp}_{model_name}'] = preds\n",
      "/var/folders/nj/v2qpgqmx5v95v_p1dzfj62yr0000gn/T/ipykernel_80968/1484418075.py:23: PerformanceWarning: DataFrame is highly fragmented.  This is usually the result of calling `frame.insert` many times, which has poor performance.  Consider joining all columns at once using pd.concat(axis=1) instead. To get a de-fragmented frame, use `newframe = frame.copy()`\n",
      "  df[f'{fold_col}_{fp}_{model_name}'] = preds\n",
      "/var/folders/nj/v2qpgqmx5v95v_p1dzfj62yr0000gn/T/ipykernel_80968/1484418075.py:23: PerformanceWarning: DataFrame is highly fragmented.  This is usually the result of calling `frame.insert` many times, which has poor performance.  Consider joining all columns at once using pd.concat(axis=1) instead. To get a de-fragmented frame, use `newframe = frame.copy()`\n",
      "  df[f'{fold_col}_{fp}_{model_name}'] = preds\n",
      "/var/folders/nj/v2qpgqmx5v95v_p1dzfj62yr0000gn/T/ipykernel_80968/1484418075.py:15: PerformanceWarning: DataFrame is highly fragmented.  This is usually the result of calling `frame.insert` many times, which has poor performance.  Consider joining all columns at once using pd.concat(axis=1) instead. To get a de-fragmented frame, use `newframe = frame.copy()`\n",
      "  df.loc[test_mask, f\"{fold_col}_{fp}_Tc\"] = max_tcs\n",
      "/var/folders/nj/v2qpgqmx5v95v_p1dzfj62yr0000gn/T/ipykernel_80968/1484418075.py:23: PerformanceWarning: DataFrame is highly fragmented.  This is usually the result of calling `frame.insert` many times, which has poor performance.  Consider joining all columns at once using pd.concat(axis=1) instead. To get a de-fragmented frame, use `newframe = frame.copy()`\n",
      "  df[f'{fold_col}_{fp}_{model_name}'] = preds\n",
      "/var/folders/nj/v2qpgqmx5v95v_p1dzfj62yr0000gn/T/ipykernel_80968/1484418075.py:23: PerformanceWarning: DataFrame is highly fragmented.  This is usually the result of calling `frame.insert` many times, which has poor performance.  Consider joining all columns at once using pd.concat(axis=1) instead. To get a de-fragmented frame, use `newframe = frame.copy()`\n",
      "  df[f'{fold_col}_{fp}_{model_name}'] = preds\n",
      "/var/folders/nj/v2qpgqmx5v95v_p1dzfj62yr0000gn/T/ipykernel_80968/1484418075.py:23: PerformanceWarning: DataFrame is highly fragmented.  This is usually the result of calling `frame.insert` many times, which has poor performance.  Consider joining all columns at once using pd.concat(axis=1) instead. To get a de-fragmented frame, use `newframe = frame.copy()`\n",
      "  df[f'{fold_col}_{fp}_{model_name}'] = preds\n",
      "/var/folders/nj/v2qpgqmx5v95v_p1dzfj62yr0000gn/T/ipykernel_80968/1484418075.py:15: PerformanceWarning: DataFrame is highly fragmented.  This is usually the result of calling `frame.insert` many times, which has poor performance.  Consider joining all columns at once using pd.concat(axis=1) instead. To get a de-fragmented frame, use `newframe = frame.copy()`\n",
      "  df.loc[test_mask, f\"{fold_col}_{fp}_Tc\"] = max_tcs\n",
      "/var/folders/nj/v2qpgqmx5v95v_p1dzfj62yr0000gn/T/ipykernel_80968/1484418075.py:23: PerformanceWarning: DataFrame is highly fragmented.  This is usually the result of calling `frame.insert` many times, which has poor performance.  Consider joining all columns at once using pd.concat(axis=1) instead. To get a de-fragmented frame, use `newframe = frame.copy()`\n",
      "  df[f'{fold_col}_{fp}_{model_name}'] = preds\n",
      "/var/folders/nj/v2qpgqmx5v95v_p1dzfj62yr0000gn/T/ipykernel_80968/1484418075.py:23: PerformanceWarning: DataFrame is highly fragmented.  This is usually the result of calling `frame.insert` many times, which has poor performance.  Consider joining all columns at once using pd.concat(axis=1) instead. To get a de-fragmented frame, use `newframe = frame.copy()`\n",
      "  df[f'{fold_col}_{fp}_{model_name}'] = preds\n",
      "/var/folders/nj/v2qpgqmx5v95v_p1dzfj62yr0000gn/T/ipykernel_80968/1484418075.py:23: PerformanceWarning: DataFrame is highly fragmented.  This is usually the result of calling `frame.insert` many times, which has poor performance.  Consider joining all columns at once using pd.concat(axis=1) instead. To get a de-fragmented frame, use `newframe = frame.copy()`\n",
      "  df[f'{fold_col}_{fp}_{model_name}'] = preds\n",
      "\n",
      "Processing Splits and Folds:  33%|███▎      | 18/54 [08:47<16:20, 27.23s/it]\u001B[A/var/folders/nj/v2qpgqmx5v95v_p1dzfj62yr0000gn/T/ipykernel_80968/1484418075.py:15: PerformanceWarning: DataFrame is highly fragmented.  This is usually the result of calling `frame.insert` many times, which has poor performance.  Consider joining all columns at once using pd.concat(axis=1) instead. To get a de-fragmented frame, use `newframe = frame.copy()`\n",
      "  df.loc[test_mask, f\"{fold_col}_{fp}_Tc\"] = max_tcs\n",
      "/var/folders/nj/v2qpgqmx5v95v_p1dzfj62yr0000gn/T/ipykernel_80968/1484418075.py:23: PerformanceWarning: DataFrame is highly fragmented.  This is usually the result of calling `frame.insert` many times, which has poor performance.  Consider joining all columns at once using pd.concat(axis=1) instead. To get a de-fragmented frame, use `newframe = frame.copy()`\n",
      "  df[f'{fold_col}_{fp}_{model_name}'] = preds\n",
      "/var/folders/nj/v2qpgqmx5v95v_p1dzfj62yr0000gn/T/ipykernel_80968/1484418075.py:23: PerformanceWarning: DataFrame is highly fragmented.  This is usually the result of calling `frame.insert` many times, which has poor performance.  Consider joining all columns at once using pd.concat(axis=1) instead. To get a de-fragmented frame, use `newframe = frame.copy()`\n",
      "  df[f'{fold_col}_{fp}_{model_name}'] = preds\n",
      "/var/folders/nj/v2qpgqmx5v95v_p1dzfj62yr0000gn/T/ipykernel_80968/1484418075.py:23: PerformanceWarning: DataFrame is highly fragmented.  This is usually the result of calling `frame.insert` many times, which has poor performance.  Consider joining all columns at once using pd.concat(axis=1) instead. To get a de-fragmented frame, use `newframe = frame.copy()`\n",
      "  df[f'{fold_col}_{fp}_{model_name}'] = preds\n",
      "/var/folders/nj/v2qpgqmx5v95v_p1dzfj62yr0000gn/T/ipykernel_80968/1484418075.py:15: PerformanceWarning: DataFrame is highly fragmented.  This is usually the result of calling `frame.insert` many times, which has poor performance.  Consider joining all columns at once using pd.concat(axis=1) instead. To get a de-fragmented frame, use `newframe = frame.copy()`\n",
      "  df.loc[test_mask, f\"{fold_col}_{fp}_Tc\"] = max_tcs\n",
      "/var/folders/nj/v2qpgqmx5v95v_p1dzfj62yr0000gn/T/ipykernel_80968/1484418075.py:23: PerformanceWarning: DataFrame is highly fragmented.  This is usually the result of calling `frame.insert` many times, which has poor performance.  Consider joining all columns at once using pd.concat(axis=1) instead. To get a de-fragmented frame, use `newframe = frame.copy()`\n",
      "  df[f'{fold_col}_{fp}_{model_name}'] = preds\n",
      "/var/folders/nj/v2qpgqmx5v95v_p1dzfj62yr0000gn/T/ipykernel_80968/1484418075.py:23: PerformanceWarning: DataFrame is highly fragmented.  This is usually the result of calling `frame.insert` many times, which has poor performance.  Consider joining all columns at once using pd.concat(axis=1) instead. To get a de-fragmented frame, use `newframe = frame.copy()`\n",
      "  df[f'{fold_col}_{fp}_{model_name}'] = preds\n",
      "/var/folders/nj/v2qpgqmx5v95v_p1dzfj62yr0000gn/T/ipykernel_80968/1484418075.py:23: PerformanceWarning: DataFrame is highly fragmented.  This is usually the result of calling `frame.insert` many times, which has poor performance.  Consider joining all columns at once using pd.concat(axis=1) instead. To get a de-fragmented frame, use `newframe = frame.copy()`\n",
      "  df[f'{fold_col}_{fp}_{model_name}'] = preds\n",
      "/var/folders/nj/v2qpgqmx5v95v_p1dzfj62yr0000gn/T/ipykernel_80968/1484418075.py:15: PerformanceWarning: DataFrame is highly fragmented.  This is usually the result of calling `frame.insert` many times, which has poor performance.  Consider joining all columns at once using pd.concat(axis=1) instead. To get a de-fragmented frame, use `newframe = frame.copy()`\n",
      "  df.loc[test_mask, f\"{fold_col}_{fp}_Tc\"] = max_tcs\n",
      "/var/folders/nj/v2qpgqmx5v95v_p1dzfj62yr0000gn/T/ipykernel_80968/1484418075.py:23: PerformanceWarning: DataFrame is highly fragmented.  This is usually the result of calling `frame.insert` many times, which has poor performance.  Consider joining all columns at once using pd.concat(axis=1) instead. To get a de-fragmented frame, use `newframe = frame.copy()`\n",
      "  df[f'{fold_col}_{fp}_{model_name}'] = preds\n",
      "/var/folders/nj/v2qpgqmx5v95v_p1dzfj62yr0000gn/T/ipykernel_80968/1484418075.py:23: PerformanceWarning: DataFrame is highly fragmented.  This is usually the result of calling `frame.insert` many times, which has poor performance.  Consider joining all columns at once using pd.concat(axis=1) instead. To get a de-fragmented frame, use `newframe = frame.copy()`\n",
      "  df[f'{fold_col}_{fp}_{model_name}'] = preds\n",
      "/var/folders/nj/v2qpgqmx5v95v_p1dzfj62yr0000gn/T/ipykernel_80968/1484418075.py:23: PerformanceWarning: DataFrame is highly fragmented.  This is usually the result of calling `frame.insert` many times, which has poor performance.  Consider joining all columns at once using pd.concat(axis=1) instead. To get a de-fragmented frame, use `newframe = frame.copy()`\n",
      "  df[f'{fold_col}_{fp}_{model_name}'] = preds\n",
      "\n",
      "Processing Splits and Folds:  35%|███▌      | 19/54 [08:48<11:23, 19.54s/it]\u001B[A/var/folders/nj/v2qpgqmx5v95v_p1dzfj62yr0000gn/T/ipykernel_80968/1484418075.py:15: PerformanceWarning: DataFrame is highly fragmented.  This is usually the result of calling `frame.insert` many times, which has poor performance.  Consider joining all columns at once using pd.concat(axis=1) instead. To get a de-fragmented frame, use `newframe = frame.copy()`\n",
      "  df.loc[test_mask, f\"{fold_col}_{fp}_Tc\"] = max_tcs\n",
      "/var/folders/nj/v2qpgqmx5v95v_p1dzfj62yr0000gn/T/ipykernel_80968/1484418075.py:23: PerformanceWarning: DataFrame is highly fragmented.  This is usually the result of calling `frame.insert` many times, which has poor performance.  Consider joining all columns at once using pd.concat(axis=1) instead. To get a de-fragmented frame, use `newframe = frame.copy()`\n",
      "  df[f'{fold_col}_{fp}_{model_name}'] = preds\n",
      "/var/folders/nj/v2qpgqmx5v95v_p1dzfj62yr0000gn/T/ipykernel_80968/1484418075.py:23: PerformanceWarning: DataFrame is highly fragmented.  This is usually the result of calling `frame.insert` many times, which has poor performance.  Consider joining all columns at once using pd.concat(axis=1) instead. To get a de-fragmented frame, use `newframe = frame.copy()`\n",
      "  df[f'{fold_col}_{fp}_{model_name}'] = preds\n",
      "/var/folders/nj/v2qpgqmx5v95v_p1dzfj62yr0000gn/T/ipykernel_80968/1484418075.py:23: PerformanceWarning: DataFrame is highly fragmented.  This is usually the result of calling `frame.insert` many times, which has poor performance.  Consider joining all columns at once using pd.concat(axis=1) instead. To get a de-fragmented frame, use `newframe = frame.copy()`\n",
      "  df[f'{fold_col}_{fp}_{model_name}'] = preds\n",
      "/var/folders/nj/v2qpgqmx5v95v_p1dzfj62yr0000gn/T/ipykernel_80968/1484418075.py:15: PerformanceWarning: DataFrame is highly fragmented.  This is usually the result of calling `frame.insert` many times, which has poor performance.  Consider joining all columns at once using pd.concat(axis=1) instead. To get a de-fragmented frame, use `newframe = frame.copy()`\n",
      "  df.loc[test_mask, f\"{fold_col}_{fp}_Tc\"] = max_tcs\n",
      "/var/folders/nj/v2qpgqmx5v95v_p1dzfj62yr0000gn/T/ipykernel_80968/1484418075.py:23: PerformanceWarning: DataFrame is highly fragmented.  This is usually the result of calling `frame.insert` many times, which has poor performance.  Consider joining all columns at once using pd.concat(axis=1) instead. To get a de-fragmented frame, use `newframe = frame.copy()`\n",
      "  df[f'{fold_col}_{fp}_{model_name}'] = preds\n",
      "/var/folders/nj/v2qpgqmx5v95v_p1dzfj62yr0000gn/T/ipykernel_80968/1484418075.py:23: PerformanceWarning: DataFrame is highly fragmented.  This is usually the result of calling `frame.insert` many times, which has poor performance.  Consider joining all columns at once using pd.concat(axis=1) instead. To get a de-fragmented frame, use `newframe = frame.copy()`\n",
      "  df[f'{fold_col}_{fp}_{model_name}'] = preds\n",
      "/var/folders/nj/v2qpgqmx5v95v_p1dzfj62yr0000gn/T/ipykernel_80968/1484418075.py:23: PerformanceWarning: DataFrame is highly fragmented.  This is usually the result of calling `frame.insert` many times, which has poor performance.  Consider joining all columns at once using pd.concat(axis=1) instead. To get a de-fragmented frame, use `newframe = frame.copy()`\n",
      "  df[f'{fold_col}_{fp}_{model_name}'] = preds\n",
      "/var/folders/nj/v2qpgqmx5v95v_p1dzfj62yr0000gn/T/ipykernel_80968/1484418075.py:15: PerformanceWarning: DataFrame is highly fragmented.  This is usually the result of calling `frame.insert` many times, which has poor performance.  Consider joining all columns at once using pd.concat(axis=1) instead. To get a de-fragmented frame, use `newframe = frame.copy()`\n",
      "  df.loc[test_mask, f\"{fold_col}_{fp}_Tc\"] = max_tcs\n",
      "/var/folders/nj/v2qpgqmx5v95v_p1dzfj62yr0000gn/T/ipykernel_80968/1484418075.py:23: PerformanceWarning: DataFrame is highly fragmented.  This is usually the result of calling `frame.insert` many times, which has poor performance.  Consider joining all columns at once using pd.concat(axis=1) instead. To get a de-fragmented frame, use `newframe = frame.copy()`\n",
      "  df[f'{fold_col}_{fp}_{model_name}'] = preds\n",
      "/var/folders/nj/v2qpgqmx5v95v_p1dzfj62yr0000gn/T/ipykernel_80968/1484418075.py:23: PerformanceWarning: DataFrame is highly fragmented.  This is usually the result of calling `frame.insert` many times, which has poor performance.  Consider joining all columns at once using pd.concat(axis=1) instead. To get a de-fragmented frame, use `newframe = frame.copy()`\n",
      "  df[f'{fold_col}_{fp}_{model_name}'] = preds\n",
      "/var/folders/nj/v2qpgqmx5v95v_p1dzfj62yr0000gn/T/ipykernel_80968/1484418075.py:23: PerformanceWarning: DataFrame is highly fragmented.  This is usually the result of calling `frame.insert` many times, which has poor performance.  Consider joining all columns at once using pd.concat(axis=1) instead. To get a de-fragmented frame, use `newframe = frame.copy()`\n",
      "  df[f'{fold_col}_{fp}_{model_name}'] = preds\n",
      "\n",
      "Processing Splits and Folds:  37%|███▋      | 20/54 [08:53<08:32, 15.06s/it]\u001B[A/var/folders/nj/v2qpgqmx5v95v_p1dzfj62yr0000gn/T/ipykernel_80968/1484418075.py:15: PerformanceWarning: DataFrame is highly fragmented.  This is usually the result of calling `frame.insert` many times, which has poor performance.  Consider joining all columns at once using pd.concat(axis=1) instead. To get a de-fragmented frame, use `newframe = frame.copy()`\n",
      "  df.loc[test_mask, f\"{fold_col}_{fp}_Tc\"] = max_tcs\n",
      "/var/folders/nj/v2qpgqmx5v95v_p1dzfj62yr0000gn/T/ipykernel_80968/1484418075.py:23: PerformanceWarning: DataFrame is highly fragmented.  This is usually the result of calling `frame.insert` many times, which has poor performance.  Consider joining all columns at once using pd.concat(axis=1) instead. To get a de-fragmented frame, use `newframe = frame.copy()`\n",
      "  df[f'{fold_col}_{fp}_{model_name}'] = preds\n",
      "/var/folders/nj/v2qpgqmx5v95v_p1dzfj62yr0000gn/T/ipykernel_80968/1484418075.py:23: PerformanceWarning: DataFrame is highly fragmented.  This is usually the result of calling `frame.insert` many times, which has poor performance.  Consider joining all columns at once using pd.concat(axis=1) instead. To get a de-fragmented frame, use `newframe = frame.copy()`\n",
      "  df[f'{fold_col}_{fp}_{model_name}'] = preds\n",
      "/var/folders/nj/v2qpgqmx5v95v_p1dzfj62yr0000gn/T/ipykernel_80968/1484418075.py:23: PerformanceWarning: DataFrame is highly fragmented.  This is usually the result of calling `frame.insert` many times, which has poor performance.  Consider joining all columns at once using pd.concat(axis=1) instead. To get a de-fragmented frame, use `newframe = frame.copy()`\n",
      "  df[f'{fold_col}_{fp}_{model_name}'] = preds\n",
      "/var/folders/nj/v2qpgqmx5v95v_p1dzfj62yr0000gn/T/ipykernel_80968/1484418075.py:15: PerformanceWarning: DataFrame is highly fragmented.  This is usually the result of calling `frame.insert` many times, which has poor performance.  Consider joining all columns at once using pd.concat(axis=1) instead. To get a de-fragmented frame, use `newframe = frame.copy()`\n",
      "  df.loc[test_mask, f\"{fold_col}_{fp}_Tc\"] = max_tcs\n",
      "/var/folders/nj/v2qpgqmx5v95v_p1dzfj62yr0000gn/T/ipykernel_80968/1484418075.py:23: PerformanceWarning: DataFrame is highly fragmented.  This is usually the result of calling `frame.insert` many times, which has poor performance.  Consider joining all columns at once using pd.concat(axis=1) instead. To get a de-fragmented frame, use `newframe = frame.copy()`\n",
      "  df[f'{fold_col}_{fp}_{model_name}'] = preds\n",
      "/var/folders/nj/v2qpgqmx5v95v_p1dzfj62yr0000gn/T/ipykernel_80968/1484418075.py:23: PerformanceWarning: DataFrame is highly fragmented.  This is usually the result of calling `frame.insert` many times, which has poor performance.  Consider joining all columns at once using pd.concat(axis=1) instead. To get a de-fragmented frame, use `newframe = frame.copy()`\n",
      "  df[f'{fold_col}_{fp}_{model_name}'] = preds\n",
      "/var/folders/nj/v2qpgqmx5v95v_p1dzfj62yr0000gn/T/ipykernel_80968/1484418075.py:23: PerformanceWarning: DataFrame is highly fragmented.  This is usually the result of calling `frame.insert` many times, which has poor performance.  Consider joining all columns at once using pd.concat(axis=1) instead. To get a de-fragmented frame, use `newframe = frame.copy()`\n",
      "  df[f'{fold_col}_{fp}_{model_name}'] = preds\n",
      "/var/folders/nj/v2qpgqmx5v95v_p1dzfj62yr0000gn/T/ipykernel_80968/1484418075.py:15: PerformanceWarning: DataFrame is highly fragmented.  This is usually the result of calling `frame.insert` many times, which has poor performance.  Consider joining all columns at once using pd.concat(axis=1) instead. To get a de-fragmented frame, use `newframe = frame.copy()`\n",
      "  df.loc[test_mask, f\"{fold_col}_{fp}_Tc\"] = max_tcs\n",
      "/var/folders/nj/v2qpgqmx5v95v_p1dzfj62yr0000gn/T/ipykernel_80968/1484418075.py:23: PerformanceWarning: DataFrame is highly fragmented.  This is usually the result of calling `frame.insert` many times, which has poor performance.  Consider joining all columns at once using pd.concat(axis=1) instead. To get a de-fragmented frame, use `newframe = frame.copy()`\n",
      "  df[f'{fold_col}_{fp}_{model_name}'] = preds\n",
      "/var/folders/nj/v2qpgqmx5v95v_p1dzfj62yr0000gn/T/ipykernel_80968/1484418075.py:23: PerformanceWarning: DataFrame is highly fragmented.  This is usually the result of calling `frame.insert` many times, which has poor performance.  Consider joining all columns at once using pd.concat(axis=1) instead. To get a de-fragmented frame, use `newframe = frame.copy()`\n",
      "  df[f'{fold_col}_{fp}_{model_name}'] = preds\n",
      "/var/folders/nj/v2qpgqmx5v95v_p1dzfj62yr0000gn/T/ipykernel_80968/1484418075.py:23: PerformanceWarning: DataFrame is highly fragmented.  This is usually the result of calling `frame.insert` many times, which has poor performance.  Consider joining all columns at once using pd.concat(axis=1) instead. To get a de-fragmented frame, use `newframe = frame.copy()`\n",
      "  df[f'{fold_col}_{fp}_{model_name}'] = preds\n",
      "\n",
      "Processing Splits and Folds:  39%|███▉      | 21/54 [09:02<07:12, 13.11s/it]\u001B[A/var/folders/nj/v2qpgqmx5v95v_p1dzfj62yr0000gn/T/ipykernel_80968/1484418075.py:15: PerformanceWarning: DataFrame is highly fragmented.  This is usually the result of calling `frame.insert` many times, which has poor performance.  Consider joining all columns at once using pd.concat(axis=1) instead. To get a de-fragmented frame, use `newframe = frame.copy()`\n",
      "  df.loc[test_mask, f\"{fold_col}_{fp}_Tc\"] = max_tcs\n",
      "/var/folders/nj/v2qpgqmx5v95v_p1dzfj62yr0000gn/T/ipykernel_80968/1484418075.py:23: PerformanceWarning: DataFrame is highly fragmented.  This is usually the result of calling `frame.insert` many times, which has poor performance.  Consider joining all columns at once using pd.concat(axis=1) instead. To get a de-fragmented frame, use `newframe = frame.copy()`\n",
      "  df[f'{fold_col}_{fp}_{model_name}'] = preds\n",
      "/var/folders/nj/v2qpgqmx5v95v_p1dzfj62yr0000gn/T/ipykernel_80968/1484418075.py:23: PerformanceWarning: DataFrame is highly fragmented.  This is usually the result of calling `frame.insert` many times, which has poor performance.  Consider joining all columns at once using pd.concat(axis=1) instead. To get a de-fragmented frame, use `newframe = frame.copy()`\n",
      "  df[f'{fold_col}_{fp}_{model_name}'] = preds\n",
      "/var/folders/nj/v2qpgqmx5v95v_p1dzfj62yr0000gn/T/ipykernel_80968/1484418075.py:23: PerformanceWarning: DataFrame is highly fragmented.  This is usually the result of calling `frame.insert` many times, which has poor performance.  Consider joining all columns at once using pd.concat(axis=1) instead. To get a de-fragmented frame, use `newframe = frame.copy()`\n",
      "  df[f'{fold_col}_{fp}_{model_name}'] = preds\n",
      "/var/folders/nj/v2qpgqmx5v95v_p1dzfj62yr0000gn/T/ipykernel_80968/1484418075.py:15: PerformanceWarning: DataFrame is highly fragmented.  This is usually the result of calling `frame.insert` many times, which has poor performance.  Consider joining all columns at once using pd.concat(axis=1) instead. To get a de-fragmented frame, use `newframe = frame.copy()`\n",
      "  df.loc[test_mask, f\"{fold_col}_{fp}_Tc\"] = max_tcs\n",
      "/var/folders/nj/v2qpgqmx5v95v_p1dzfj62yr0000gn/T/ipykernel_80968/1484418075.py:23: PerformanceWarning: DataFrame is highly fragmented.  This is usually the result of calling `frame.insert` many times, which has poor performance.  Consider joining all columns at once using pd.concat(axis=1) instead. To get a de-fragmented frame, use `newframe = frame.copy()`\n",
      "  df[f'{fold_col}_{fp}_{model_name}'] = preds\n",
      "/var/folders/nj/v2qpgqmx5v95v_p1dzfj62yr0000gn/T/ipykernel_80968/1484418075.py:23: PerformanceWarning: DataFrame is highly fragmented.  This is usually the result of calling `frame.insert` many times, which has poor performance.  Consider joining all columns at once using pd.concat(axis=1) instead. To get a de-fragmented frame, use `newframe = frame.copy()`\n",
      "  df[f'{fold_col}_{fp}_{model_name}'] = preds\n",
      "/var/folders/nj/v2qpgqmx5v95v_p1dzfj62yr0000gn/T/ipykernel_80968/1484418075.py:23: PerformanceWarning: DataFrame is highly fragmented.  This is usually the result of calling `frame.insert` many times, which has poor performance.  Consider joining all columns at once using pd.concat(axis=1) instead. To get a de-fragmented frame, use `newframe = frame.copy()`\n",
      "  df[f'{fold_col}_{fp}_{model_name}'] = preds\n",
      "/var/folders/nj/v2qpgqmx5v95v_p1dzfj62yr0000gn/T/ipykernel_80968/1484418075.py:15: PerformanceWarning: DataFrame is highly fragmented.  This is usually the result of calling `frame.insert` many times, which has poor performance.  Consider joining all columns at once using pd.concat(axis=1) instead. To get a de-fragmented frame, use `newframe = frame.copy()`\n",
      "  df.loc[test_mask, f\"{fold_col}_{fp}_Tc\"] = max_tcs\n",
      "/var/folders/nj/v2qpgqmx5v95v_p1dzfj62yr0000gn/T/ipykernel_80968/1484418075.py:23: PerformanceWarning: DataFrame is highly fragmented.  This is usually the result of calling `frame.insert` many times, which has poor performance.  Consider joining all columns at once using pd.concat(axis=1) instead. To get a de-fragmented frame, use `newframe = frame.copy()`\n",
      "  df[f'{fold_col}_{fp}_{model_name}'] = preds\n",
      "/var/folders/nj/v2qpgqmx5v95v_p1dzfj62yr0000gn/T/ipykernel_80968/1484418075.py:23: PerformanceWarning: DataFrame is highly fragmented.  This is usually the result of calling `frame.insert` many times, which has poor performance.  Consider joining all columns at once using pd.concat(axis=1) instead. To get a de-fragmented frame, use `newframe = frame.copy()`\n",
      "  df[f'{fold_col}_{fp}_{model_name}'] = preds\n",
      "/var/folders/nj/v2qpgqmx5v95v_p1dzfj62yr0000gn/T/ipykernel_80968/1484418075.py:23: PerformanceWarning: DataFrame is highly fragmented.  This is usually the result of calling `frame.insert` many times, which has poor performance.  Consider joining all columns at once using pd.concat(axis=1) instead. To get a de-fragmented frame, use `newframe = frame.copy()`\n",
      "  df[f'{fold_col}_{fp}_{model_name}'] = preds\n",
      "\n",
      "Processing Splits and Folds:  41%|████      | 22/54 [09:17<07:26, 13.96s/it]\u001B[A/var/folders/nj/v2qpgqmx5v95v_p1dzfj62yr0000gn/T/ipykernel_80968/1484418075.py:15: PerformanceWarning: DataFrame is highly fragmented.  This is usually the result of calling `frame.insert` many times, which has poor performance.  Consider joining all columns at once using pd.concat(axis=1) instead. To get a de-fragmented frame, use `newframe = frame.copy()`\n",
      "  df.loc[test_mask, f\"{fold_col}_{fp}_Tc\"] = max_tcs\n",
      "/var/folders/nj/v2qpgqmx5v95v_p1dzfj62yr0000gn/T/ipykernel_80968/1484418075.py:23: PerformanceWarning: DataFrame is highly fragmented.  This is usually the result of calling `frame.insert` many times, which has poor performance.  Consider joining all columns at once using pd.concat(axis=1) instead. To get a de-fragmented frame, use `newframe = frame.copy()`\n",
      "  df[f'{fold_col}_{fp}_{model_name}'] = preds\n",
      "/var/folders/nj/v2qpgqmx5v95v_p1dzfj62yr0000gn/T/ipykernel_80968/1484418075.py:23: PerformanceWarning: DataFrame is highly fragmented.  This is usually the result of calling `frame.insert` many times, which has poor performance.  Consider joining all columns at once using pd.concat(axis=1) instead. To get a de-fragmented frame, use `newframe = frame.copy()`\n",
      "  df[f'{fold_col}_{fp}_{model_name}'] = preds\n",
      "/var/folders/nj/v2qpgqmx5v95v_p1dzfj62yr0000gn/T/ipykernel_80968/1484418075.py:23: PerformanceWarning: DataFrame is highly fragmented.  This is usually the result of calling `frame.insert` many times, which has poor performance.  Consider joining all columns at once using pd.concat(axis=1) instead. To get a de-fragmented frame, use `newframe = frame.copy()`\n",
      "  df[f'{fold_col}_{fp}_{model_name}'] = preds\n",
      "/var/folders/nj/v2qpgqmx5v95v_p1dzfj62yr0000gn/T/ipykernel_80968/1484418075.py:15: PerformanceWarning: DataFrame is highly fragmented.  This is usually the result of calling `frame.insert` many times, which has poor performance.  Consider joining all columns at once using pd.concat(axis=1) instead. To get a de-fragmented frame, use `newframe = frame.copy()`\n",
      "  df.loc[test_mask, f\"{fold_col}_{fp}_Tc\"] = max_tcs\n",
      "/var/folders/nj/v2qpgqmx5v95v_p1dzfj62yr0000gn/T/ipykernel_80968/1484418075.py:23: PerformanceWarning: DataFrame is highly fragmented.  This is usually the result of calling `frame.insert` many times, which has poor performance.  Consider joining all columns at once using pd.concat(axis=1) instead. To get a de-fragmented frame, use `newframe = frame.copy()`\n",
      "  df[f'{fold_col}_{fp}_{model_name}'] = preds\n",
      "/var/folders/nj/v2qpgqmx5v95v_p1dzfj62yr0000gn/T/ipykernel_80968/1484418075.py:23: PerformanceWarning: DataFrame is highly fragmented.  This is usually the result of calling `frame.insert` many times, which has poor performance.  Consider joining all columns at once using pd.concat(axis=1) instead. To get a de-fragmented frame, use `newframe = frame.copy()`\n",
      "  df[f'{fold_col}_{fp}_{model_name}'] = preds\n",
      "/var/folders/nj/v2qpgqmx5v95v_p1dzfj62yr0000gn/T/ipykernel_80968/1484418075.py:23: PerformanceWarning: DataFrame is highly fragmented.  This is usually the result of calling `frame.insert` many times, which has poor performance.  Consider joining all columns at once using pd.concat(axis=1) instead. To get a de-fragmented frame, use `newframe = frame.copy()`\n",
      "  df[f'{fold_col}_{fp}_{model_name}'] = preds\n",
      "/var/folders/nj/v2qpgqmx5v95v_p1dzfj62yr0000gn/T/ipykernel_80968/1484418075.py:15: PerformanceWarning: DataFrame is highly fragmented.  This is usually the result of calling `frame.insert` many times, which has poor performance.  Consider joining all columns at once using pd.concat(axis=1) instead. To get a de-fragmented frame, use `newframe = frame.copy()`\n",
      "  df.loc[test_mask, f\"{fold_col}_{fp}_Tc\"] = max_tcs\n",
      "/var/folders/nj/v2qpgqmx5v95v_p1dzfj62yr0000gn/T/ipykernel_80968/1484418075.py:23: PerformanceWarning: DataFrame is highly fragmented.  This is usually the result of calling `frame.insert` many times, which has poor performance.  Consider joining all columns at once using pd.concat(axis=1) instead. To get a de-fragmented frame, use `newframe = frame.copy()`\n",
      "  df[f'{fold_col}_{fp}_{model_name}'] = preds\n",
      "/var/folders/nj/v2qpgqmx5v95v_p1dzfj62yr0000gn/T/ipykernel_80968/1484418075.py:23: PerformanceWarning: DataFrame is highly fragmented.  This is usually the result of calling `frame.insert` many times, which has poor performance.  Consider joining all columns at once using pd.concat(axis=1) instead. To get a de-fragmented frame, use `newframe = frame.copy()`\n",
      "  df[f'{fold_col}_{fp}_{model_name}'] = preds\n",
      "/var/folders/nj/v2qpgqmx5v95v_p1dzfj62yr0000gn/T/ipykernel_80968/1484418075.py:23: PerformanceWarning: DataFrame is highly fragmented.  This is usually the result of calling `frame.insert` many times, which has poor performance.  Consider joining all columns at once using pd.concat(axis=1) instead. To get a de-fragmented frame, use `newframe = frame.copy()`\n",
      "  df[f'{fold_col}_{fp}_{model_name}'] = preds\n",
      "\n",
      "Processing Splits and Folds:  43%|████▎     | 23/54 [09:40<08:30, 16.48s/it]\u001B[A/var/folders/nj/v2qpgqmx5v95v_p1dzfj62yr0000gn/T/ipykernel_80968/1484418075.py:15: PerformanceWarning: DataFrame is highly fragmented.  This is usually the result of calling `frame.insert` many times, which has poor performance.  Consider joining all columns at once using pd.concat(axis=1) instead. To get a de-fragmented frame, use `newframe = frame.copy()`\n",
      "  df.loc[test_mask, f\"{fold_col}_{fp}_Tc\"] = max_tcs\n",
      "/var/folders/nj/v2qpgqmx5v95v_p1dzfj62yr0000gn/T/ipykernel_80968/1484418075.py:23: PerformanceWarning: DataFrame is highly fragmented.  This is usually the result of calling `frame.insert` many times, which has poor performance.  Consider joining all columns at once using pd.concat(axis=1) instead. To get a de-fragmented frame, use `newframe = frame.copy()`\n",
      "  df[f'{fold_col}_{fp}_{model_name}'] = preds\n",
      "/var/folders/nj/v2qpgqmx5v95v_p1dzfj62yr0000gn/T/ipykernel_80968/1484418075.py:23: PerformanceWarning: DataFrame is highly fragmented.  This is usually the result of calling `frame.insert` many times, which has poor performance.  Consider joining all columns at once using pd.concat(axis=1) instead. To get a de-fragmented frame, use `newframe = frame.copy()`\n",
      "  df[f'{fold_col}_{fp}_{model_name}'] = preds\n",
      "/var/folders/nj/v2qpgqmx5v95v_p1dzfj62yr0000gn/T/ipykernel_80968/1484418075.py:23: PerformanceWarning: DataFrame is highly fragmented.  This is usually the result of calling `frame.insert` many times, which has poor performance.  Consider joining all columns at once using pd.concat(axis=1) instead. To get a de-fragmented frame, use `newframe = frame.copy()`\n",
      "  df[f'{fold_col}_{fp}_{model_name}'] = preds\n",
      "/var/folders/nj/v2qpgqmx5v95v_p1dzfj62yr0000gn/T/ipykernel_80968/1484418075.py:15: PerformanceWarning: DataFrame is highly fragmented.  This is usually the result of calling `frame.insert` many times, which has poor performance.  Consider joining all columns at once using pd.concat(axis=1) instead. To get a de-fragmented frame, use `newframe = frame.copy()`\n",
      "  df.loc[test_mask, f\"{fold_col}_{fp}_Tc\"] = max_tcs\n",
      "/var/folders/nj/v2qpgqmx5v95v_p1dzfj62yr0000gn/T/ipykernel_80968/1484418075.py:23: PerformanceWarning: DataFrame is highly fragmented.  This is usually the result of calling `frame.insert` many times, which has poor performance.  Consider joining all columns at once using pd.concat(axis=1) instead. To get a de-fragmented frame, use `newframe = frame.copy()`\n",
      "  df[f'{fold_col}_{fp}_{model_name}'] = preds\n",
      "/var/folders/nj/v2qpgqmx5v95v_p1dzfj62yr0000gn/T/ipykernel_80968/1484418075.py:23: PerformanceWarning: DataFrame is highly fragmented.  This is usually the result of calling `frame.insert` many times, which has poor performance.  Consider joining all columns at once using pd.concat(axis=1) instead. To get a de-fragmented frame, use `newframe = frame.copy()`\n",
      "  df[f'{fold_col}_{fp}_{model_name}'] = preds\n",
      "/var/folders/nj/v2qpgqmx5v95v_p1dzfj62yr0000gn/T/ipykernel_80968/1484418075.py:23: PerformanceWarning: DataFrame is highly fragmented.  This is usually the result of calling `frame.insert` many times, which has poor performance.  Consider joining all columns at once using pd.concat(axis=1) instead. To get a de-fragmented frame, use `newframe = frame.copy()`\n",
      "  df[f'{fold_col}_{fp}_{model_name}'] = preds\n",
      "/var/folders/nj/v2qpgqmx5v95v_p1dzfj62yr0000gn/T/ipykernel_80968/1484418075.py:15: PerformanceWarning: DataFrame is highly fragmented.  This is usually the result of calling `frame.insert` many times, which has poor performance.  Consider joining all columns at once using pd.concat(axis=1) instead. To get a de-fragmented frame, use `newframe = frame.copy()`\n",
      "  df.loc[test_mask, f\"{fold_col}_{fp}_Tc\"] = max_tcs\n",
      "/var/folders/nj/v2qpgqmx5v95v_p1dzfj62yr0000gn/T/ipykernel_80968/1484418075.py:23: PerformanceWarning: DataFrame is highly fragmented.  This is usually the result of calling `frame.insert` many times, which has poor performance.  Consider joining all columns at once using pd.concat(axis=1) instead. To get a de-fragmented frame, use `newframe = frame.copy()`\n",
      "  df[f'{fold_col}_{fp}_{model_name}'] = preds\n",
      "/var/folders/nj/v2qpgqmx5v95v_p1dzfj62yr0000gn/T/ipykernel_80968/1484418075.py:23: PerformanceWarning: DataFrame is highly fragmented.  This is usually the result of calling `frame.insert` many times, which has poor performance.  Consider joining all columns at once using pd.concat(axis=1) instead. To get a de-fragmented frame, use `newframe = frame.copy()`\n",
      "  df[f'{fold_col}_{fp}_{model_name}'] = preds\n",
      "/var/folders/nj/v2qpgqmx5v95v_p1dzfj62yr0000gn/T/ipykernel_80968/1484418075.py:23: PerformanceWarning: DataFrame is highly fragmented.  This is usually the result of calling `frame.insert` many times, which has poor performance.  Consider joining all columns at once using pd.concat(axis=1) instead. To get a de-fragmented frame, use `newframe = frame.copy()`\n",
      "  df[f'{fold_col}_{fp}_{model_name}'] = preds\n",
      "\n",
      "Processing Splits and Folds:  44%|████▍     | 24/54 [10:00<08:46, 17.56s/it]\u001B[A/var/folders/nj/v2qpgqmx5v95v_p1dzfj62yr0000gn/T/ipykernel_80968/1484418075.py:15: PerformanceWarning: DataFrame is highly fragmented.  This is usually the result of calling `frame.insert` many times, which has poor performance.  Consider joining all columns at once using pd.concat(axis=1) instead. To get a de-fragmented frame, use `newframe = frame.copy()`\n",
      "  df.loc[test_mask, f\"{fold_col}_{fp}_Tc\"] = max_tcs\n",
      "/var/folders/nj/v2qpgqmx5v95v_p1dzfj62yr0000gn/T/ipykernel_80968/1484418075.py:23: PerformanceWarning: DataFrame is highly fragmented.  This is usually the result of calling `frame.insert` many times, which has poor performance.  Consider joining all columns at once using pd.concat(axis=1) instead. To get a de-fragmented frame, use `newframe = frame.copy()`\n",
      "  df[f'{fold_col}_{fp}_{model_name}'] = preds\n",
      "/var/folders/nj/v2qpgqmx5v95v_p1dzfj62yr0000gn/T/ipykernel_80968/1484418075.py:23: PerformanceWarning: DataFrame is highly fragmented.  This is usually the result of calling `frame.insert` many times, which has poor performance.  Consider joining all columns at once using pd.concat(axis=1) instead. To get a de-fragmented frame, use `newframe = frame.copy()`\n",
      "  df[f'{fold_col}_{fp}_{model_name}'] = preds\n",
      "/var/folders/nj/v2qpgqmx5v95v_p1dzfj62yr0000gn/T/ipykernel_80968/1484418075.py:23: PerformanceWarning: DataFrame is highly fragmented.  This is usually the result of calling `frame.insert` many times, which has poor performance.  Consider joining all columns at once using pd.concat(axis=1) instead. To get a de-fragmented frame, use `newframe = frame.copy()`\n",
      "  df[f'{fold_col}_{fp}_{model_name}'] = preds\n",
      "/var/folders/nj/v2qpgqmx5v95v_p1dzfj62yr0000gn/T/ipykernel_80968/1484418075.py:15: PerformanceWarning: DataFrame is highly fragmented.  This is usually the result of calling `frame.insert` many times, which has poor performance.  Consider joining all columns at once using pd.concat(axis=1) instead. To get a de-fragmented frame, use `newframe = frame.copy()`\n",
      "  df.loc[test_mask, f\"{fold_col}_{fp}_Tc\"] = max_tcs\n",
      "/var/folders/nj/v2qpgqmx5v95v_p1dzfj62yr0000gn/T/ipykernel_80968/1484418075.py:23: PerformanceWarning: DataFrame is highly fragmented.  This is usually the result of calling `frame.insert` many times, which has poor performance.  Consider joining all columns at once using pd.concat(axis=1) instead. To get a de-fragmented frame, use `newframe = frame.copy()`\n",
      "  df[f'{fold_col}_{fp}_{model_name}'] = preds\n",
      "/var/folders/nj/v2qpgqmx5v95v_p1dzfj62yr0000gn/T/ipykernel_80968/1484418075.py:23: PerformanceWarning: DataFrame is highly fragmented.  This is usually the result of calling `frame.insert` many times, which has poor performance.  Consider joining all columns at once using pd.concat(axis=1) instead. To get a de-fragmented frame, use `newframe = frame.copy()`\n",
      "  df[f'{fold_col}_{fp}_{model_name}'] = preds\n",
      "/var/folders/nj/v2qpgqmx5v95v_p1dzfj62yr0000gn/T/ipykernel_80968/1484418075.py:23: PerformanceWarning: DataFrame is highly fragmented.  This is usually the result of calling `frame.insert` many times, which has poor performance.  Consider joining all columns at once using pd.concat(axis=1) instead. To get a de-fragmented frame, use `newframe = frame.copy()`\n",
      "  df[f'{fold_col}_{fp}_{model_name}'] = preds\n",
      "/var/folders/nj/v2qpgqmx5v95v_p1dzfj62yr0000gn/T/ipykernel_80968/1484418075.py:15: PerformanceWarning: DataFrame is highly fragmented.  This is usually the result of calling `frame.insert` many times, which has poor performance.  Consider joining all columns at once using pd.concat(axis=1) instead. To get a de-fragmented frame, use `newframe = frame.copy()`\n",
      "  df.loc[test_mask, f\"{fold_col}_{fp}_Tc\"] = max_tcs\n",
      "/var/folders/nj/v2qpgqmx5v95v_p1dzfj62yr0000gn/T/ipykernel_80968/1484418075.py:23: PerformanceWarning: DataFrame is highly fragmented.  This is usually the result of calling `frame.insert` many times, which has poor performance.  Consider joining all columns at once using pd.concat(axis=1) instead. To get a de-fragmented frame, use `newframe = frame.copy()`\n",
      "  df[f'{fold_col}_{fp}_{model_name}'] = preds\n",
      "/var/folders/nj/v2qpgqmx5v95v_p1dzfj62yr0000gn/T/ipykernel_80968/1484418075.py:23: PerformanceWarning: DataFrame is highly fragmented.  This is usually the result of calling `frame.insert` many times, which has poor performance.  Consider joining all columns at once using pd.concat(axis=1) instead. To get a de-fragmented frame, use `newframe = frame.copy()`\n",
      "  df[f'{fold_col}_{fp}_{model_name}'] = preds\n",
      "/var/folders/nj/v2qpgqmx5v95v_p1dzfj62yr0000gn/T/ipykernel_80968/1484418075.py:23: PerformanceWarning: DataFrame is highly fragmented.  This is usually the result of calling `frame.insert` many times, which has poor performance.  Consider joining all columns at once using pd.concat(axis=1) instead. To get a de-fragmented frame, use `newframe = frame.copy()`\n",
      "  df[f'{fold_col}_{fp}_{model_name}'] = preds\n",
      "\n",
      "Processing Splits and Folds:  46%|████▋     | 25/54 [10:26<09:43, 20.12s/it]\u001B[A/var/folders/nj/v2qpgqmx5v95v_p1dzfj62yr0000gn/T/ipykernel_80968/1484418075.py:15: PerformanceWarning: DataFrame is highly fragmented.  This is usually the result of calling `frame.insert` many times, which has poor performance.  Consider joining all columns at once using pd.concat(axis=1) instead. To get a de-fragmented frame, use `newframe = frame.copy()`\n",
      "  df.loc[test_mask, f\"{fold_col}_{fp}_Tc\"] = max_tcs\n",
      "/var/folders/nj/v2qpgqmx5v95v_p1dzfj62yr0000gn/T/ipykernel_80968/1484418075.py:23: PerformanceWarning: DataFrame is highly fragmented.  This is usually the result of calling `frame.insert` many times, which has poor performance.  Consider joining all columns at once using pd.concat(axis=1) instead. To get a de-fragmented frame, use `newframe = frame.copy()`\n",
      "  df[f'{fold_col}_{fp}_{model_name}'] = preds\n",
      "/var/folders/nj/v2qpgqmx5v95v_p1dzfj62yr0000gn/T/ipykernel_80968/1484418075.py:23: PerformanceWarning: DataFrame is highly fragmented.  This is usually the result of calling `frame.insert` many times, which has poor performance.  Consider joining all columns at once using pd.concat(axis=1) instead. To get a de-fragmented frame, use `newframe = frame.copy()`\n",
      "  df[f'{fold_col}_{fp}_{model_name}'] = preds\n",
      "/var/folders/nj/v2qpgqmx5v95v_p1dzfj62yr0000gn/T/ipykernel_80968/1484418075.py:23: PerformanceWarning: DataFrame is highly fragmented.  This is usually the result of calling `frame.insert` many times, which has poor performance.  Consider joining all columns at once using pd.concat(axis=1) instead. To get a de-fragmented frame, use `newframe = frame.copy()`\n",
      "  df[f'{fold_col}_{fp}_{model_name}'] = preds\n",
      "/var/folders/nj/v2qpgqmx5v95v_p1dzfj62yr0000gn/T/ipykernel_80968/1484418075.py:15: PerformanceWarning: DataFrame is highly fragmented.  This is usually the result of calling `frame.insert` many times, which has poor performance.  Consider joining all columns at once using pd.concat(axis=1) instead. To get a de-fragmented frame, use `newframe = frame.copy()`\n",
      "  df.loc[test_mask, f\"{fold_col}_{fp}_Tc\"] = max_tcs\n",
      "/var/folders/nj/v2qpgqmx5v95v_p1dzfj62yr0000gn/T/ipykernel_80968/1484418075.py:23: PerformanceWarning: DataFrame is highly fragmented.  This is usually the result of calling `frame.insert` many times, which has poor performance.  Consider joining all columns at once using pd.concat(axis=1) instead. To get a de-fragmented frame, use `newframe = frame.copy()`\n",
      "  df[f'{fold_col}_{fp}_{model_name}'] = preds\n",
      "/var/folders/nj/v2qpgqmx5v95v_p1dzfj62yr0000gn/T/ipykernel_80968/1484418075.py:23: PerformanceWarning: DataFrame is highly fragmented.  This is usually the result of calling `frame.insert` many times, which has poor performance.  Consider joining all columns at once using pd.concat(axis=1) instead. To get a de-fragmented frame, use `newframe = frame.copy()`\n",
      "  df[f'{fold_col}_{fp}_{model_name}'] = preds\n",
      "/var/folders/nj/v2qpgqmx5v95v_p1dzfj62yr0000gn/T/ipykernel_80968/1484418075.py:23: PerformanceWarning: DataFrame is highly fragmented.  This is usually the result of calling `frame.insert` many times, which has poor performance.  Consider joining all columns at once using pd.concat(axis=1) instead. To get a de-fragmented frame, use `newframe = frame.copy()`\n",
      "  df[f'{fold_col}_{fp}_{model_name}'] = preds\n",
      "/var/folders/nj/v2qpgqmx5v95v_p1dzfj62yr0000gn/T/ipykernel_80968/1484418075.py:15: PerformanceWarning: DataFrame is highly fragmented.  This is usually the result of calling `frame.insert` many times, which has poor performance.  Consider joining all columns at once using pd.concat(axis=1) instead. To get a de-fragmented frame, use `newframe = frame.copy()`\n",
      "  df.loc[test_mask, f\"{fold_col}_{fp}_Tc\"] = max_tcs\n",
      "/var/folders/nj/v2qpgqmx5v95v_p1dzfj62yr0000gn/T/ipykernel_80968/1484418075.py:23: PerformanceWarning: DataFrame is highly fragmented.  This is usually the result of calling `frame.insert` many times, which has poor performance.  Consider joining all columns at once using pd.concat(axis=1) instead. To get a de-fragmented frame, use `newframe = frame.copy()`\n",
      "  df[f'{fold_col}_{fp}_{model_name}'] = preds\n",
      "/var/folders/nj/v2qpgqmx5v95v_p1dzfj62yr0000gn/T/ipykernel_80968/1484418075.py:23: PerformanceWarning: DataFrame is highly fragmented.  This is usually the result of calling `frame.insert` many times, which has poor performance.  Consider joining all columns at once using pd.concat(axis=1) instead. To get a de-fragmented frame, use `newframe = frame.copy()`\n",
      "  df[f'{fold_col}_{fp}_{model_name}'] = preds\n",
      "/var/folders/nj/v2qpgqmx5v95v_p1dzfj62yr0000gn/T/ipykernel_80968/1484418075.py:23: PerformanceWarning: DataFrame is highly fragmented.  This is usually the result of calling `frame.insert` many times, which has poor performance.  Consider joining all columns at once using pd.concat(axis=1) instead. To get a de-fragmented frame, use `newframe = frame.copy()`\n",
      "  df[f'{fold_col}_{fp}_{model_name}'] = preds\n",
      "\n",
      "Processing Splits and Folds:  48%|████▊     | 26/54 [10:48<09:38, 20.67s/it]\u001B[A/var/folders/nj/v2qpgqmx5v95v_p1dzfj62yr0000gn/T/ipykernel_80968/1484418075.py:15: PerformanceWarning: DataFrame is highly fragmented.  This is usually the result of calling `frame.insert` many times, which has poor performance.  Consider joining all columns at once using pd.concat(axis=1) instead. To get a de-fragmented frame, use `newframe = frame.copy()`\n",
      "  df.loc[test_mask, f\"{fold_col}_{fp}_Tc\"] = max_tcs\n",
      "/var/folders/nj/v2qpgqmx5v95v_p1dzfj62yr0000gn/T/ipykernel_80968/1484418075.py:23: PerformanceWarning: DataFrame is highly fragmented.  This is usually the result of calling `frame.insert` many times, which has poor performance.  Consider joining all columns at once using pd.concat(axis=1) instead. To get a de-fragmented frame, use `newframe = frame.copy()`\n",
      "  df[f'{fold_col}_{fp}_{model_name}'] = preds\n",
      "/var/folders/nj/v2qpgqmx5v95v_p1dzfj62yr0000gn/T/ipykernel_80968/1484418075.py:23: PerformanceWarning: DataFrame is highly fragmented.  This is usually the result of calling `frame.insert` many times, which has poor performance.  Consider joining all columns at once using pd.concat(axis=1) instead. To get a de-fragmented frame, use `newframe = frame.copy()`\n",
      "  df[f'{fold_col}_{fp}_{model_name}'] = preds\n",
      "/var/folders/nj/v2qpgqmx5v95v_p1dzfj62yr0000gn/T/ipykernel_80968/1484418075.py:23: PerformanceWarning: DataFrame is highly fragmented.  This is usually the result of calling `frame.insert` many times, which has poor performance.  Consider joining all columns at once using pd.concat(axis=1) instead. To get a de-fragmented frame, use `newframe = frame.copy()`\n",
      "  df[f'{fold_col}_{fp}_{model_name}'] = preds\n",
      "/var/folders/nj/v2qpgqmx5v95v_p1dzfj62yr0000gn/T/ipykernel_80968/1484418075.py:15: PerformanceWarning: DataFrame is highly fragmented.  This is usually the result of calling `frame.insert` many times, which has poor performance.  Consider joining all columns at once using pd.concat(axis=1) instead. To get a de-fragmented frame, use `newframe = frame.copy()`\n",
      "  df.loc[test_mask, f\"{fold_col}_{fp}_Tc\"] = max_tcs\n",
      "/var/folders/nj/v2qpgqmx5v95v_p1dzfj62yr0000gn/T/ipykernel_80968/1484418075.py:23: PerformanceWarning: DataFrame is highly fragmented.  This is usually the result of calling `frame.insert` many times, which has poor performance.  Consider joining all columns at once using pd.concat(axis=1) instead. To get a de-fragmented frame, use `newframe = frame.copy()`\n",
      "  df[f'{fold_col}_{fp}_{model_name}'] = preds\n",
      "/var/folders/nj/v2qpgqmx5v95v_p1dzfj62yr0000gn/T/ipykernel_80968/1484418075.py:23: PerformanceWarning: DataFrame is highly fragmented.  This is usually the result of calling `frame.insert` many times, which has poor performance.  Consider joining all columns at once using pd.concat(axis=1) instead. To get a de-fragmented frame, use `newframe = frame.copy()`\n",
      "  df[f'{fold_col}_{fp}_{model_name}'] = preds\n",
      "/var/folders/nj/v2qpgqmx5v95v_p1dzfj62yr0000gn/T/ipykernel_80968/1484418075.py:23: PerformanceWarning: DataFrame is highly fragmented.  This is usually the result of calling `frame.insert` many times, which has poor performance.  Consider joining all columns at once using pd.concat(axis=1) instead. To get a de-fragmented frame, use `newframe = frame.copy()`\n",
      "  df[f'{fold_col}_{fp}_{model_name}'] = preds\n",
      "/var/folders/nj/v2qpgqmx5v95v_p1dzfj62yr0000gn/T/ipykernel_80968/1484418075.py:15: PerformanceWarning: DataFrame is highly fragmented.  This is usually the result of calling `frame.insert` many times, which has poor performance.  Consider joining all columns at once using pd.concat(axis=1) instead. To get a de-fragmented frame, use `newframe = frame.copy()`\n",
      "  df.loc[test_mask, f\"{fold_col}_{fp}_Tc\"] = max_tcs\n",
      "Processing Splits and Folds:  48%|████▊     | 26/54 [11:05<11:56, 25.59s/it]\n",
      "Training:   0%|          | 0/67 [11:05<?, ?it/s]\n"
     ]
    },
    {
     "ename": "KeyboardInterrupt",
     "evalue": "",
     "output_type": "error",
     "traceback": [
      "\u001B[0;31m---------------------------------------------------------------------------\u001B[0m",
      "\u001B[0;31mKeyboardInterrupt\u001B[0m                         Traceback (most recent call last)",
      "Cell \u001B[0;32mIn[26], line 22\u001B[0m\n\u001B[1;32m     19\u001B[0m         X \u001B[38;5;241m=\u001B[39m np\u001B[38;5;241m.\u001B[39mvstack(df[fp]\u001B[38;5;241m.\u001B[39mvalues)\n\u001B[1;32m     21\u001B[0m         \u001B[38;5;28;01mfor\u001B[39;00m regressor_factory \u001B[38;5;129;01min\u001B[39;00m regressor_factories:\n\u001B[0;32m---> 22\u001B[0m             model_name, preds \u001B[38;5;241m=\u001B[39m \u001B[43mprocess_regressor\u001B[49m\u001B[43m(\u001B[49m\u001B[43mregressor_factory\u001B[49m\u001B[43m,\u001B[49m\u001B[43m \u001B[49m\u001B[43mX_train\u001B[49m\u001B[43m,\u001B[49m\u001B[43m \u001B[49m\u001B[43my_train\u001B[49m\u001B[43m,\u001B[49m\u001B[43m \u001B[49m\u001B[43mX\u001B[49m\u001B[43m)\u001B[49m\n\u001B[1;32m     23\u001B[0m             df[\u001B[38;5;124mf\u001B[39m\u001B[38;5;124m'\u001B[39m\u001B[38;5;132;01m{\u001B[39;00mfold_col\u001B[38;5;132;01m}\u001B[39;00m\u001B[38;5;124m_\u001B[39m\u001B[38;5;132;01m{\u001B[39;00mfp\u001B[38;5;132;01m}\u001B[39;00m\u001B[38;5;124m_\u001B[39m\u001B[38;5;132;01m{\u001B[39;00mmodel_name\u001B[38;5;132;01m}\u001B[39;00m\u001B[38;5;124m'\u001B[39m] \u001B[38;5;241m=\u001B[39m preds\n\u001B[1;32m     24\u001B[0m df\u001B[38;5;241m.\u001B[39mto_csv(\u001B[38;5;124mf\u001B[39m\u001B[38;5;124m\"\u001B[39m\u001B[38;5;124m../benchmark/data/results/\u001B[39m\u001B[38;5;132;01m{\u001B[39;00mfname\u001B[38;5;132;01m}\u001B[39;00m\u001B[38;5;124m\"\u001B[39m)\n",
      "Cell \u001B[0;32mIn[19], line 3\u001B[0m, in \u001B[0;36mprocess_regressor\u001B[0;34m(regressor_factory, X_train, y_train, fingerprint_vals)\u001B[0m\n\u001B[1;32m      1\u001B[0m \u001B[38;5;28;01mdef\u001B[39;00m\u001B[38;5;250m \u001B[39m\u001B[38;5;21mprocess_regressor\u001B[39m(regressor_factory, X_train, y_train, fingerprint_vals):\n\u001B[1;32m      2\u001B[0m     regressor \u001B[38;5;241m=\u001B[39m regressor_factory(\u001B[38;5;28mlen\u001B[39m(X_train))\n\u001B[0;32m----> 3\u001B[0m     \u001B[43mregressor\u001B[49m\u001B[38;5;241;43m.\u001B[39;49m\u001B[43mfit\u001B[49m\u001B[43m(\u001B[49m\u001B[43mX_train\u001B[49m\u001B[43m,\u001B[49m\u001B[43m \u001B[49m\u001B[43my_train\u001B[49m\u001B[43m)\u001B[49m\n\u001B[1;32m      4\u001B[0m     y_pred \u001B[38;5;241m=\u001B[39m regressor\u001B[38;5;241m.\u001B[39mpredict(np\u001B[38;5;241m.\u001B[39mvstack(fingerprint_vals))\n\u001B[1;32m      5\u001B[0m     identifier \u001B[38;5;241m=\u001B[39m \u001B[38;5;28mgetattr\u001B[39m(regressor_factory, \u001B[38;5;124m'\u001B[39m\u001B[38;5;124m__name__\u001B[39m\u001B[38;5;124m'\u001B[39m, \u001B[38;5;28mstr\u001B[39m(regressor_factory))\n",
      "File \u001B[0;32m~/projects/sfcv/.venv/lib/python3.11/site-packages/sklearn/base.py:1389\u001B[0m, in \u001B[0;36m_fit_context.<locals>.decorator.<locals>.wrapper\u001B[0;34m(estimator, *args, **kwargs)\u001B[0m\n\u001B[1;32m   1382\u001B[0m     estimator\u001B[38;5;241m.\u001B[39m_validate_params()\n\u001B[1;32m   1384\u001B[0m \u001B[38;5;28;01mwith\u001B[39;00m config_context(\n\u001B[1;32m   1385\u001B[0m     skip_parameter_validation\u001B[38;5;241m=\u001B[39m(\n\u001B[1;32m   1386\u001B[0m         prefer_skip_nested_validation \u001B[38;5;129;01mor\u001B[39;00m global_skip_validation\n\u001B[1;32m   1387\u001B[0m     )\n\u001B[1;32m   1388\u001B[0m ):\n\u001B[0;32m-> 1389\u001B[0m     \u001B[38;5;28;01mreturn\u001B[39;00m \u001B[43mfit_method\u001B[49m\u001B[43m(\u001B[49m\u001B[43mestimator\u001B[49m\u001B[43m,\u001B[49m\u001B[43m \u001B[49m\u001B[38;5;241;43m*\u001B[39;49m\u001B[43margs\u001B[49m\u001B[43m,\u001B[49m\u001B[43m \u001B[49m\u001B[38;5;241;43m*\u001B[39;49m\u001B[38;5;241;43m*\u001B[39;49m\u001B[43mkwargs\u001B[49m\u001B[43m)\u001B[49m\n",
      "File \u001B[0;32m~/projects/sfcv/.venv/lib/python3.11/site-packages/sklearn/ensemble/_forest.py:487\u001B[0m, in \u001B[0;36mBaseForest.fit\u001B[0;34m(self, X, y, sample_weight)\u001B[0m\n\u001B[1;32m    476\u001B[0m trees \u001B[38;5;241m=\u001B[39m [\n\u001B[1;32m    477\u001B[0m     \u001B[38;5;28mself\u001B[39m\u001B[38;5;241m.\u001B[39m_make_estimator(append\u001B[38;5;241m=\u001B[39m\u001B[38;5;28;01mFalse\u001B[39;00m, random_state\u001B[38;5;241m=\u001B[39mrandom_state)\n\u001B[1;32m    478\u001B[0m     \u001B[38;5;28;01mfor\u001B[39;00m i \u001B[38;5;129;01min\u001B[39;00m \u001B[38;5;28mrange\u001B[39m(n_more_estimators)\n\u001B[1;32m    479\u001B[0m ]\n\u001B[1;32m    481\u001B[0m \u001B[38;5;66;03m# Parallel loop: we prefer the threading backend as the Cython code\u001B[39;00m\n\u001B[1;32m    482\u001B[0m \u001B[38;5;66;03m# for fitting the trees is internally releasing the Python GIL\u001B[39;00m\n\u001B[1;32m    483\u001B[0m \u001B[38;5;66;03m# making threading more efficient than multiprocessing in\u001B[39;00m\n\u001B[1;32m    484\u001B[0m \u001B[38;5;66;03m# that case. However, for joblib 0.12+ we respect any\u001B[39;00m\n\u001B[1;32m    485\u001B[0m \u001B[38;5;66;03m# parallel_backend contexts set at a higher level,\u001B[39;00m\n\u001B[1;32m    486\u001B[0m \u001B[38;5;66;03m# since correctness does not rely on using threads.\u001B[39;00m\n\u001B[0;32m--> 487\u001B[0m trees \u001B[38;5;241m=\u001B[39m \u001B[43mParallel\u001B[49m\u001B[43m(\u001B[49m\n\u001B[1;32m    488\u001B[0m \u001B[43m    \u001B[49m\u001B[43mn_jobs\u001B[49m\u001B[38;5;241;43m=\u001B[39;49m\u001B[38;5;28;43mself\u001B[39;49m\u001B[38;5;241;43m.\u001B[39;49m\u001B[43mn_jobs\u001B[49m\u001B[43m,\u001B[49m\n\u001B[1;32m    489\u001B[0m \u001B[43m    \u001B[49m\u001B[43mverbose\u001B[49m\u001B[38;5;241;43m=\u001B[39;49m\u001B[38;5;28;43mself\u001B[39;49m\u001B[38;5;241;43m.\u001B[39;49m\u001B[43mverbose\u001B[49m\u001B[43m,\u001B[49m\n\u001B[1;32m    490\u001B[0m \u001B[43m    \u001B[49m\u001B[43mprefer\u001B[49m\u001B[38;5;241;43m=\u001B[39;49m\u001B[38;5;124;43m\"\u001B[39;49m\u001B[38;5;124;43mthreads\u001B[39;49m\u001B[38;5;124;43m\"\u001B[39;49m\u001B[43m,\u001B[49m\n\u001B[1;32m    491\u001B[0m \u001B[43m\u001B[49m\u001B[43m)\u001B[49m\u001B[43m(\u001B[49m\n\u001B[1;32m    492\u001B[0m \u001B[43m    \u001B[49m\u001B[43mdelayed\u001B[49m\u001B[43m(\u001B[49m\u001B[43m_parallel_build_trees\u001B[49m\u001B[43m)\u001B[49m\u001B[43m(\u001B[49m\n\u001B[1;32m    493\u001B[0m \u001B[43m        \u001B[49m\u001B[43mt\u001B[49m\u001B[43m,\u001B[49m\n\u001B[1;32m    494\u001B[0m \u001B[43m        \u001B[49m\u001B[38;5;28;43mself\u001B[39;49m\u001B[38;5;241;43m.\u001B[39;49m\u001B[43mbootstrap\u001B[49m\u001B[43m,\u001B[49m\n\u001B[1;32m    495\u001B[0m \u001B[43m        \u001B[49m\u001B[43mX\u001B[49m\u001B[43m,\u001B[49m\n\u001B[1;32m    496\u001B[0m \u001B[43m        \u001B[49m\u001B[43my\u001B[49m\u001B[43m,\u001B[49m\n\u001B[1;32m    497\u001B[0m \u001B[43m        \u001B[49m\u001B[43msample_weight\u001B[49m\u001B[43m,\u001B[49m\n\u001B[1;32m    498\u001B[0m \u001B[43m        \u001B[49m\u001B[43mi\u001B[49m\u001B[43m,\u001B[49m\n\u001B[1;32m    499\u001B[0m \u001B[43m        \u001B[49m\u001B[38;5;28;43mlen\u001B[39;49m\u001B[43m(\u001B[49m\u001B[43mtrees\u001B[49m\u001B[43m)\u001B[49m\u001B[43m,\u001B[49m\n\u001B[1;32m    500\u001B[0m \u001B[43m        \u001B[49m\u001B[43mverbose\u001B[49m\u001B[38;5;241;43m=\u001B[39;49m\u001B[38;5;28;43mself\u001B[39;49m\u001B[38;5;241;43m.\u001B[39;49m\u001B[43mverbose\u001B[49m\u001B[43m,\u001B[49m\n\u001B[1;32m    501\u001B[0m \u001B[43m        \u001B[49m\u001B[43mclass_weight\u001B[49m\u001B[38;5;241;43m=\u001B[39;49m\u001B[38;5;28;43mself\u001B[39;49m\u001B[38;5;241;43m.\u001B[39;49m\u001B[43mclass_weight\u001B[49m\u001B[43m,\u001B[49m\n\u001B[1;32m    502\u001B[0m \u001B[43m        \u001B[49m\u001B[43mn_samples_bootstrap\u001B[49m\u001B[38;5;241;43m=\u001B[39;49m\u001B[43mn_samples_bootstrap\u001B[49m\u001B[43m,\u001B[49m\n\u001B[1;32m    503\u001B[0m \u001B[43m        \u001B[49m\u001B[43mmissing_values_in_feature_mask\u001B[49m\u001B[38;5;241;43m=\u001B[39;49m\u001B[43mmissing_values_in_feature_mask\u001B[49m\u001B[43m,\u001B[49m\n\u001B[1;32m    504\u001B[0m \u001B[43m    \u001B[49m\u001B[43m)\u001B[49m\n\u001B[1;32m    505\u001B[0m \u001B[43m    \u001B[49m\u001B[38;5;28;43;01mfor\u001B[39;49;00m\u001B[43m \u001B[49m\u001B[43mi\u001B[49m\u001B[43m,\u001B[49m\u001B[43m \u001B[49m\u001B[43mt\u001B[49m\u001B[43m \u001B[49m\u001B[38;5;129;43;01min\u001B[39;49;00m\u001B[43m \u001B[49m\u001B[38;5;28;43menumerate\u001B[39;49m\u001B[43m(\u001B[49m\u001B[43mtrees\u001B[49m\u001B[43m)\u001B[49m\n\u001B[1;32m    506\u001B[0m \u001B[43m\u001B[49m\u001B[43m)\u001B[49m\n\u001B[1;32m    508\u001B[0m \u001B[38;5;66;03m# Collect newly grown trees\u001B[39;00m\n\u001B[1;32m    509\u001B[0m \u001B[38;5;28mself\u001B[39m\u001B[38;5;241m.\u001B[39mestimators_\u001B[38;5;241m.\u001B[39mextend(trees)\n",
      "File \u001B[0;32m~/projects/sfcv/.venv/lib/python3.11/site-packages/sklearn/utils/parallel.py:77\u001B[0m, in \u001B[0;36mParallel.__call__\u001B[0;34m(self, iterable)\u001B[0m\n\u001B[1;32m     72\u001B[0m config \u001B[38;5;241m=\u001B[39m get_config()\n\u001B[1;32m     73\u001B[0m iterable_with_config \u001B[38;5;241m=\u001B[39m (\n\u001B[1;32m     74\u001B[0m     (_with_config(delayed_func, config), args, kwargs)\n\u001B[1;32m     75\u001B[0m     \u001B[38;5;28;01mfor\u001B[39;00m delayed_func, args, kwargs \u001B[38;5;129;01min\u001B[39;00m iterable\n\u001B[1;32m     76\u001B[0m )\n\u001B[0;32m---> 77\u001B[0m \u001B[38;5;28;01mreturn\u001B[39;00m \u001B[38;5;28;43msuper\u001B[39;49m\u001B[43m(\u001B[49m\u001B[43m)\u001B[49m\u001B[38;5;241;43m.\u001B[39;49m\u001B[38;5;21;43m__call__\u001B[39;49m\u001B[43m(\u001B[49m\u001B[43miterable_with_config\u001B[49m\u001B[43m)\u001B[49m\n",
      "File \u001B[0;32m~/projects/sfcv/.venv/lib/python3.11/site-packages/joblib/parallel.py:1918\u001B[0m, in \u001B[0;36mParallel.__call__\u001B[0;34m(self, iterable)\u001B[0m\n\u001B[1;32m   1916\u001B[0m     output \u001B[38;5;241m=\u001B[39m \u001B[38;5;28mself\u001B[39m\u001B[38;5;241m.\u001B[39m_get_sequential_output(iterable)\n\u001B[1;32m   1917\u001B[0m     \u001B[38;5;28mnext\u001B[39m(output)\n\u001B[0;32m-> 1918\u001B[0m     \u001B[38;5;28;01mreturn\u001B[39;00m output \u001B[38;5;28;01mif\u001B[39;00m \u001B[38;5;28mself\u001B[39m\u001B[38;5;241m.\u001B[39mreturn_generator \u001B[38;5;28;01melse\u001B[39;00m \u001B[38;5;28mlist\u001B[39m(output)\n\u001B[1;32m   1920\u001B[0m \u001B[38;5;66;03m# Let's create an ID that uniquely identifies the current call. If the\u001B[39;00m\n\u001B[1;32m   1921\u001B[0m \u001B[38;5;66;03m# call is interrupted early and that the same instance is immediately\u001B[39;00m\n\u001B[1;32m   1922\u001B[0m \u001B[38;5;66;03m# re-used, this id will be used to prevent workers that were\u001B[39;00m\n\u001B[1;32m   1923\u001B[0m \u001B[38;5;66;03m# concurrently finalizing a task from the previous call to run the\u001B[39;00m\n\u001B[1;32m   1924\u001B[0m \u001B[38;5;66;03m# callback.\u001B[39;00m\n\u001B[1;32m   1925\u001B[0m \u001B[38;5;28;01mwith\u001B[39;00m \u001B[38;5;28mself\u001B[39m\u001B[38;5;241m.\u001B[39m_lock:\n",
      "File \u001B[0;32m~/projects/sfcv/.venv/lib/python3.11/site-packages/joblib/parallel.py:1847\u001B[0m, in \u001B[0;36mParallel._get_sequential_output\u001B[0;34m(self, iterable)\u001B[0m\n\u001B[1;32m   1845\u001B[0m \u001B[38;5;28mself\u001B[39m\u001B[38;5;241m.\u001B[39mn_dispatched_batches \u001B[38;5;241m+\u001B[39m\u001B[38;5;241m=\u001B[39m \u001B[38;5;241m1\u001B[39m\n\u001B[1;32m   1846\u001B[0m \u001B[38;5;28mself\u001B[39m\u001B[38;5;241m.\u001B[39mn_dispatched_tasks \u001B[38;5;241m+\u001B[39m\u001B[38;5;241m=\u001B[39m \u001B[38;5;241m1\u001B[39m\n\u001B[0;32m-> 1847\u001B[0m res \u001B[38;5;241m=\u001B[39m \u001B[43mfunc\u001B[49m\u001B[43m(\u001B[49m\u001B[38;5;241;43m*\u001B[39;49m\u001B[43margs\u001B[49m\u001B[43m,\u001B[49m\u001B[43m \u001B[49m\u001B[38;5;241;43m*\u001B[39;49m\u001B[38;5;241;43m*\u001B[39;49m\u001B[43mkwargs\u001B[49m\u001B[43m)\u001B[49m\n\u001B[1;32m   1848\u001B[0m \u001B[38;5;28mself\u001B[39m\u001B[38;5;241m.\u001B[39mn_completed_tasks \u001B[38;5;241m+\u001B[39m\u001B[38;5;241m=\u001B[39m \u001B[38;5;241m1\u001B[39m\n\u001B[1;32m   1849\u001B[0m \u001B[38;5;28mself\u001B[39m\u001B[38;5;241m.\u001B[39mprint_progress()\n",
      "File \u001B[0;32m~/projects/sfcv/.venv/lib/python3.11/site-packages/sklearn/utils/parallel.py:139\u001B[0m, in \u001B[0;36m_FuncWrapper.__call__\u001B[0;34m(self, *args, **kwargs)\u001B[0m\n\u001B[1;32m    137\u001B[0m     config \u001B[38;5;241m=\u001B[39m {}\n\u001B[1;32m    138\u001B[0m \u001B[38;5;28;01mwith\u001B[39;00m config_context(\u001B[38;5;241m*\u001B[39m\u001B[38;5;241m*\u001B[39mconfig):\n\u001B[0;32m--> 139\u001B[0m     \u001B[38;5;28;01mreturn\u001B[39;00m \u001B[38;5;28;43mself\u001B[39;49m\u001B[38;5;241;43m.\u001B[39;49m\u001B[43mfunction\u001B[49m\u001B[43m(\u001B[49m\u001B[38;5;241;43m*\u001B[39;49m\u001B[43margs\u001B[49m\u001B[43m,\u001B[49m\u001B[43m \u001B[49m\u001B[38;5;241;43m*\u001B[39;49m\u001B[38;5;241;43m*\u001B[39;49m\u001B[43mkwargs\u001B[49m\u001B[43m)\u001B[49m\n",
      "File \u001B[0;32m~/projects/sfcv/.venv/lib/python3.11/site-packages/sklearn/ensemble/_forest.py:189\u001B[0m, in \u001B[0;36m_parallel_build_trees\u001B[0;34m(tree, bootstrap, X, y, sample_weight, tree_idx, n_trees, verbose, class_weight, n_samples_bootstrap, missing_values_in_feature_mask)\u001B[0m\n\u001B[1;32m    186\u001B[0m     \u001B[38;5;28;01melif\u001B[39;00m class_weight \u001B[38;5;241m==\u001B[39m \u001B[38;5;124m\"\u001B[39m\u001B[38;5;124mbalanced_subsample\u001B[39m\u001B[38;5;124m\"\u001B[39m:\n\u001B[1;32m    187\u001B[0m         curr_sample_weight \u001B[38;5;241m*\u001B[39m\u001B[38;5;241m=\u001B[39m compute_sample_weight(\u001B[38;5;124m\"\u001B[39m\u001B[38;5;124mbalanced\u001B[39m\u001B[38;5;124m\"\u001B[39m, y, indices\u001B[38;5;241m=\u001B[39mindices)\n\u001B[0;32m--> 189\u001B[0m     \u001B[43mtree\u001B[49m\u001B[38;5;241;43m.\u001B[39;49m\u001B[43m_fit\u001B[49m\u001B[43m(\u001B[49m\n\u001B[1;32m    190\u001B[0m \u001B[43m        \u001B[49m\u001B[43mX\u001B[49m\u001B[43m,\u001B[49m\n\u001B[1;32m    191\u001B[0m \u001B[43m        \u001B[49m\u001B[43my\u001B[49m\u001B[43m,\u001B[49m\n\u001B[1;32m    192\u001B[0m \u001B[43m        \u001B[49m\u001B[43msample_weight\u001B[49m\u001B[38;5;241;43m=\u001B[39;49m\u001B[43mcurr_sample_weight\u001B[49m\u001B[43m,\u001B[49m\n\u001B[1;32m    193\u001B[0m \u001B[43m        \u001B[49m\u001B[43mcheck_input\u001B[49m\u001B[38;5;241;43m=\u001B[39;49m\u001B[38;5;28;43;01mFalse\u001B[39;49;00m\u001B[43m,\u001B[49m\n\u001B[1;32m    194\u001B[0m \u001B[43m        \u001B[49m\u001B[43mmissing_values_in_feature_mask\u001B[49m\u001B[38;5;241;43m=\u001B[39;49m\u001B[43mmissing_values_in_feature_mask\u001B[49m\u001B[43m,\u001B[49m\n\u001B[1;32m    195\u001B[0m \u001B[43m    \u001B[49m\u001B[43m)\u001B[49m\n\u001B[1;32m    196\u001B[0m \u001B[38;5;28;01melse\u001B[39;00m:\n\u001B[1;32m    197\u001B[0m     tree\u001B[38;5;241m.\u001B[39m_fit(\n\u001B[1;32m    198\u001B[0m         X,\n\u001B[1;32m    199\u001B[0m         y,\n\u001B[0;32m   (...)\u001B[0m\n\u001B[1;32m    202\u001B[0m         missing_values_in_feature_mask\u001B[38;5;241m=\u001B[39mmissing_values_in_feature_mask,\n\u001B[1;32m    203\u001B[0m     )\n",
      "File \u001B[0;32m~/projects/sfcv/.venv/lib/python3.11/site-packages/sklearn/tree/_classes.py:472\u001B[0m, in \u001B[0;36mBaseDecisionTree._fit\u001B[0;34m(self, X, y, sample_weight, check_input, missing_values_in_feature_mask)\u001B[0m\n\u001B[1;32m    461\u001B[0m \u001B[38;5;28;01melse\u001B[39;00m:\n\u001B[1;32m    462\u001B[0m     builder \u001B[38;5;241m=\u001B[39m BestFirstTreeBuilder(\n\u001B[1;32m    463\u001B[0m         splitter,\n\u001B[1;32m    464\u001B[0m         min_samples_split,\n\u001B[0;32m   (...)\u001B[0m\n\u001B[1;32m    469\u001B[0m         \u001B[38;5;28mself\u001B[39m\u001B[38;5;241m.\u001B[39mmin_impurity_decrease,\n\u001B[1;32m    470\u001B[0m     )\n\u001B[0;32m--> 472\u001B[0m \u001B[43mbuilder\u001B[49m\u001B[38;5;241;43m.\u001B[39;49m\u001B[43mbuild\u001B[49m\u001B[43m(\u001B[49m\u001B[38;5;28;43mself\u001B[39;49m\u001B[38;5;241;43m.\u001B[39;49m\u001B[43mtree_\u001B[49m\u001B[43m,\u001B[49m\u001B[43m \u001B[49m\u001B[43mX\u001B[49m\u001B[43m,\u001B[49m\u001B[43m \u001B[49m\u001B[43my\u001B[49m\u001B[43m,\u001B[49m\u001B[43m \u001B[49m\u001B[43msample_weight\u001B[49m\u001B[43m,\u001B[49m\u001B[43m \u001B[49m\u001B[43mmissing_values_in_feature_mask\u001B[49m\u001B[43m)\u001B[49m\n\u001B[1;32m    474\u001B[0m \u001B[38;5;28;01mif\u001B[39;00m \u001B[38;5;28mself\u001B[39m\u001B[38;5;241m.\u001B[39mn_outputs_ \u001B[38;5;241m==\u001B[39m \u001B[38;5;241m1\u001B[39m \u001B[38;5;129;01mand\u001B[39;00m is_classifier(\u001B[38;5;28mself\u001B[39m):\n\u001B[1;32m    475\u001B[0m     \u001B[38;5;28mself\u001B[39m\u001B[38;5;241m.\u001B[39mn_classes_ \u001B[38;5;241m=\u001B[39m \u001B[38;5;28mself\u001B[39m\u001B[38;5;241m.\u001B[39mn_classes_[\u001B[38;5;241m0\u001B[39m]\n",
      "\u001B[0;31mKeyboardInterrupt\u001B[0m: "
     ]
    }
   ],
   "execution_count": 26
  }
 ],
 "metadata": {
  "kernelspec": {
   "display_name": "Python 3",
   "language": "python",
   "name": "python3"
  },
  "language_info": {
   "codemirror_mode": {
    "name": "ipython",
    "version": 2
   },
   "file_extension": ".py",
   "mimetype": "text/x-python",
   "name": "python",
   "nbconvert_exporter": "python",
   "pygments_lexer": "ipython2",
   "version": "2.7.6"
  }
 },
 "nbformat": 4,
 "nbformat_minor": 5
}
