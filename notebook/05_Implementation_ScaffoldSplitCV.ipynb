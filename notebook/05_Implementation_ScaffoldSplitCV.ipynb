{
 "cells": [
  {
   "metadata": {},
   "cell_type": "markdown",
   "source": "# Step Forward Cross Validation for Bioactivity Prediction",
   "id": "2df8dec72f495b44"
  },
  {
   "metadata": {},
   "cell_type": "markdown",
   "source": "**\"Traditional random data splits produce similar molecules between training and test sets, conflicting with the reality of VS libraries which mostly contain structurally distinct compounds. Scaffold split, grouping molecules by shared core structure, is widely considered to reflect this real-world scenario.\"** -- https://arxiv.org/pdf/2406.00873",
   "id": "81afe005634c04e9"
  },
  {
   "metadata": {},
   "cell_type": "markdown",
   "source": "## Implementation of Scaffold Split Cross Validation Class",
   "id": "b73bd77eaa67366"
  },
  {
   "metadata": {
    "ExecuteTime": {
     "end_time": "2025-02-16T23:32:36.543762Z",
     "start_time": "2025-02-16T23:32:36.258869Z"
    }
   },
   "cell_type": "code",
   "source": [
    "from collections import defaultdict\n",
    "\n",
    "import numpy as np\n",
    "import pandas as pd\n",
    "from rdkit import Chem\n",
    "from rdkit.Chem.Scaffolds import MurckoScaffold"
   ],
   "id": "bbdb625b05f36577",
   "outputs": [],
   "execution_count": 11
  },
  {
   "metadata": {},
   "cell_type": "markdown",
   "source": "`ScaffoldSplitCV` groups molecules by their chemical scaffolds, shuffles these groups, and sequentially assigns entire scaffold groups to the training set until a target fraction is reached, with the remaining groups forming the test set.",
   "id": "f2b15d33cab429f9"
  },
  {
   "metadata": {
    "ExecuteTime": {
     "end_time": "2025-02-16T23:30:02.867235Z",
     "start_time": "2025-02-16T23:30:02.851899Z"
    }
   },
   "cell_type": "code",
   "source": [
    "class ScaffoldSplitCV:\n",
    "    def __init__(self, smiles_col=\"standardized_smiles\", n_folds=10, frac_train=0.9, seed=69420,\n",
    "                 include_chirality=False):\n",
    "        self.smiles_col = smiles_col\n",
    "        self.frac_train = frac_train\n",
    "        self.seed = seed\n",
    "        self.n_folds = n_folds\n",
    "        self.include_chirality = include_chirality\n",
    "\n",
    "    def split(self, df):\n",
    "        smiles_list = df[self.smiles_col].tolist()\n",
    "        for i in range(1, self.n_folds):\n",
    "            yield self._scaffold_split(smiles_list, self.frac_train, i * self.seed, self.include_chirality)\n",
    "\n",
    "    def _scaffold_split(self, smiles_list, frac_train, seed, include_chirality):\n",
    "        scaffold_to_indices = defaultdict(list)\n",
    "        for idx, smiles in enumerate(smiles_list):\n",
    "            scaffold = self._generate_scaffold(smiles, include_chirality)\n",
    "            scaffold_to_indices[scaffold].append(idx)\n",
    "\n",
    "        scaffold_groups = list(scaffold_to_indices.values())\n",
    "        rng = np.random.RandomState(seed)\n",
    "        rng.shuffle(scaffold_groups)\n",
    "\n",
    "        n_total = len(smiles_list)\n",
    "        n_train = int(np.floor(frac_train * n_total))\n",
    "\n",
    "        train_indices = []\n",
    "        test_indices = []\n",
    "\n",
    "        for group in scaffold_groups:\n",
    "            if len(train_indices) + len(group) <= n_train:\n",
    "                train_indices.extend(group)\n",
    "            else:\n",
    "                test_indices.extend(group)\n",
    "\n",
    "        return np.array(train_indices), np.array(test_indices)\n",
    "\n",
    "    @staticmethod\n",
    "    def _generate_scaffold(smiles, include_chirality=False):\n",
    "        mol = Chem.MolFromSmiles(smiles)\n",
    "        if mol is None:\n",
    "            raise ValueError(f\"Invalid SMILES string: {smiles}\")\n",
    "        scaffold = MurckoScaffold.MurckoScaffoldSmiles(mol=mol, includeChirality=include_chirality)\n",
    "        return scaffold"
   ],
   "id": "8f045e4021da898",
   "outputs": [],
   "execution_count": 7
  },
  {
   "metadata": {
    "ExecuteTime": {
     "end_time": "2025-02-16T23:30:40.386327Z",
     "start_time": "2025-02-16T23:30:40.380574Z"
    }
   },
   "cell_type": "code",
   "source": "scaffold_cv = ScaffoldSplitCV()",
   "id": "e32eec85f5d6142f",
   "outputs": [],
   "execution_count": 8
  },
  {
   "metadata": {
    "ExecuteTime": {
     "end_time": "2025-02-16T23:32:43.057886Z",
     "start_time": "2025-02-16T23:32:43.041780Z"
    }
   },
   "cell_type": "code",
   "source": "df = pd.read_csv(\"../benchmark/data/processed/target_CHEMBL203-1.Ki.csv\")",
   "id": "9f31d40d6bb5c04",
   "outputs": [],
   "execution_count": 13
  },
  {
   "metadata": {},
   "cell_type": "markdown",
   "source": "#### Number of Train & Test Molecules Across Folds",
   "id": "627f1d2e4d940ec9"
  },
  {
   "metadata": {
    "ExecuteTime": {
     "end_time": "2025-02-16T23:38:23.416235Z",
     "start_time": "2025-02-16T23:38:23.068145Z"
    }
   },
   "cell_type": "code",
   "source": [
    "for i, (train_idx, test_idx) in enumerate(scaffold_cv.split(df)):\n",
    "    print(\n",
    "        f\"Fold [{i + 1}] => Train [{len(train_idx)} ({len(train_idx) / (len(train_idx) + len(test_idx)) * 100:.2f}%)] + Test [{len(test_idx)} ({len(test_idx) / (len(train_idx) + len(test_idx)) * 100:.2f}%)]\")"
   ],
   "id": "b4fbe2fcf8a21647",
   "outputs": [
    {
     "name": "stdout",
     "output_type": "stream",
     "text": [
      "Fold [1] => Train [203 (89.82%)] + Test [23 (10.18%)]\n",
      "Fold [2] => Train [203 (89.82%)] + Test [23 (10.18%)]\n",
      "Fold [3] => Train [190 (84.07%)] + Test [36 (15.93%)]\n",
      "Fold [4] => Train [203 (89.82%)] + Test [23 (10.18%)]\n",
      "Fold [5] => Train [203 (89.82%)] + Test [23 (10.18%)]\n",
      "Fold [6] => Train [203 (89.82%)] + Test [23 (10.18%)]\n",
      "Fold [7] => Train [203 (89.82%)] + Test [23 (10.18%)]\n",
      "Fold [8] => Train [203 (89.82%)] + Test [23 (10.18%)]\n",
      "Fold [9] => Train [203 (89.82%)] + Test [23 (10.18%)]\n"
     ]
    }
   ],
   "execution_count": 23
  }
 ],
 "metadata": {
  "kernelspec": {
   "display_name": "Python 3",
   "language": "python",
   "name": "python3"
  },
  "language_info": {
   "codemirror_mode": {
    "name": "ipython",
    "version": 2
   },
   "file_extension": ".py",
   "mimetype": "text/x-python",
   "name": "python",
   "nbconvert_exporter": "python",
   "pygments_lexer": "ipython2",
   "version": "2.7.6"
  }
 },
 "nbformat": 4,
 "nbformat_minor": 5
}
