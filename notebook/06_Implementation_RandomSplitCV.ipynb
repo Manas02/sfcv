{
 "cells": [
  {
   "metadata": {},
   "cell_type": "markdown",
   "source": "# Step Forward Cross Validation for Bioactivity Prediction",
   "id": "89a0cf05d90e58ad"
  },
  {
   "metadata": {},
   "cell_type": "markdown",
   "source": "**\"Traditional random data splits produce similar molecules between training and test sets, conflicting with the reality of VS libraries which mostly contain structurally distinct compounds. Scaffold split, grouping molecules by shared core structure, is widely considered to reflect this real-world scenario.\"** -- https://arxiv.org/pdf/2406.00873",
   "id": "b66c4144a2aa7185"
  },
  {
   "metadata": {},
   "cell_type": "markdown",
   "source": "## Implmenetation of RandomSplitCV",
   "id": "d17f532fa7b9a50d"
  },
  {
   "metadata": {
    "ExecuteTime": {
     "end_time": "2025-02-16T23:52:40.656658Z",
     "start_time": "2025-02-16T23:52:40.279423Z"
    }
   },
   "cell_type": "code",
   "source": [
    "import numpy as np\n",
    "import pandas as pd"
   ],
   "id": "653983cead966004",
   "outputs": [],
   "execution_count": 1
  },
  {
   "metadata": {
    "ExecuteTime": {
     "end_time": "2025-02-16T23:53:32.321735Z",
     "start_time": "2025-02-16T23:53:32.316967Z"
    }
   },
   "cell_type": "code",
   "source": [
    "class RandomSplitCV:\n",
    "    def __init__(self, frac_train=0.9, n_folds=10, seed=69420):\n",
    "        self.frac_train = frac_train\n",
    "        self.n_folds = n_folds\n",
    "        self.seed = seed\n",
    "\n",
    "    def split(self, df):\n",
    "        n_total = len(df)\n",
    "        indices = np.arange(n_total)\n",
    "\n",
    "        for i in range(1, self.n_folds):\n",
    "            fold_seed = self.seed * i\n",
    "            rng = np.random.RandomState(fold_seed)\n",
    "            shuffled_indices = rng.permutation(indices)\n",
    "\n",
    "            n_train = int(np.floor(self.frac_train * n_total))\n",
    "            train_indices = shuffled_indices[:n_train]\n",
    "            test_indices = shuffled_indices[n_train:]\n",
    "\n",
    "            yield train_indices, test_indices"
   ],
   "id": "9604977ddd540bf4",
   "outputs": [],
   "execution_count": 3
  },
  {
   "metadata": {
    "ExecuteTime": {
     "end_time": "2025-02-16T23:53:32.504488Z",
     "start_time": "2025-02-16T23:53:32.501927Z"
    }
   },
   "cell_type": "code",
   "source": "random_cv = RandomSplitCV()",
   "id": "7d33ad22fad3ae2e",
   "outputs": [],
   "execution_count": 4
  },
  {
   "metadata": {
    "ExecuteTime": {
     "end_time": "2025-02-16T23:53:56.266654Z",
     "start_time": "2025-02-16T23:53:56.243709Z"
    }
   },
   "cell_type": "code",
   "source": "df = pd.read_csv(\"../benchmark/data/processed/target_CHEMBL203-1.Ki.csv\")",
   "id": "93145ec31b3be81e",
   "outputs": [],
   "execution_count": 5
  },
  {
   "metadata": {
    "ExecuteTime": {
     "end_time": "2025-02-16T23:54:03.622429Z",
     "start_time": "2025-02-16T23:54:03.613533Z"
    }
   },
   "cell_type": "code",
   "source": [
    "for i, (train_idx, test_idx) in enumerate(random_cv.split(df)):\n",
    "    print(\n",
    "        f\"Fold [{i + 1}] => Train [{len(train_idx)} ({len(train_idx) / (len(train_idx) + len(test_idx)) * 100:.2f}%)] + Test [{len(test_idx)} ({len(test_idx) / (len(train_idx) + len(test_idx)) * 100:.2f}%)]\")"
   ],
   "id": "f1a469332a8fc726",
   "outputs": [
    {
     "name": "stdout",
     "output_type": "stream",
     "text": [
      "Fold [1] => Train [203 (89.82%)] + Test [23 (10.18%)]\n",
      "Fold [2] => Train [203 (89.82%)] + Test [23 (10.18%)]\n",
      "Fold [3] => Train [203 (89.82%)] + Test [23 (10.18%)]\n",
      "Fold [4] => Train [203 (89.82%)] + Test [23 (10.18%)]\n",
      "Fold [5] => Train [203 (89.82%)] + Test [23 (10.18%)]\n",
      "Fold [6] => Train [203 (89.82%)] + Test [23 (10.18%)]\n",
      "Fold [7] => Train [203 (89.82%)] + Test [23 (10.18%)]\n",
      "Fold [8] => Train [203 (89.82%)] + Test [23 (10.18%)]\n",
      "Fold [9] => Train [203 (89.82%)] + Test [23 (10.18%)]\n"
     ]
    }
   ],
   "execution_count": 6
  }
 ],
 "metadata": {
  "kernelspec": {
   "display_name": "Python 3",
   "language": "python",
   "name": "python3"
  },
  "language_info": {
   "codemirror_mode": {
    "name": "ipython",
    "version": 2
   },
   "file_extension": ".py",
   "mimetype": "text/x-python",
   "name": "python",
   "nbconvert_exporter": "python",
   "pygments_lexer": "ipython2",
   "version": "2.7.6"
  }
 },
 "nbformat": 4,
 "nbformat_minor": 5
}
