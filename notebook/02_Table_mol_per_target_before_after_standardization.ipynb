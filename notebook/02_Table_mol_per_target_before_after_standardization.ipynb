{
 "cells": [
  {
   "metadata": {},
   "cell_type": "markdown",
   "source": "# Step Forward Cross Validation for Bioactivity Prediction",
   "id": "f5c37651c5e61b"
  },
  {
   "metadata": {},
   "cell_type": "markdown",
   "source": "## Let's compare and see the changes in number of compounds after standardization and deduplication.",
   "id": "8f9786bba0fbbe6b"
  },
  {
   "metadata": {
    "ExecuteTime": {
     "end_time": "2025-02-18T03:58:29.927885Z",
     "start_time": "2025-02-18T03:58:29.924205Z"
    }
   },
   "cell_type": "code",
   "source": [
    "import os\n",
    "\n",
    "import matplotlib.pyplot as plt\n",
    "import pandas as pd\n",
    "import seaborn as sns"
   ],
   "id": "ec4f670bb2e2411a",
   "outputs": [],
   "execution_count": 8
  },
  {
   "metadata": {
    "ExecuteTime": {
     "end_time": "2025-02-18T03:58:30.057722Z",
     "start_time": "2025-02-18T03:58:29.944928Z"
    }
   },
   "cell_type": "code",
   "source": [
    "after_std = {}\n",
    "\n",
    "for fname in os.listdir('../benchmark/data/standardized'):\n",
    "    if fname.endswith('.csv'):\n",
    "        df = pd.read_csv(f'../benchmark/data/standardized/{fname}')\n",
    "        after_std[fname[:-4]] = len(df[\"standardized_smiles\"])"
   ],
   "id": "1cf2610aea1ab3cd",
   "outputs": [],
   "execution_count": 9
  },
  {
   "metadata": {
    "ExecuteTime": {
     "end_time": "2025-02-18T03:58:30.138334Z",
     "start_time": "2025-02-18T03:58:30.063025Z"
    }
   },
   "cell_type": "code",
   "source": [
    "before_std = {}\n",
    "\n",
    "for fname in os.listdir('../benchmark/data/raw'):\n",
    "    if fname.endswith('.csv'):\n",
    "        df = pd.read_csv(f'../benchmark/data/raw/{fname}')\n",
    "        before_std[fname[:-4]] = len(df[\"canonical_smiles\"])"
   ],
   "id": "8702a8c3d3726cd5",
   "outputs": [],
   "execution_count": 10
  },
  {
   "metadata": {
    "ExecuteTime": {
     "end_time": "2025-02-18T03:58:30.148988Z",
     "start_time": "2025-02-18T03:58:30.143601Z"
    }
   },
   "cell_type": "code",
   "source": [
    "df = pd.DataFrame([before_std, after_std]).T\n",
    "df.index.name = \"Target\"\n",
    "df.columns = [\"Before Standardization\", \"After Standardization\"]\n",
    "df"
   ],
   "id": "d0d8106f294a6cf7",
   "outputs": [
    {
     "data": {
      "text/plain": [
       "                          Before Standardization  After Standardization\n",
       "Target                                                                 \n",
       "target_CHEMBL220-1.IC50                     1582                   1200\n",
       "target_CHEMBL3130-1.IC50                     987                    938\n",
       "target_CHEMBL5145-1.IC50                     221                    209\n",
       "target_CHEMBL4235-4.IC50                     252                    214\n",
       "target_CHEMBL206-1.IC50                      489                    471\n",
       "...                                          ...                    ...\n",
       "target_CHEMBL2039-3.IC50                     484                    454\n",
       "target_CHEMBL240-2.IC50                      249                    241\n",
       "target_CHEMBL240-3.IC50                      670                    603\n",
       "target_CHEMBL222-2.IC50                      214                    194\n",
       "target_CHEMBL284-1.IC50                     1075                    997\n",
       "\n",
       "[67 rows x 2 columns]"
      ],
      "text/html": [
       "<div>\n",
       "<style scoped>\n",
       "    .dataframe tbody tr th:only-of-type {\n",
       "        vertical-align: middle;\n",
       "    }\n",
       "\n",
       "    .dataframe tbody tr th {\n",
       "        vertical-align: top;\n",
       "    }\n",
       "\n",
       "    .dataframe thead th {\n",
       "        text-align: right;\n",
       "    }\n",
       "</style>\n",
       "<table border=\"1\" class=\"dataframe\">\n",
       "  <thead>\n",
       "    <tr style=\"text-align: right;\">\n",
       "      <th></th>\n",
       "      <th>Before Standardization</th>\n",
       "      <th>After Standardization</th>\n",
       "    </tr>\n",
       "    <tr>\n",
       "      <th>Target</th>\n",
       "      <th></th>\n",
       "      <th></th>\n",
       "    </tr>\n",
       "  </thead>\n",
       "  <tbody>\n",
       "    <tr>\n",
       "      <th>target_CHEMBL220-1.IC50</th>\n",
       "      <td>1582</td>\n",
       "      <td>1200</td>\n",
       "    </tr>\n",
       "    <tr>\n",
       "      <th>target_CHEMBL3130-1.IC50</th>\n",
       "      <td>987</td>\n",
       "      <td>938</td>\n",
       "    </tr>\n",
       "    <tr>\n",
       "      <th>target_CHEMBL5145-1.IC50</th>\n",
       "      <td>221</td>\n",
       "      <td>209</td>\n",
       "    </tr>\n",
       "    <tr>\n",
       "      <th>target_CHEMBL4235-4.IC50</th>\n",
       "      <td>252</td>\n",
       "      <td>214</td>\n",
       "    </tr>\n",
       "    <tr>\n",
       "      <th>target_CHEMBL206-1.IC50</th>\n",
       "      <td>489</td>\n",
       "      <td>471</td>\n",
       "    </tr>\n",
       "    <tr>\n",
       "      <th>...</th>\n",
       "      <td>...</td>\n",
       "      <td>...</td>\n",
       "    </tr>\n",
       "    <tr>\n",
       "      <th>target_CHEMBL2039-3.IC50</th>\n",
       "      <td>484</td>\n",
       "      <td>454</td>\n",
       "    </tr>\n",
       "    <tr>\n",
       "      <th>target_CHEMBL240-2.IC50</th>\n",
       "      <td>249</td>\n",
       "      <td>241</td>\n",
       "    </tr>\n",
       "    <tr>\n",
       "      <th>target_CHEMBL240-3.IC50</th>\n",
       "      <td>670</td>\n",
       "      <td>603</td>\n",
       "    </tr>\n",
       "    <tr>\n",
       "      <th>target_CHEMBL222-2.IC50</th>\n",
       "      <td>214</td>\n",
       "      <td>194</td>\n",
       "    </tr>\n",
       "    <tr>\n",
       "      <th>target_CHEMBL284-1.IC50</th>\n",
       "      <td>1075</td>\n",
       "      <td>997</td>\n",
       "    </tr>\n",
       "  </tbody>\n",
       "</table>\n",
       "<p>67 rows × 2 columns</p>\n",
       "</div>"
      ]
     },
     "execution_count": 11,
     "metadata": {},
     "output_type": "execute_result"
    }
   ],
   "execution_count": 11
  },
  {
   "metadata": {
    "ExecuteTime": {
     "end_time": "2025-02-18T03:58:30.177352Z",
     "start_time": "2025-02-18T03:58:30.174753Z"
    }
   },
   "cell_type": "code",
   "source": [
    "os.makedirs('../benchmark/results/tables', exist_ok=True)\n",
    "os.makedirs('../benchmark/results/figures', exist_ok=True)"
   ],
   "id": "7916e3b08b68e96b",
   "outputs": [],
   "execution_count": 12
  },
  {
   "metadata": {
    "ExecuteTime": {
     "end_time": "2025-02-18T03:58:30.207547Z",
     "start_time": "2025-02-18T03:58:30.203709Z"
    }
   },
   "cell_type": "code",
   "source": "df.to_csv('../benchmark/results/tables/before_and_after_standardization.csv', index=False)",
   "id": "5482cca6d1e76871",
   "outputs": [],
   "execution_count": 13
  },
  {
   "metadata": {},
   "cell_type": "markdown",
   "source": "## Plotting this Relationship",
   "id": "121fee52825178e5"
  },
  {
   "metadata": {
    "ExecuteTime": {
     "end_time": "2025-02-18T03:58:30.563122Z",
     "start_time": "2025-02-18T03:58:30.430046Z"
    }
   },
   "cell_type": "code",
   "source": [
    "# Create the parity plot\n",
    "plt.figure(figsize=(6, 6))\n",
    "sns.scatterplot(x=df[\"Before Standardization\"], y=df[\"After Standardization\"])\n",
    "\n",
    "# Add y = x reference line\n",
    "max_val = max(df[\"Before Standardization\"].max(), df[\"After Standardization\"].max())\n",
    "plt.plot([0, max_val], [0, max_val], linestyle=\"--\", color=\"red\", label=\"No Change\")\n",
    "\n",
    "# Labels and title\n",
    "plt.xlabel(\"No. of Molecules Before Standardization\")\n",
    "plt.ylabel(\"No. of Molecules After Standardization\")\n",
    "plt.legend()\n",
    "\n",
    "# Show the plot\n",
    "plt.title(\"Change in Number of Molecules Before & After Standardization\")\n",
    "plt.savefig('../benchmark/results/figures/before_and_after_standardization.svg')\n",
    "plt.show()"
   ],
   "id": "4af24c61f87b13b0",
   "outputs": [
    {
     "data": {
      "text/plain": [
       "<Figure size 600x600 with 1 Axes>"
      ],
      "image/png": "[encoded data removed]"
     },
     "metadata": {},
     "output_type": "display_data"
    }
   ],
   "execution_count": 14
  }
 ],
 "metadata": {
  "kernelspec": {
   "display_name": "Python 3",
   "language": "python",
   "name": "python3"
  },
  "language_info": {
   "codemirror_mode": {
    "name": "ipython",
    "version": 2
   },
   "file_extension": ".py",
   "mimetype": "text/x-python",
   "name": "python",
   "nbconvert_exporter": "python",
   "pygments_lexer": "ipython2",
   "version": "2.7.6"
  }
 },
 "nbformat": 4,
 "nbformat_minor": 5
}
