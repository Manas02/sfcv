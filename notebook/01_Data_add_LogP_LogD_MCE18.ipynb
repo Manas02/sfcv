{
 "cells": [
  {
   "metadata": {},
   "cell_type": "markdown",
   "source": "# Step Forward Cross Validation for Bioactivity Prediction",
   "id": "120a3fb7e3a011a6"
  },
  {
   "metadata": {},
   "cell_type": "markdown",
   "source": "## Predicting LogP, LogD and Computing MCE-18 as sorting variables",
   "id": "bfe0512e3594fbb1"
  },
  {
   "metadata": {},
   "cell_type": "markdown",
   "source": [
    "Here, we predict and add columns for CrippenLogP ([rdkit](https://www.rdkit.org/docs/GettingStartedInPython.html#descriptor-calculation)), LogD ([Code from [Pat Walters](https://github.com/PatWalters)](https://gist.github.com/PatWalters/7aebcd5b87ceb466db91b11e07ce3d21)) and compute [MCE-18](https://pubs.acs.org/doi/abs/10.1021/acs.jmedchem.9b00004) for valid SMILES in\n",
    "`../benchmark/data/standardized/` and save the results to `../benchmark/data/processed`"
   ],
   "id": "55c6d32b96498bd0"
  },
  {
   "metadata": {
    "ExecuteTime": {
     "end_time": "2025-02-16T18:02:43.903448Z",
     "start_time": "2025-02-16T18:02:42.690314Z"
    }
   },
   "cell_type": "code",
   "source": [
    "import os\n",
    "\n",
    "import lightgbm as lgbm\n",
    "import pandas as pd\n",
    "from rdkit import Chem, RDLogger\n",
    "from rdkit.Chem import rdMolDescriptors as rdmd\n",
    "from rdkit.Chem import rdchem, Descriptors\n",
    "from tqdm import tqdm"
   ],
   "id": "61a9ec1ef9d029a6",
   "outputs": [],
   "execution_count": 1
  },
  {
   "metadata": {
    "ExecuteTime": {
     "end_time": "2025-02-16T18:02:43.909296Z",
     "start_time": "2025-02-16T18:02:43.907422Z"
    }
   },
   "cell_type": "code",
   "source": "RDLogger.DisableLog(\"rdApp.*\")",
   "id": "9ec6ad6315da27e7",
   "outputs": [],
   "execution_count": 2
  },
  {
   "metadata": {
    "ExecuteTime": {
     "end_time": "2025-02-16T18:02:43.973009Z",
     "start_time": "2025-02-16T18:02:43.971139Z"
    }
   },
   "cell_type": "code",
   "source": "os.makedirs('../benchmark/data/processed', exist_ok=True)",
   "id": "a28bb03d5492216d",
   "outputs": [],
   "execution_count": 3
  },
  {
   "metadata": {},
   "cell_type": "markdown",
   "source": [
    "### LogD Prediction\n",
    "**\"A LogD model based on 1.8M datapoints from ChEMBL\"** -- based on Dr. Patrick Walters's [Gist](https://gist.github.com/PatWalters/7aebcd5b87ceb466db91b11e07ce3d21) ref.\n",
    "https://practicalcheminformatics.blogspot.com/2022/01/the-solubility-forecast-index.html"
   ],
   "id": "a7d1e69705482e3"
  },
  {
   "metadata": {
    "ExecuteTime": {
     "end_time": "2025-02-16T18:02:43.980449Z",
     "start_time": "2025-02-16T18:02:43.977247Z"
    }
   },
   "cell_type": "code",
   "source": [
    "class LogDPredictor:\n",
    "    def __init__(self, model_file_name=\"./logdmodel.txt\"):\n",
    "        if not os.path.exists(model_file_name):\n",
    "            raise FileNotFoundError(f\"model file not found in {model_file_name}\")\n",
    "        self.mdl = lgbm.Booster(model_file=model_file_name)\n",
    "        self.descList = self.mdl.feature_name()\n",
    "        self.fns = [(x, y) for x, y in Descriptors.descList if x in self.descList]\n",
    "\n",
    "    def predict_smiles(self, smi):\n",
    "        mol = Chem.MolFromSmiles(smi)\n",
    "        if mol:\n",
    "            return self.predict(mol)\n",
    "        return None\n",
    "\n",
    "    def predict(self, mol):\n",
    "        res = []\n",
    "        for _, y in self.fns:\n",
    "            res.append(y(mol))\n",
    "        return self.mdl.predict([res])[0]"
   ],
   "id": "dd5955c8c1596155",
   "outputs": [],
   "execution_count": 4
  },
  {
   "metadata": {
    "ExecuteTime": {
     "end_time": "2025-02-16T18:02:43.987118Z",
     "start_time": "2025-02-16T18:02:43.984235Z"
    }
   },
   "cell_type": "code",
   "source": [
    "def compute_mce18(smiles: str) -> float | None:\n",
    "    # copypasta from https://github.com/SkylerKramer/MedChem/blob/master/mce18.txt\n",
    "    mol = Chem.MolFromSmiles(smiles)\n",
    "    if mol is None:\n",
    "        return None\n",
    "    ar = rdmd.CalcNumAromaticRings(mol)\n",
    "    nar = rdmd.CalcNumAliphaticRings(mol)\n",
    "    spiro = rdmd.CalcNumSpiroAtoms(mol)\n",
    "    sp3 = rdmd.CalcFractionCSP3(mol)\n",
    "    chiral = int(bool(Chem.FindMolChiralCenters(mol, includeUnassigned=True)))\n",
    "\n",
    "    zagreb = 0\n",
    "    index = 0\n",
    "    cyc = 0\n",
    "    for atom in mol.GetAtoms():\n",
    "        zagreb = zagreb + rdchem.Atom.GetDegree(atom) ** 2\n",
    "        if (\n",
    "                atom.GetAtomicNum() == 6\n",
    "                and mol.GetAtomWithIdx(index).IsInRing() == True\n",
    "                and rdchem.Atom.GetHybridization(atom) == 4\n",
    "        ):\n",
    "            cyc += 1\n",
    "        index += 1\n",
    "\n",
    "    cyc = cyc / mol.GetNumAtoms()\n",
    "    acyc = sp3 - cyc\n",
    "    q = 3 - 2 * mol.GetNumAtoms() + zagreb / 2\n",
    "    return q * (ar + nar + spiro + chiral + (sp3 + cyc - acyc) / (1 + sp3))"
   ],
   "id": "923c11b45b86a417",
   "outputs": [],
   "execution_count": 5
  },
  {
   "metadata": {
    "ExecuteTime": {
     "end_time": "2025-02-16T18:02:44.007238Z",
     "start_time": "2025-02-16T18:02:43.991861Z"
    }
   },
   "cell_type": "code",
   "source": [
    "pred = LogDPredictor()\n",
    "\n",
    "\n",
    "def predict_logd(smiles: str) -> float | None:\n",
    "    return pred.predict_smiles(smiles)"
   ],
   "id": "804c9f77d76107a1",
   "outputs": [],
   "execution_count": 6
  },
  {
   "metadata": {
    "ExecuteTime": {
     "end_time": "2025-02-16T18:02:44.016241Z",
     "start_time": "2025-02-16T18:02:44.014002Z"
    }
   },
   "cell_type": "code",
   "source": [
    "def predict_logp(smiles: str) -> float | None:\n",
    "    mol = Chem.MolFromSmiles(smiles)\n",
    "    if mol:\n",
    "        return Descriptors.MolLogP(mol)"
   ],
   "id": "891d36e5b8493c8d",
   "outputs": [],
   "execution_count": 7
  },
  {
   "metadata": {
    "ExecuteTime": {
     "end_time": "2025-02-16T18:12:07.642493Z",
     "start_time": "2025-02-16T18:04:21.593428Z"
    }
   },
   "cell_type": "code",
   "source": [
    "for fname in tqdm(os.listdir('../benchmark/data/standardized/'), desc=\"Compute Sorting Parameter\"):\n",
    "    if fname.endswith('.csv'):\n",
    "        df = pd.read_csv(f'../benchmark/data/standardized/{fname}')\n",
    "        df[\"LogD\"] = df[\"canonical_smiles\"].apply(predict_logd)\n",
    "        df[\"LogP\"] = df[\"canonical_smiles\"].apply(predict_logp)\n",
    "        df[\"MCE18\"] = df[\"canonical_smiles\"].apply(compute_mce18)\n",
    "        # Filter rows with NaN and print if any exist\n",
    "        missing_values_df = df[df[['LogD', 'LogP', 'MCE18']].isna().any(axis=1)]\n",
    "        if not missing_values_df.empty:\n",
    "            print(fname, df[df[['LogD', 'LogP', 'MCE18']].isna().any(axis=1)])\n",
    "            raise Exception(\"Missing Values in LogD, LogP or MCE18\")\n",
    "        df.to_csv(f'../benchmark/data/processed/{fname}', index=False)"
   ],
   "id": "bca892b59a9ffd36",
   "outputs": [
    {
     "name": "stderr",
     "output_type": "stream",
     "text": [
      "Compute Sorting Parameter: 100%|██████████| 120/120 [07:46<00:00,  3.88s/it]\n"
     ]
    }
   ],
   "execution_count": 9
  }
 ],
 "metadata": {
  "kernelspec": {
   "display_name": "Python 3",
   "language": "python",
   "name": "python3"
  },
  "language_info": {
   "codemirror_mode": {
    "name": "ipython",
    "version": 2
   },
   "file_extension": ".py",
   "mimetype": "text/x-python",
   "name": "python",
   "nbconvert_exporter": "python",
   "pygments_lexer": "ipython2",
   "version": "2.7.6"
  }
 },
 "nbformat": 4,
 "nbformat_minor": 5
}
