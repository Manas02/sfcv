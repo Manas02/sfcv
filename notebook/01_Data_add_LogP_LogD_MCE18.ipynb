{
 "cells": [
  {
   "cell_type": "markdown",
   "id": "120a3fb7e3a011a6",
   "metadata": {},
   "source": [
    "# Step Forward Cross Validation for Bioactivity Prediction"
   ]
  },
  {
   "cell_type": "markdown",
   "id": "bfe0512e3594fbb1",
   "metadata": {},
   "source": [
    "## Predicting LogP, LogD and Computing MCE-18 as sorting variables"
   ]
  },
  {
   "cell_type": "markdown",
   "id": "55c6d32b96498bd0",
   "metadata": {},
   "source": [
    "Here, we predict and add columns for CrippenLogP ([rdkit](https://www.rdkit.org/docs/GettingStartedInPython.html#descriptor-calculation)), LogD ([Code from [Pat Walters](https://github.com/PatWalters)](https://gist.github.com/PatWalters/7aebcd5b87ceb466db91b11e07ce3d21)) and compute [MCE-18](https://pubs.acs.org/doi/abs/10.1021/acs.jmedchem.9b00004) for valid SMILES in\n",
    "`../benchmark/data/standardized/` and save the results to `../benchmark/data/processed`"
   ]
  },
  {
   "cell_type": "code",
   "execution_count": 1,
   "id": "61a9ec1ef9d029a6",
   "metadata": {
    "ExecuteTime": {
     "end_time": "2025-02-18T03:45:12.892212Z",
     "start_time": "2025-02-18T03:45:11.743129Z"
    }
   },
   "outputs": [],
   "source": [
    "import os\n",
    "\n",
    "import lightgbm as lgbm\n",
    "import pandas as pd\n",
    "from rdkit import Chem, RDLogger\n",
    "from rdkit.Chem import rdMolDescriptors as rdmd\n",
    "from rdkit.Chem import rdchem, Descriptors\n",
    "from tqdm import tqdm"
   ]
  },
  {
   "cell_type": "code",
   "execution_count": 2,
   "id": "9ec6ad6315da27e7",
   "metadata": {
    "ExecuteTime": {
     "end_time": "2025-02-18T03:45:12.913458Z",
     "start_time": "2025-02-18T03:45:12.910776Z"
    }
   },
   "outputs": [],
   "source": [
    "RDLogger.DisableLog(\"rdApp.*\")"
   ]
  },
  {
   "cell_type": "code",
   "execution_count": 3,
   "id": "a28bb03d5492216d",
   "metadata": {
    "ExecuteTime": {
     "end_time": "2025-02-18T03:45:13.764436Z",
     "start_time": "2025-02-18T03:45:13.757481Z"
    }
   },
   "outputs": [],
   "source": [
    "os.makedirs('../benchmark/data/processed', exist_ok=True)"
   ]
  },
  {
   "cell_type": "markdown",
   "id": "a7d1e69705482e3",
   "metadata": {},
   "source": [
    "### LogD Prediction\n",
    "**\"A LogD model based on 1.8M datapoints from ChEMBL\"** -- based on Dr. Patrick Walters's [Gist](https://gist.github.com/PatWalters/7aebcd5b87ceb466db91b11e07ce3d21) ref.\n",
    "https://practicalcheminformatics.blogspot.com/2022/01/the-solubility-forecast-index.html"
   ]
  },
  {
   "cell_type": "code",
   "execution_count": 4,
   "id": "dd5955c8c1596155",
   "metadata": {
    "ExecuteTime": {
     "end_time": "2025-02-18T03:45:17.361297Z",
     "start_time": "2025-02-18T03:45:17.355780Z"
    }
   },
   "outputs": [],
   "source": [
    "class LogDPredictor:\n",
    "    def __init__(self, model_file_name=\"./logdmodel.txt\"):\n",
    "        if not os.path.exists(model_file_name):\n",
    "            raise FileNotFoundError(f\"model file not found in {model_file_name}\")\n",
    "        self.mdl = lgbm.Booster(model_file=model_file_name)\n",
    "        self.descList = self.mdl.feature_name()\n",
    "        self.fns = [(x, y) for x, y in Descriptors.descList if x in self.descList]\n",
    "\n",
    "    def predict_smiles(self, smi):\n",
    "        mol = Chem.MolFromSmiles(smi)\n",
    "        if mol:\n",
    "            return self.predict(mol)\n",
    "        return None\n",
    "\n",
    "    def predict(self, mol):\n",
    "        res = []\n",
    "        for _, y in self.fns:\n",
    "            res.append(y(mol))\n",
    "        return self.mdl.predict([res])[0]"
   ]
  },
  {
   "cell_type": "code",
   "execution_count": 5,
   "id": "923c11b45b86a417",
   "metadata": {
    "ExecuteTime": {
     "end_time": "2025-02-18T03:45:22.326934Z",
     "start_time": "2025-02-18T03:45:22.321883Z"
    }
   },
   "outputs": [],
   "source": [
    "def compute_mce18(smiles: str) -> float | None:\n",
    "    # copypasta from https://github.com/SkylerKramer/MedChem/blob/master/mce18.txt\n",
    "    mol = Chem.MolFromSmiles(smiles)\n",
    "    if mol is None:\n",
    "        return None\n",
    "    ar = rdmd.CalcNumAromaticRings(mol)\n",
    "    nar = rdmd.CalcNumAliphaticRings(mol)\n",
    "    spiro = rdmd.CalcNumSpiroAtoms(mol)\n",
    "    sp3 = rdmd.CalcFractionCSP3(mol)\n",
    "    chiral = int(bool(Chem.FindMolChiralCenters(mol, includeUnassigned=True)))\n",
    "\n",
    "    zagreb = 0\n",
    "    index = 0\n",
    "    cyc = 0\n",
    "    for atom in mol.GetAtoms():\n",
    "        zagreb = zagreb + rdchem.Atom.GetDegree(atom) ** 2\n",
    "        if (\n",
    "                atom.GetAtomicNum() == 6\n",
    "                and mol.GetAtomWithIdx(index).IsInRing() == True\n",
    "                and rdchem.Atom.GetHybridization(atom) == 4\n",
    "        ):\n",
    "            cyc += 1\n",
    "        index += 1\n",
    "\n",
    "    cyc = cyc / mol.GetNumAtoms()\n",
    "    acyc = sp3 - cyc\n",
    "    q = 3 - 2 * mol.GetNumAtoms() + zagreb / 2\n",
    "    return q * (ar + nar + spiro + chiral + (sp3 + cyc - acyc) / (1 + sp3))"
   ]
  },
  {
   "cell_type": "code",
   "execution_count": 6,
   "id": "804c9f77d76107a1",
   "metadata": {
    "ExecuteTime": {
     "end_time": "2025-02-18T03:45:23.119125Z",
     "start_time": "2025-02-18T03:45:23.095742Z"
    }
   },
   "outputs": [],
   "source": [
    "pred = LogDPredictor()\n",
    "\n",
    "\n",
    "def predict_logd(smiles: str) -> float | None:\n",
    "    return pred.predict_smiles(smiles)"
   ]
  },
  {
   "cell_type": "code",
   "execution_count": 7,
   "id": "891d36e5b8493c8d",
   "metadata": {
    "ExecuteTime": {
     "end_time": "2025-02-18T03:45:23.819743Z",
     "start_time": "2025-02-18T03:45:23.815419Z"
    }
   },
   "outputs": [],
   "source": [
    "def predict_logp(smiles: str) -> float | None:\n",
    "    mol = Chem.MolFromSmiles(smiles)\n",
    "    if mol:\n",
    "        return Descriptors.MolLogP(mol)"
   ]
  },
  {
   "cell_type": "code",
   "execution_count": 8,
   "id": "bca892b59a9ffd36",
   "metadata": {
    "ExecuteTime": {
     "end_time": "2025-02-18T03:50:09.448858Z",
     "start_time": "2025-02-18T03:45:30.887129Z"
    }
   },
   "outputs": [
    {
     "name": "stderr",
     "output_type": "stream",
     "text": [
      "Compute Sorting Parameter: 100%|██████████| 67/67 [04:38<00:00,  4.16s/it]\n"
     ]
    }
   ],
   "source": [
    "for fname in tqdm(os.listdir('../benchmark/data/standardized/'), desc=\"Compute Sorting Parameter\"):\n",
    "    if fname.endswith('.csv'):\n",
    "        df = pd.read_csv(f'../benchmark/data/standardized/{fname}')\n",
    "        df[\"LogD\"] = df[\"canonical_smiles\"].apply(predict_logd)\n",
    "        df[\"LogP\"] = df[\"canonical_smiles\"].apply(predict_logp)\n",
    "        df[\"MCE18\"] = df[\"canonical_smiles\"].apply(compute_mce18)\n",
    "        # Filter rows with NaN and print if any exist\n",
    "        missing_values_df = df[df[['LogD', 'LogP', 'MCE18']].isna().any(axis=1)]\n",
    "        if not missing_values_df.empty:\n",
    "            print(fname, df[df[['LogD', 'LogP', 'MCE18']].isna().any(axis=1)])\n",
    "            raise Exception(\"Missing Values in LogD, LogP or MCE18\")\n",
    "        df.to_csv(f'../benchmark/data/processed/{fname}', index=False)"
   ]
  }
 ],
 "metadata": {
  "kernelspec": {
   "display_name": "Python 3 (ipykernel)",
   "language": "python",
   "name": "python3"
  },
  "language_info": {
   "codemirror_mode": {
    "name": "ipython",
    "version": 3
   },
   "file_extension": ".py",
   "mimetype": "text/x-python",
   "name": "python",
   "nbconvert_exporter": "python",
   "pygments_lexer": "ipython3",
   "version": "3.11.11"
  }
 },
 "nbformat": 4,
 "nbformat_minor": 5
}
