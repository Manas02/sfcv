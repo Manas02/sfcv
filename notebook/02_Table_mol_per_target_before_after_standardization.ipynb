{
 "cells": [
  {
   "metadata": {},
   "cell_type": "markdown",
   "source": "# Step Forward Cross Validation for Bioactivity Prediction",
   "id": "f5c37651c5e61b"
  },
  {
   "metadata": {},
   "cell_type": "markdown",
   "source": "## Let's compare and see the changes in number of compounds after standardization and deduplication.",
   "id": "8f9786bba0fbbe6b"
  },
  {
   "metadata": {
    "ExecuteTime": {
     "end_time": "2025-02-16T19:34:04.395818Z",
     "start_time": "2025-02-16T19:34:04.383237Z"
    }
   },
   "cell_type": "code",
   "source": [
    "import os\n",
    "\n",
    "import matplotlib.pyplot as plt\n",
    "import pandas as pd\n",
    "import seaborn as sns"
   ],
   "id": "ec4f670bb2e2411a",
   "outputs": [],
   "execution_count": 11
  },
  {
   "metadata": {
    "ExecuteTime": {
     "end_time": "2025-02-16T19:34:04.640441Z",
     "start_time": "2025-02-16T19:34:04.402608Z"
    }
   },
   "cell_type": "code",
   "source": [
    "after_std = {}\n",
    "\n",
    "for fname in os.listdir('../benchmark/data/standardized'):\n",
    "    if fname.endswith('.csv'):\n",
    "        df = pd.read_csv(f'../benchmark/data/standardized/{fname}')\n",
    "        after_std[fname[:-4]] = len(df[\"standardized_smiles\"])"
   ],
   "id": "1cf2610aea1ab3cd",
   "outputs": [],
   "execution_count": 12
  },
  {
   "metadata": {
    "ExecuteTime": {
     "end_time": "2025-02-16T19:34:04.795376Z",
     "start_time": "2025-02-16T19:34:04.648511Z"
    }
   },
   "cell_type": "code",
   "source": [
    "before_std = {}\n",
    "\n",
    "for fname in os.listdir('../benchmark/data/raw'):\n",
    "    if fname.endswith('.csv'):\n",
    "        df = pd.read_csv(f'../benchmark/data/raw/{fname}')\n",
    "        before_std[fname[:-4]] = len(df[\"canonical_smiles\"])"
   ],
   "id": "8702a8c3d3726cd5",
   "outputs": [],
   "execution_count": 13
  },
  {
   "metadata": {
    "ExecuteTime": {
     "end_time": "2025-02-16T19:34:04.809586Z",
     "start_time": "2025-02-16T19:34:04.800948Z"
    }
   },
   "cell_type": "code",
   "source": [
    "df = pd.DataFrame([before_std, after_std]).T\n",
    "df.index.name = \"Target\"\n",
    "df.columns = [\"Before Standardization\", \"After Standardization\"]\n",
    "df"
   ],
   "id": "d0d8106f294a6cf7",
   "outputs": [
    {
     "data": {
      "text/plain": [
       "                           Before Standardization  After Standardization\n",
       "Target                                                                  \n",
       "target_CHEMBL1865-2.Ki                        351                    339\n",
       "target_CHEMBL2148-2.Ki                        207                    202\n",
       "target_CHEMBL3371-3.Ki                        899                    881\n",
       "target_CHEMBL240-2.Ki                         249                    241\n",
       "target_CHEMBL1163125-1.Ki                     711                    695\n",
       "...                                           ...                    ...\n",
       "target_CHEMBL4794-2.Ki                        283                    277\n",
       "target_CHEMBL325-1.Ki                        1443                   1371\n",
       "target_CHEMBL5251-2.Ki                        223                    207\n",
       "target_CHEMBL253-2.Ki                         566                    502\n",
       "target_CHEMBL264-1.Ki                         624                    587\n",
       "\n",
       "[120 rows x 2 columns]"
      ],
      "text/html": [
       "<div>\n",
       "<style scoped>\n",
       "    .dataframe tbody tr th:only-of-type {\n",
       "        vertical-align: middle;\n",
       "    }\n",
       "\n",
       "    .dataframe tbody tr th {\n",
       "        vertical-align: top;\n",
       "    }\n",
       "\n",
       "    .dataframe thead th {\n",
       "        text-align: right;\n",
       "    }\n",
       "</style>\n",
       "<table border=\"1\" class=\"dataframe\">\n",
       "  <thead>\n",
       "    <tr style=\"text-align: right;\">\n",
       "      <th></th>\n",
       "      <th>Before Standardization</th>\n",
       "      <th>After Standardization</th>\n",
       "    </tr>\n",
       "    <tr>\n",
       "      <th>Target</th>\n",
       "      <th></th>\n",
       "      <th></th>\n",
       "    </tr>\n",
       "  </thead>\n",
       "  <tbody>\n",
       "    <tr>\n",
       "      <th>target_CHEMBL1865-2.Ki</th>\n",
       "      <td>351</td>\n",
       "      <td>339</td>\n",
       "    </tr>\n",
       "    <tr>\n",
       "      <th>target_CHEMBL2148-2.Ki</th>\n",
       "      <td>207</td>\n",
       "      <td>202</td>\n",
       "    </tr>\n",
       "    <tr>\n",
       "      <th>target_CHEMBL3371-3.Ki</th>\n",
       "      <td>899</td>\n",
       "      <td>881</td>\n",
       "    </tr>\n",
       "    <tr>\n",
       "      <th>target_CHEMBL240-2.Ki</th>\n",
       "      <td>249</td>\n",
       "      <td>241</td>\n",
       "    </tr>\n",
       "    <tr>\n",
       "      <th>target_CHEMBL1163125-1.Ki</th>\n",
       "      <td>711</td>\n",
       "      <td>695</td>\n",
       "    </tr>\n",
       "    <tr>\n",
       "      <th>...</th>\n",
       "      <td>...</td>\n",
       "      <td>...</td>\n",
       "    </tr>\n",
       "    <tr>\n",
       "      <th>target_CHEMBL4794-2.Ki</th>\n",
       "      <td>283</td>\n",
       "      <td>277</td>\n",
       "    </tr>\n",
       "    <tr>\n",
       "      <th>target_CHEMBL325-1.Ki</th>\n",
       "      <td>1443</td>\n",
       "      <td>1371</td>\n",
       "    </tr>\n",
       "    <tr>\n",
       "      <th>target_CHEMBL5251-2.Ki</th>\n",
       "      <td>223</td>\n",
       "      <td>207</td>\n",
       "    </tr>\n",
       "    <tr>\n",
       "      <th>target_CHEMBL253-2.Ki</th>\n",
       "      <td>566</td>\n",
       "      <td>502</td>\n",
       "    </tr>\n",
       "    <tr>\n",
       "      <th>target_CHEMBL264-1.Ki</th>\n",
       "      <td>624</td>\n",
       "      <td>587</td>\n",
       "    </tr>\n",
       "  </tbody>\n",
       "</table>\n",
       "<p>120 rows × 2 columns</p>\n",
       "</div>"
      ]
     },
     "execution_count": 14,
     "metadata": {},
     "output_type": "execute_result"
    }
   ],
   "execution_count": 14
  },
  {
   "metadata": {
    "ExecuteTime": {
     "end_time": "2025-02-16T19:34:04.836224Z",
     "start_time": "2025-02-16T19:34:04.833337Z"
    }
   },
   "cell_type": "code",
   "source": [
    "os.makedirs('../benchmark/results/tables', exist_ok=True)\n",
    "os.makedirs('../benchmark/results/figures', exist_ok=True)"
   ],
   "id": "7916e3b08b68e96b",
   "outputs": [],
   "execution_count": 15
  },
  {
   "metadata": {
    "ExecuteTime": {
     "end_time": "2025-02-16T19:34:04.868928Z",
     "start_time": "2025-02-16T19:34:04.863640Z"
    }
   },
   "cell_type": "code",
   "source": "df.to_csv('../benchmark/results/tables/before_and_after_standardization.csv', index=False)",
   "id": "5482cca6d1e76871",
   "outputs": [],
   "execution_count": 16
  },
  {
   "metadata": {},
   "cell_type": "markdown",
   "source": "## Plotting this Relationship",
   "id": "121fee52825178e5"
  },
  {
   "metadata": {
    "ExecuteTime": {
     "end_time": "2025-02-16T19:34:32.299728Z",
     "start_time": "2025-02-16T19:34:32.176644Z"
    }
   },
   "cell_type": "code",
   "source": [
    "# Create the parity plot\n",
    "plt.figure(figsize=(6, 6))\n",
    "sns.scatterplot(x=df[\"Before Standardization\"], y=df[\"After Standardization\"])\n",
    "\n",
    "# Add y = x reference line\n",
    "max_val = max(df[\"Before Standardization\"].max(), df[\"After Standardization\"].max())\n",
    "plt.plot([0, max_val], [0, max_val], linestyle=\"--\", color=\"red\", label=\"No Change\")\n",
    "\n",
    "# Labels and title\n",
    "plt.xlabel(\"No. of Molecules Before Standardization\")\n",
    "plt.ylabel(\"No. of Molecules After Standardization\")\n",
    "plt.legend()\n",
    "\n",
    "# Show the plot\n",
    "plt.title(\"Change in Number of Molecules Before & After Standardization\")\n",
    "plt.savefig('../benchmark/results/figures/before_and_after_standardization.pdf')\n",
    "plt.show()"
   ],
   "id": "4af24c61f87b13b0",
   "outputs": [
    {
     "data": {
      "text/plain": [
       "<Figure size 600x600 with 1 Axes>"
      ],
      "image/png": "[encoded data removed]"
     },
     "metadata": {},
     "output_type": "display_data"
    }
   ],
   "execution_count": 18
  }
 ],
 "metadata": {
  "kernelspec": {
   "display_name": "Python 3",
   "language": "python",
   "name": "python3"
  },
  "language_info": {
   "codemirror_mode": {
    "name": "ipython",
    "version": 2
   },
   "file_extension": ".py",
   "mimetype": "text/x-python",
   "name": "python",
   "nbconvert_exporter": "python",
   "pygments_lexer": "ipython2",
   "version": "2.7.6"
  }
 },
 "nbformat": 4,
 "nbformat_minor": 5
}
