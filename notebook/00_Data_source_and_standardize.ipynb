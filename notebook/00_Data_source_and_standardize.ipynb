{
 "cells": [
  {
   "cell_type": "markdown",
   "id": "6fbc26c24f605b7e",
   "metadata": {},
   "source": [
    "# Step Forward Cross Validation for Bioactivity Prediction"
   ]
  },
  {
   "cell_type": "markdown",
   "id": "1e3c06e7ec765448",
   "metadata": {},
   "source": [
    "# Downloading the Datasets\n",
    "Based on Dataset provided by [Landrum & Riniker's](https://pubs.acs.org/doi/10.1021/acs.jcim.4c00049) `Combining IC50 or Ki Values from Different Sources Is a Source of Significant Noise`\n",
    "\n",
    "[Dataset](https://github.com/rinikerlab/overlapping_assays) can be downloaded from here."
   ]
  },
  {
   "cell_type": "code",
   "execution_count": 1,
   "id": "bf2d658d085f075f",
   "metadata": {
    "ExecuteTime": {
     "end_time": "2025-02-18T03:36:43.842472Z",
     "start_time": "2025-02-18T03:36:35.699662Z"
    }
   },
   "outputs": [
    {
     "name": "stderr",
     "output_type": "stream",
     "text": [
      "Cloning into '../benchmark/landrum'...\n"
     ]
    }
   ],
   "source": [
    "%%bash\n",
    "\n",
    "rm -rf ../benchmark/landrum/\n",
    "git clone https://github.com/rinikerlab/overlapping_assays.git ../benchmark/landrum/\n",
    "mkdir -p ../benchmark/data/raw\n",
    "mv ../benchmark/landrum/datasets/IC50_datasets.yaml ../benchmark/data/\n",
    "gzip -d ../benchmark/landrum/datasets/source_data/*IC50.csv.gz\n",
    "mv ../benchmark/landrum/datasets/source_data/*IC50.csv ../benchmark/data/raw/\n",
    "rm -rf ../benchmark/landrum/"
   ]
  },
  {
   "cell_type": "markdown",
   "id": "7ee2deb93ae21d94",
   "metadata": {},
   "source": [
    "# Standardizing SMILES\n",
    "Standardize SMILES and report Canonical SMILES, Remove Failed SMILES, Deduplicate them, and Save the results in `benchmark/data/standardized`"
   ]
  },
  {
   "cell_type": "code",
   "execution_count": 2,
   "id": "1f7c9759c840b29a",
   "metadata": {
    "ExecuteTime": {
     "end_time": "2025-02-18T03:37:40.221533Z",
     "start_time": "2025-02-18T03:37:39.723737Z"
    }
   },
   "outputs": [],
   "source": [
    "import os\n",
    "\n",
    "import molvs\n",
    "import pandas as pd\n",
    "from rdkit import Chem, RDLogger\n",
    "from tqdm import tqdm"
   ]
  },
  {
   "cell_type": "code",
   "execution_count": 3,
   "id": "b48469b44a223aa",
   "metadata": {
    "ExecuteTime": {
     "end_time": "2025-02-18T03:37:40.622748Z",
     "start_time": "2025-02-18T03:37:40.619667Z"
    }
   },
   "outputs": [],
   "source": [
    "RDLogger.DisableLog(\"rdApp.*\")"
   ]
  },
  {
   "cell_type": "code",
   "execution_count": 4,
   "id": "a6fa1cded200bd2d",
   "metadata": {
    "ExecuteTime": {
     "end_time": "2025-02-18T03:37:44.367750Z",
     "start_time": "2025-02-18T03:37:44.362543Z"
    }
   },
   "outputs": [],
   "source": [
    "os.makedirs('../benchmark/data/standardized/', exist_ok=True)"
   ]
  },
  {
   "cell_type": "code",
   "execution_count": 5,
   "id": "7f0ff064c9a77be7",
   "metadata": {
    "ExecuteTime": {
     "end_time": "2025-02-18T03:37:44.705078Z",
     "start_time": "2025-02-18T03:37:44.685198Z"
    }
   },
   "outputs": [],
   "source": [
    "md = molvs.metal.MetalDisconnector()\n",
    "lfc = molvs.fragment.LargestFragmentChooser()\n",
    "uc = molvs.charge.Uncharger()"
   ]
  },
  {
   "cell_type": "markdown",
   "id": "1b5630aaeb77bbee",
   "metadata": {},
   "source": [
    "## Note on Standardization of SMILES\n",
    "\n",
    "Standardization is based on checking if the input SMILES (in the dataset) is valid, and then disconnecting the metal(/s), Choosing the largest organic fragment (here, organic means the fragment which has at least one carbon) and finally un-charging the molecule. This molecule then, if valid, is converted into canonical SMILES and returned as a string. If there is any error in this process, None is returned."
   ]
  },
  {
   "cell_type": "code",
   "execution_count": 6,
   "id": "4fe8f54839eadc6d",
   "metadata": {
    "ExecuteTime": {
     "end_time": "2025-02-18T03:37:47.138954Z",
     "start_time": "2025-02-18T03:37:47.136007Z"
    }
   },
   "outputs": [],
   "source": [
    "def standardize_smiles(smiles):\n",
    "    std_smiles = molvs.standardize.standardize_smiles(smiles)\n",
    "    std_mol = Chem.MolFromSmiles(std_smiles)\n",
    "    std_mol = md.disconnect(std_mol)\n",
    "    std_mol = lfc.choose(std_mol)\n",
    "    std_mol = uc.uncharge(std_mol)\n",
    "    std_smi = Chem.MolToSmiles(std_mol)\n",
    "    if not molvs.validate.validate_smiles(std_smi):\n",
    "        #     std_smi = molvs.standardize.canonicalize_tautomer_smiles(std_smi) # Too Slow\n",
    "        return std_smi"
   ]
  },
  {
   "cell_type": "code",
   "execution_count": 7,
   "id": "236e95727a84af2a",
   "metadata": {
    "ExecuteTime": {
     "end_time": "2025-02-18T03:39:17.648457Z",
     "start_time": "2025-02-18T03:37:53.461475Z"
    }
   },
   "outputs": [
    {
     "name": "stderr",
     "output_type": "stream",
     "text": [
      "standardize: 100%|██████████| 67/67 [01:24<00:00,  1.26s/it]\n",
      "standardize:  42%|████▏     | 28/67 [00:33<00:49,  1.28s/it]"
     ]
    }
   ],
   "source": [
    "for fname in tqdm(os.listdir('../benchmark/data/raw/'), desc=\"standardize\"):\n",
    "    if fname.endswith('.csv'):\n",
    "        df = pd.read_csv(f'../benchmark/data/raw/{fname}')\n",
    "        df[\"standardized_smiles\"] = df[\"canonical_smiles\"].apply(standardize_smiles)\n",
    "        df.dropna(subset=[\"standardized_smiles\"], inplace=True)\n",
    "        df.drop_duplicates(subset=[\"standardized_smiles\"], inplace=True)\n",
    "        df.to_csv(f'../benchmark/data/standardized/{fname}', index=False)"
   ]
  }
 ],
 "metadata": {
  "kernelspec": {
   "display_name": "Python 3 (ipykernel)",
   "language": "python",
   "name": "python3"
  },
  "language_info": {
   "codemirror_mode": {
    "name": "ipython",
    "version": 3
   },
   "file_extension": ".py",
   "mimetype": "text/x-python",
   "name": "python",
   "nbconvert_exporter": "python",
   "pygments_lexer": "ipython3",
   "version": "3.11.11"
  }
 },
 "nbformat": 4,
 "nbformat_minor": 5
}
