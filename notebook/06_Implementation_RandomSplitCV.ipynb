{
 "cells": [
  {
   "cell_type": "markdown",
   "id": "89a0cf05d90e58ad",
   "metadata": {},
   "source": [
    "# Step Forward Cross Validation for Bioactivity Prediction"
   ]
  },
  {
   "cell_type": "markdown",
   "id": "d17f532fa7b9a50d",
   "metadata": {},
   "source": [
    "## Implmenetation of RandomSplitCV"
   ]
  },
  {
   "cell_type": "code",
   "execution_count": 1,
   "id": "653983cead966004",
   "metadata": {
    "ExecuteTime": {
     "end_time": "2025-02-18T04:12:44.315685Z",
     "start_time": "2025-02-18T04:12:44.061323Z"
    }
   },
   "outputs": [],
   "source": [
    "import numpy as np\n",
    "import pandas as pd"
   ]
  },
  {
   "cell_type": "code",
   "execution_count": 2,
   "id": "9604977ddd540bf4",
   "metadata": {
    "ExecuteTime": {
     "end_time": "2025-02-18T04:12:45.892628Z",
     "start_time": "2025-02-18T04:12:45.886991Z"
    }
   },
   "outputs": [],
   "source": [
    "class RandomSplitCV:\n",
    "    def __init__(self, frac_train=0.9, n_folds=10, seed=69420):\n",
    "        self.frac_train = frac_train\n",
    "        self.n_folds = n_folds\n",
    "        self.seed = seed\n",
    "\n",
    "    def split(self, df):\n",
    "        n_total = len(df)\n",
    "        indices = np.arange(n_total)\n",
    "\n",
    "        for i in range(1, self.n_folds):\n",
    "            fold_seed = self.seed * i\n",
    "            rng = np.random.RandomState(fold_seed)\n",
    "            shuffled_indices = rng.permutation(indices)\n",
    "\n",
    "            n_train = int(np.floor(self.frac_train * n_total))\n",
    "            train_indices = shuffled_indices[:n_train]\n",
    "            test_indices = shuffled_indices[n_train:]\n",
    "\n",
    "            yield train_indices, test_indices"
   ]
  },
  {
   "cell_type": "code",
   "execution_count": 3,
   "id": "7d33ad22fad3ae2e",
   "metadata": {
    "ExecuteTime": {
     "end_time": "2025-02-18T04:12:47.386575Z",
     "start_time": "2025-02-18T04:12:47.382841Z"
    }
   },
   "outputs": [],
   "source": [
    "random_cv = RandomSplitCV()"
   ]
  },
  {
   "cell_type": "code",
   "execution_count": 4,
   "id": "93145ec31b3be81e",
   "metadata": {
    "ExecuteTime": {
     "end_time": "2025-02-18T04:12:56.683265Z",
     "start_time": "2025-02-18T04:12:56.668996Z"
    }
   },
   "outputs": [],
   "source": [
    "df = pd.read_csv(\"../benchmark/data/processed/target_CHEMBL1865-1.IC50.csv\")"
   ]
  },
  {
   "cell_type": "code",
   "execution_count": 5,
   "id": "f1a469332a8fc726",
   "metadata": {
    "ExecuteTime": {
     "end_time": "2025-02-18T04:13:00.837107Z",
     "start_time": "2025-02-18T04:13:00.830514Z"
    }
   },
   "outputs": [
    {
     "name": "stdout",
     "output_type": "stream",
     "text": [
      "Fold [1] => Train [624 (89.91%)] + Test [70 (10.09%)]\n",
      "Fold [2] => Train [624 (89.91%)] + Test [70 (10.09%)]\n",
      "Fold [3] => Train [624 (89.91%)] + Test [70 (10.09%)]\n",
      "Fold [4] => Train [624 (89.91%)] + Test [70 (10.09%)]\n",
      "Fold [5] => Train [624 (89.91%)] + Test [70 (10.09%)]\n",
      "Fold [6] => Train [624 (89.91%)] + Test [70 (10.09%)]\n",
      "Fold [7] => Train [624 (89.91%)] + Test [70 (10.09%)]\n",
      "Fold [8] => Train [624 (89.91%)] + Test [70 (10.09%)]\n",
      "Fold [9] => Train [624 (89.91%)] + Test [70 (10.09%)]\n"
     ]
    }
   ],
   "source": [
    "for i, (train_idx, test_idx) in enumerate(random_cv.split(df)):\n",
    "    print(\n",
    "        f\"Fold [{i + 1}] => Train [{len(train_idx)} ({len(train_idx) / (len(train_idx) + len(test_idx)) * 100:.2f}%)] + Test [{len(test_idx)} ({len(test_idx) / (len(train_idx) + len(test_idx)) * 100:.2f}%)]\")"
   ]
  }
 ],
 "metadata": {
  "kernelspec": {
   "display_name": "Python 3 (ipykernel)",
   "language": "python",
   "name": "python3"
  },
  "language_info": {
   "codemirror_mode": {
    "name": "ipython",
    "version": 3
   },
   "file_extension": ".py",
   "mimetype": "text/x-python",
   "name": "python",
   "nbconvert_exporter": "python",
   "pygments_lexer": "ipython3",
   "version": "3.11.11"
  }
 },
 "nbformat": 4,
 "nbformat_minor": 5
}
