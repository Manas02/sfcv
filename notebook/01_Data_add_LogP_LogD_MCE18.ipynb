{
 "cells": [
  {
   "metadata": {},
   "cell_type": "markdown",
   "source": "# Step Forward Cross Validation for Bioactivity Prediction",
   "id": "120a3fb7e3a011a6"
  },
  {
   "metadata": {},
   "cell_type": "markdown",
   "source": "## Predicting LogP, LogD and Computing MCE-18 as sorting variables",
   "id": "bfe0512e3594fbb1"
  },
  {
   "metadata": {
    "ExecuteTime": {
     "end_time": "2025-02-16T17:13:49.474104Z",
     "start_time": "2025-02-16T17:13:49.472703Z"
    }
   },
   "cell_type": "code",
   "source": "",
   "id": "d1e824a63f99be53",
   "outputs": [],
   "execution_count": null
  },
  {
   "metadata": {
    "ExecuteTime": {
     "end_time": "2025-02-16T17:13:49.557771Z",
     "start_time": "2025-02-16T17:13:49.556283Z"
    }
   },
   "cell_type": "code",
   "source": "",
   "id": "61a9ec1ef9d029a6",
   "outputs": [],
   "execution_count": null
  },
  {
   "metadata": {
    "ExecuteTime": {
     "end_time": "2025-02-16T17:13:49.565914Z",
     "start_time": "2025-02-16T17:13:49.564761Z"
    }
   },
   "cell_type": "code",
   "source": "",
   "id": "9ec6ad6315da27e7",
   "outputs": [],
   "execution_count": null
  },
  {
   "metadata": {
    "ExecuteTime": {
     "end_time": "2025-02-16T17:13:49.697905Z",
     "start_time": "2025-02-16T17:13:49.696323Z"
    }
   },
   "cell_type": "code",
   "source": "",
   "id": "dd5955c8c1596155",
   "outputs": [],
   "execution_count": null
  },
  {
   "metadata": {
    "ExecuteTime": {
     "end_time": "2025-02-16T17:13:49.840876Z",
     "start_time": "2025-02-16T17:13:49.839135Z"
    }
   },
   "cell_type": "code",
   "source": "",
   "id": "bb4ff533ee743293",
   "outputs": [],
   "execution_count": null
  },
  {
   "metadata": {
    "ExecuteTime": {
     "end_time": "2025-02-16T17:13:49.991423Z",
     "start_time": "2025-02-16T17:13:49.989979Z"
    }
   },
   "cell_type": "code",
   "source": "",
   "id": "923c11b45b86a417",
   "outputs": [],
   "execution_count": null
  },
  {
   "metadata": {
    "ExecuteTime": {
     "end_time": "2025-02-16T17:13:50.230243Z",
     "start_time": "2025-02-16T17:13:50.228147Z"
    }
   },
   "cell_type": "code",
   "source": "",
   "id": "804c9f77d76107a1",
   "outputs": [],
   "execution_count": null
  },
  {
   "metadata": {},
   "cell_type": "code",
   "outputs": [],
   "execution_count": null,
   "source": "",
   "id": "891d36e5b8493c8d"
  }
 ],
 "metadata": {
  "kernelspec": {
   "display_name": "Python 3",
   "language": "python",
   "name": "python3"
  },
  "language_info": {
   "codemirror_mode": {
    "name": "ipython",
    "version": 2
   },
   "file_extension": ".py",
   "mimetype": "text/x-python",
   "name": "python",
   "nbconvert_exporter": "python",
   "pygments_lexer": "ipython2",
   "version": "2.7.6"
  }
 },
 "nbformat": 4,
 "nbformat_minor": 5
}
